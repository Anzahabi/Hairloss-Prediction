{
  "nbformat": 4,
  "nbformat_minor": 0,
  "metadata": {
    "colab": {
      "provenance": [],
      "toc_visible": true,
      "collapsed_sections": [
        "rX-JNAQ4H4VC",
        "BkwNW89tHzIE",
        "M8bwekSzbkbq",
        "LR_i-toPeLuT",
        "Rax1o2PBnAOL",
        "JRRTbVz8ouoc",
        "9CGnNSaBoxY4",
        "JQT-UDyupPy2",
        "NpLV1943pTSa",
        "kByWHjF3paFu",
        "VNqdsFo_ueKE",
        "8jc8s6Kmuhxl"
      ]
    },
    "kernelspec": {
      "name": "python3",
      "display_name": "Python 3"
    },
    "language_info": {
      "name": "python"
    }
  },
  "cells": [
    {
      "cell_type": "markdown",
      "source": [
        "# Hair Loss Prediction"
      ],
      "metadata": {
        "id": "eWscKCbQgXEy"
      }
    },
    {
      "cell_type": "markdown",
      "source": [
        "by Muhammad Garin Anzahabi "
      ],
      "metadata": {
        "id": "C987TYnfgg7h"
      }
    },
    {
      "cell_type": "markdown",
      "source": [
        "Milestones 2 - Phase 1 Hacktiv8"
      ],
      "metadata": {
        "id": "qLoCi-sqgjK9"
      }
    },
    {
      "cell_type": "markdown",
      "source": [
        "In here i will make a machine learning model to predict somebody's hair loss level based on kaggle dataset. This dataset that i use shows a 400 days progress from a person name Luke, he measure his hair every day for 400 days and note his everyday activities. The way that he measure his hair loss is that you put your one hand on your forehead, then move your hand towards the back of your head, make sure that your fingers is seperated and travel through your hairs. After this, count how many hairs that fell on your hand. Under 3(Low) means normal hair fall-off, a 4-6(Medium) means you have a slight hair loss symptom, if it's 6-10(Many) means you are experiencing hair losses, and over 10(A lot) indicates that you could have serious hair loss symptoms."
      ],
      "metadata": {
        "id": "B-K7w-_WidU1"
      }
    },
    {
      "cell_type": "markdown",
      "source": [
        "link kaggle dataset : https://www.kaggle.com/datasets/lukexun/luke-hair-loss-dataset"
      ],
      "metadata": {
        "id": "v7VSANApTmrV"
      }
    },
    {
      "cell_type": "markdown",
      "source": [
        "link huggingface : https://huggingface.co/spaces/anzahabi/MuhammadGarinAnzahabi_HCK002"
      ],
      "metadata": {
        "id": "OIAIllahTqQf"
      }
    },
    {
      "cell_type": "markdown",
      "source": [
        "```Scientifical Test Method Name : Pull Test and Tug Test```\n"
      ],
      "metadata": {
        "id": "B_avlDXAkfaB"
      }
    },
    {
      "cell_type": "markdown",
      "source": [
        "# Import Libraries"
      ],
      "metadata": {
        "id": "GF-iqMTTk5YS"
      }
    },
    {
      "cell_type": "markdown",
      "source": [
        "Here shows every library that i will use"
      ],
      "metadata": {
        "id": "XtHCB1ezk7pZ"
      }
    },
    {
      "cell_type": "code",
      "source": [
        "import pandas as pd\n",
        "import seaborn as sns\n",
        "import numpy as np\n",
        "import matplotlib.pyplot as plt\n",
        "\n",
        "# For Train Test Split\n",
        "from sklearn.model_selection import train_test_split\n",
        "\n",
        "# For VIF testing\n",
        "from statsmodels.stats.outliers_influence import variance_inflation_factor\n",
        "\n",
        "# Oversampling\n",
        "from imblearn.over_sampling import SMOTE\n",
        "\n",
        "# Encode\n",
        "from sklearn.preprocessing import OrdinalEncoder\n",
        "from sklearn.preprocessing import OneHotEncoder\n",
        "\n",
        "# Scalling\n",
        "from sklearn.preprocessing import MinMaxScaler\n",
        "\n",
        "# Categorical Feature Selection\n",
        "from sklearn.feature_selection import chi2\n",
        "from sklearn.feature_selection import SelectKBest\n",
        "from sklearn.feature_selection import mutual_info_classif\n",
        "\n",
        "# Pipeline\n",
        "from sklearn.pipeline import Pipeline\n",
        "from sklearn.compose import ColumnTransformer\n",
        "from imblearn.over_sampling import SMOTENC\n",
        "from imblearn.pipeline import Pipeline as imbpipe\n",
        "\n",
        "# Model\n",
        "from sklearn.ensemble import RandomForestClassifier\n",
        "from sklearn.tree import DecisionTreeClassifier\n",
        "from sklearn.neighbors import KNeighborsClassifier\n",
        "from sklearn.ensemble import AdaBoostClassifier\n",
        "\n",
        "# For Cross Validation\n",
        "from sklearn.model_selection import cross_val_score\n",
        "\n",
        "# Report\n",
        "from sklearn.metrics import accuracy_score,classification_report,ConfusionMatrixDisplay,confusion_matrix\n",
        "\n",
        "# For Hyperparamter Tuning\n",
        "from sklearn.model_selection import RandomizedSearchCV"
      ],
      "metadata": {
        "id": "q3OqM5chk_9A"
      },
      "execution_count": null,
      "outputs": []
    },
    {
      "cell_type": "markdown",
      "source": [
        "# Data Loading"
      ],
      "metadata": {
        "id": "tqnuQW-Fh58E"
      }
    },
    {
      "cell_type": "code",
      "execution_count": null,
      "metadata": {
        "id": "0GDvEdXufkBZ"
      },
      "outputs": [],
      "source": [
        "Data = pd.read_csv('/content/Luke_hair_loss_documentation.csv')"
      ]
    },
    {
      "cell_type": "code",
      "source": [
        "# Duplicate for EDA purposes only\n",
        "\n",
        "Dataset = Data.copy()"
      ],
      "metadata": {
        "id": "ZBmPOjBLlv70"
      },
      "execution_count": null,
      "outputs": []
    },
    {
      "cell_type": "code",
      "source": [
        "Data.head()"
      ],
      "metadata": {
        "colab": {
          "base_uri": "https://localhost:8080/",
          "height": 270
        },
        "id": "vIqjxXIllMkJ",
        "outputId": "04886d36-27d2-4842-f893-8da842830fd3"
      },
      "execution_count": null,
      "outputs": [
        {
          "output_type": "execute_result",
          "data": {
            "text/plain": [
              "       date  hair_loss  stay_up_late pressure_level  coffee_consumed  \\\n",
              "0  1/01/2021       Few             2            Low                0   \n",
              "1  2/01/2021       Few             0            Low                0   \n",
              "2  3/01/2021    Medium             3            Low                1   \n",
              "3  4/01/2021       Few             2            Low                0   \n",
              "4  5/01/2021       Few             2            Low                0   \n",
              "\n",
              "   brain_working_duration school_assesssment stress_level shampoo_brand  \\\n",
              "0                       1               None          Low       Pantene   \n",
              "1                       3               None          Low       Pantene   \n",
              "2                       0               None          Low       Pantene   \n",
              "3                       1               None          Low       Pantene   \n",
              "4                       1               None          Low       Pantene   \n",
              "\n",
              "  swimming hair_washing  hair_grease dandruff  libido  \n",
              "0       No            Y          3.0     None       1  \n",
              "1       No            N          1.0     None       1  \n",
              "2      Yes            Y          2.0     None       2  \n",
              "3       No            N          3.0     None       3  \n",
              "4       No            Y          1.0     None       2  "
            ],
            "text/html": [
              "\n",
              "  <div id=\"df-e54edc03-d49b-4df2-8701-f64137f765eb\">\n",
              "    <div class=\"colab-df-container\">\n",
              "      <div>\n",
              "<style scoped>\n",
              "    .dataframe tbody tr th:only-of-type {\n",
              "        vertical-align: middle;\n",
              "    }\n",
              "\n",
              "    .dataframe tbody tr th {\n",
              "        vertical-align: top;\n",
              "    }\n",
              "\n",
              "    .dataframe thead th {\n",
              "        text-align: right;\n",
              "    }\n",
              "</style>\n",
              "<table border=\"1\" class=\"dataframe\">\n",
              "  <thead>\n",
              "    <tr style=\"text-align: right;\">\n",
              "      <th></th>\n",
              "      <th>date</th>\n",
              "      <th>hair_loss</th>\n",
              "      <th>stay_up_late</th>\n",
              "      <th>pressure_level</th>\n",
              "      <th>coffee_consumed</th>\n",
              "      <th>brain_working_duration</th>\n",
              "      <th>school_assesssment</th>\n",
              "      <th>stress_level</th>\n",
              "      <th>shampoo_brand</th>\n",
              "      <th>swimming</th>\n",
              "      <th>hair_washing</th>\n",
              "      <th>hair_grease</th>\n",
              "      <th>dandruff</th>\n",
              "      <th>libido</th>\n",
              "    </tr>\n",
              "  </thead>\n",
              "  <tbody>\n",
              "    <tr>\n",
              "      <th>0</th>\n",
              "      <td>1/01/2021</td>\n",
              "      <td>Few</td>\n",
              "      <td>2</td>\n",
              "      <td>Low</td>\n",
              "      <td>0</td>\n",
              "      <td>1</td>\n",
              "      <td>None</td>\n",
              "      <td>Low</td>\n",
              "      <td>Pantene</td>\n",
              "      <td>No</td>\n",
              "      <td>Y</td>\n",
              "      <td>3.0</td>\n",
              "      <td>None</td>\n",
              "      <td>1</td>\n",
              "    </tr>\n",
              "    <tr>\n",
              "      <th>1</th>\n",
              "      <td>2/01/2021</td>\n",
              "      <td>Few</td>\n",
              "      <td>0</td>\n",
              "      <td>Low</td>\n",
              "      <td>0</td>\n",
              "      <td>3</td>\n",
              "      <td>None</td>\n",
              "      <td>Low</td>\n",
              "      <td>Pantene</td>\n",
              "      <td>No</td>\n",
              "      <td>N</td>\n",
              "      <td>1.0</td>\n",
              "      <td>None</td>\n",
              "      <td>1</td>\n",
              "    </tr>\n",
              "    <tr>\n",
              "      <th>2</th>\n",
              "      <td>3/01/2021</td>\n",
              "      <td>Medium</td>\n",
              "      <td>3</td>\n",
              "      <td>Low</td>\n",
              "      <td>1</td>\n",
              "      <td>0</td>\n",
              "      <td>None</td>\n",
              "      <td>Low</td>\n",
              "      <td>Pantene</td>\n",
              "      <td>Yes</td>\n",
              "      <td>Y</td>\n",
              "      <td>2.0</td>\n",
              "      <td>None</td>\n",
              "      <td>2</td>\n",
              "    </tr>\n",
              "    <tr>\n",
              "      <th>3</th>\n",
              "      <td>4/01/2021</td>\n",
              "      <td>Few</td>\n",
              "      <td>2</td>\n",
              "      <td>Low</td>\n",
              "      <td>0</td>\n",
              "      <td>1</td>\n",
              "      <td>None</td>\n",
              "      <td>Low</td>\n",
              "      <td>Pantene</td>\n",
              "      <td>No</td>\n",
              "      <td>N</td>\n",
              "      <td>3.0</td>\n",
              "      <td>None</td>\n",
              "      <td>3</td>\n",
              "    </tr>\n",
              "    <tr>\n",
              "      <th>4</th>\n",
              "      <td>5/01/2021</td>\n",
              "      <td>Few</td>\n",
              "      <td>2</td>\n",
              "      <td>Low</td>\n",
              "      <td>0</td>\n",
              "      <td>1</td>\n",
              "      <td>None</td>\n",
              "      <td>Low</td>\n",
              "      <td>Pantene</td>\n",
              "      <td>No</td>\n",
              "      <td>Y</td>\n",
              "      <td>1.0</td>\n",
              "      <td>None</td>\n",
              "      <td>2</td>\n",
              "    </tr>\n",
              "  </tbody>\n",
              "</table>\n",
              "</div>\n",
              "      <button class=\"colab-df-convert\" onclick=\"convertToInteractive('df-e54edc03-d49b-4df2-8701-f64137f765eb')\"\n",
              "              title=\"Convert this dataframe to an interactive table.\"\n",
              "              style=\"display:none;\">\n",
              "        \n",
              "  <svg xmlns=\"http://www.w3.org/2000/svg\" height=\"24px\"viewBox=\"0 0 24 24\"\n",
              "       width=\"24px\">\n",
              "    <path d=\"M0 0h24v24H0V0z\" fill=\"none\"/>\n",
              "    <path d=\"M18.56 5.44l.94 2.06.94-2.06 2.06-.94-2.06-.94-.94-2.06-.94 2.06-2.06.94zm-11 1L8.5 8.5l.94-2.06 2.06-.94-2.06-.94L8.5 2.5l-.94 2.06-2.06.94zm10 10l.94 2.06.94-2.06 2.06-.94-2.06-.94-.94-2.06-.94 2.06-2.06.94z\"/><path d=\"M17.41 7.96l-1.37-1.37c-.4-.4-.92-.59-1.43-.59-.52 0-1.04.2-1.43.59L10.3 9.45l-7.72 7.72c-.78.78-.78 2.05 0 2.83L4 21.41c.39.39.9.59 1.41.59.51 0 1.02-.2 1.41-.59l7.78-7.78 2.81-2.81c.8-.78.8-2.07 0-2.86zM5.41 20L4 18.59l7.72-7.72 1.47 1.35L5.41 20z\"/>\n",
              "  </svg>\n",
              "      </button>\n",
              "      \n",
              "  <style>\n",
              "    .colab-df-container {\n",
              "      display:flex;\n",
              "      flex-wrap:wrap;\n",
              "      gap: 12px;\n",
              "    }\n",
              "\n",
              "    .colab-df-convert {\n",
              "      background-color: #E8F0FE;\n",
              "      border: none;\n",
              "      border-radius: 50%;\n",
              "      cursor: pointer;\n",
              "      display: none;\n",
              "      fill: #1967D2;\n",
              "      height: 32px;\n",
              "      padding: 0 0 0 0;\n",
              "      width: 32px;\n",
              "    }\n",
              "\n",
              "    .colab-df-convert:hover {\n",
              "      background-color: #E2EBFA;\n",
              "      box-shadow: 0px 1px 2px rgba(60, 64, 67, 0.3), 0px 1px 3px 1px rgba(60, 64, 67, 0.15);\n",
              "      fill: #174EA6;\n",
              "    }\n",
              "\n",
              "    [theme=dark] .colab-df-convert {\n",
              "      background-color: #3B4455;\n",
              "      fill: #D2E3FC;\n",
              "    }\n",
              "\n",
              "    [theme=dark] .colab-df-convert:hover {\n",
              "      background-color: #434B5C;\n",
              "      box-shadow: 0px 1px 3px 1px rgba(0, 0, 0, 0.15);\n",
              "      filter: drop-shadow(0px 1px 2px rgba(0, 0, 0, 0.3));\n",
              "      fill: #FFFFFF;\n",
              "    }\n",
              "  </style>\n",
              "\n",
              "      <script>\n",
              "        const buttonEl =\n",
              "          document.querySelector('#df-e54edc03-d49b-4df2-8701-f64137f765eb button.colab-df-convert');\n",
              "        buttonEl.style.display =\n",
              "          google.colab.kernel.accessAllowed ? 'block' : 'none';\n",
              "\n",
              "        async function convertToInteractive(key) {\n",
              "          const element = document.querySelector('#df-e54edc03-d49b-4df2-8701-f64137f765eb');\n",
              "          const dataTable =\n",
              "            await google.colab.kernel.invokeFunction('convertToInteractive',\n",
              "                                                     [key], {});\n",
              "          if (!dataTable) return;\n",
              "\n",
              "          const docLinkHtml = 'Like what you see? Visit the ' +\n",
              "            '<a target=\"_blank\" href=https://colab.research.google.com/notebooks/data_table.ipynb>data table notebook</a>'\n",
              "            + ' to learn more about interactive tables.';\n",
              "          element.innerHTML = '';\n",
              "          dataTable['output_type'] = 'display_data';\n",
              "          await google.colab.output.renderOutput(dataTable, element);\n",
              "          const docLink = document.createElement('div');\n",
              "          docLink.innerHTML = docLinkHtml;\n",
              "          element.appendChild(docLink);\n",
              "        }\n",
              "      </script>\n",
              "    </div>\n",
              "  </div>\n",
              "  "
            ]
          },
          "metadata": {},
          "execution_count": 370
        }
      ]
    },
    {
      "cell_type": "code",
      "source": [
        "Data.tail()"
      ],
      "metadata": {
        "colab": {
          "base_uri": "https://localhost:8080/",
          "height": 270
        },
        "id": "RaMpZorRlNZT",
        "outputId": "2079f21f-9e32-477a-8511-675c121a91c3"
      },
      "execution_count": null,
      "outputs": [
        {
          "output_type": "execute_result",
          "data": {
            "text/plain": [
              "          date  hair_loss  stay_up_late pressure_level  coffee_consumed  \\\n",
              "395  31/01/2022    Medium             1            Low                1   \n",
              "396   1/02/2022       Few             1            Low                0   \n",
              "397   2/02/2022    Medium             1            Low                1   \n",
              "398   3/02/2022    Medium             0            Low                1   \n",
              "399   4/02/2022       Few             1            Low                0   \n",
              "\n",
              "     brain_working_duration school_assesssment stress_level    shampoo_brand  \\\n",
              "395                       2               None          Low  Hair & Shoulder   \n",
              "396                       3               None          Low  Hair & Shoulder   \n",
              "397                       1               None          Low  Hair & Shoulder   \n",
              "398                       1               None          Low  Hair & Shoulder   \n",
              "399                       2               None          Low  Hair & Shoulder   \n",
              "\n",
              "    swimming hair_washing  hair_grease dandruff  libido  \n",
              "395       No            N          1.0     None       5  \n",
              "396      Yes            Y          2.0     None       1  \n",
              "397       No            N          2.0     None       5  \n",
              "398       No            N          2.0     None       5  \n",
              "399      Yes            Y          2.0     None       1  "
            ],
            "text/html": [
              "\n",
              "  <div id=\"df-449231e3-a3c0-4331-8020-62106199deec\">\n",
              "    <div class=\"colab-df-container\">\n",
              "      <div>\n",
              "<style scoped>\n",
              "    .dataframe tbody tr th:only-of-type {\n",
              "        vertical-align: middle;\n",
              "    }\n",
              "\n",
              "    .dataframe tbody tr th {\n",
              "        vertical-align: top;\n",
              "    }\n",
              "\n",
              "    .dataframe thead th {\n",
              "        text-align: right;\n",
              "    }\n",
              "</style>\n",
              "<table border=\"1\" class=\"dataframe\">\n",
              "  <thead>\n",
              "    <tr style=\"text-align: right;\">\n",
              "      <th></th>\n",
              "      <th>date</th>\n",
              "      <th>hair_loss</th>\n",
              "      <th>stay_up_late</th>\n",
              "      <th>pressure_level</th>\n",
              "      <th>coffee_consumed</th>\n",
              "      <th>brain_working_duration</th>\n",
              "      <th>school_assesssment</th>\n",
              "      <th>stress_level</th>\n",
              "      <th>shampoo_brand</th>\n",
              "      <th>swimming</th>\n",
              "      <th>hair_washing</th>\n",
              "      <th>hair_grease</th>\n",
              "      <th>dandruff</th>\n",
              "      <th>libido</th>\n",
              "    </tr>\n",
              "  </thead>\n",
              "  <tbody>\n",
              "    <tr>\n",
              "      <th>395</th>\n",
              "      <td>31/01/2022</td>\n",
              "      <td>Medium</td>\n",
              "      <td>1</td>\n",
              "      <td>Low</td>\n",
              "      <td>1</td>\n",
              "      <td>2</td>\n",
              "      <td>None</td>\n",
              "      <td>Low</td>\n",
              "      <td>Hair &amp; Shoulder</td>\n",
              "      <td>No</td>\n",
              "      <td>N</td>\n",
              "      <td>1.0</td>\n",
              "      <td>None</td>\n",
              "      <td>5</td>\n",
              "    </tr>\n",
              "    <tr>\n",
              "      <th>396</th>\n",
              "      <td>1/02/2022</td>\n",
              "      <td>Few</td>\n",
              "      <td>1</td>\n",
              "      <td>Low</td>\n",
              "      <td>0</td>\n",
              "      <td>3</td>\n",
              "      <td>None</td>\n",
              "      <td>Low</td>\n",
              "      <td>Hair &amp; Shoulder</td>\n",
              "      <td>Yes</td>\n",
              "      <td>Y</td>\n",
              "      <td>2.0</td>\n",
              "      <td>None</td>\n",
              "      <td>1</td>\n",
              "    </tr>\n",
              "    <tr>\n",
              "      <th>397</th>\n",
              "      <td>2/02/2022</td>\n",
              "      <td>Medium</td>\n",
              "      <td>1</td>\n",
              "      <td>Low</td>\n",
              "      <td>1</td>\n",
              "      <td>1</td>\n",
              "      <td>None</td>\n",
              "      <td>Low</td>\n",
              "      <td>Hair &amp; Shoulder</td>\n",
              "      <td>No</td>\n",
              "      <td>N</td>\n",
              "      <td>2.0</td>\n",
              "      <td>None</td>\n",
              "      <td>5</td>\n",
              "    </tr>\n",
              "    <tr>\n",
              "      <th>398</th>\n",
              "      <td>3/02/2022</td>\n",
              "      <td>Medium</td>\n",
              "      <td>0</td>\n",
              "      <td>Low</td>\n",
              "      <td>1</td>\n",
              "      <td>1</td>\n",
              "      <td>None</td>\n",
              "      <td>Low</td>\n",
              "      <td>Hair &amp; Shoulder</td>\n",
              "      <td>No</td>\n",
              "      <td>N</td>\n",
              "      <td>2.0</td>\n",
              "      <td>None</td>\n",
              "      <td>5</td>\n",
              "    </tr>\n",
              "    <tr>\n",
              "      <th>399</th>\n",
              "      <td>4/02/2022</td>\n",
              "      <td>Few</td>\n",
              "      <td>1</td>\n",
              "      <td>Low</td>\n",
              "      <td>0</td>\n",
              "      <td>2</td>\n",
              "      <td>None</td>\n",
              "      <td>Low</td>\n",
              "      <td>Hair &amp; Shoulder</td>\n",
              "      <td>Yes</td>\n",
              "      <td>Y</td>\n",
              "      <td>2.0</td>\n",
              "      <td>None</td>\n",
              "      <td>1</td>\n",
              "    </tr>\n",
              "  </tbody>\n",
              "</table>\n",
              "</div>\n",
              "      <button class=\"colab-df-convert\" onclick=\"convertToInteractive('df-449231e3-a3c0-4331-8020-62106199deec')\"\n",
              "              title=\"Convert this dataframe to an interactive table.\"\n",
              "              style=\"display:none;\">\n",
              "        \n",
              "  <svg xmlns=\"http://www.w3.org/2000/svg\" height=\"24px\"viewBox=\"0 0 24 24\"\n",
              "       width=\"24px\">\n",
              "    <path d=\"M0 0h24v24H0V0z\" fill=\"none\"/>\n",
              "    <path d=\"M18.56 5.44l.94 2.06.94-2.06 2.06-.94-2.06-.94-.94-2.06-.94 2.06-2.06.94zm-11 1L8.5 8.5l.94-2.06 2.06-.94-2.06-.94L8.5 2.5l-.94 2.06-2.06.94zm10 10l.94 2.06.94-2.06 2.06-.94-2.06-.94-.94-2.06-.94 2.06-2.06.94z\"/><path d=\"M17.41 7.96l-1.37-1.37c-.4-.4-.92-.59-1.43-.59-.52 0-1.04.2-1.43.59L10.3 9.45l-7.72 7.72c-.78.78-.78 2.05 0 2.83L4 21.41c.39.39.9.59 1.41.59.51 0 1.02-.2 1.41-.59l7.78-7.78 2.81-2.81c.8-.78.8-2.07 0-2.86zM5.41 20L4 18.59l7.72-7.72 1.47 1.35L5.41 20z\"/>\n",
              "  </svg>\n",
              "      </button>\n",
              "      \n",
              "  <style>\n",
              "    .colab-df-container {\n",
              "      display:flex;\n",
              "      flex-wrap:wrap;\n",
              "      gap: 12px;\n",
              "    }\n",
              "\n",
              "    .colab-df-convert {\n",
              "      background-color: #E8F0FE;\n",
              "      border: none;\n",
              "      border-radius: 50%;\n",
              "      cursor: pointer;\n",
              "      display: none;\n",
              "      fill: #1967D2;\n",
              "      height: 32px;\n",
              "      padding: 0 0 0 0;\n",
              "      width: 32px;\n",
              "    }\n",
              "\n",
              "    .colab-df-convert:hover {\n",
              "      background-color: #E2EBFA;\n",
              "      box-shadow: 0px 1px 2px rgba(60, 64, 67, 0.3), 0px 1px 3px 1px rgba(60, 64, 67, 0.15);\n",
              "      fill: #174EA6;\n",
              "    }\n",
              "\n",
              "    [theme=dark] .colab-df-convert {\n",
              "      background-color: #3B4455;\n",
              "      fill: #D2E3FC;\n",
              "    }\n",
              "\n",
              "    [theme=dark] .colab-df-convert:hover {\n",
              "      background-color: #434B5C;\n",
              "      box-shadow: 0px 1px 3px 1px rgba(0, 0, 0, 0.15);\n",
              "      filter: drop-shadow(0px 1px 2px rgba(0, 0, 0, 0.3));\n",
              "      fill: #FFFFFF;\n",
              "    }\n",
              "  </style>\n",
              "\n",
              "      <script>\n",
              "        const buttonEl =\n",
              "          document.querySelector('#df-449231e3-a3c0-4331-8020-62106199deec button.colab-df-convert');\n",
              "        buttonEl.style.display =\n",
              "          google.colab.kernel.accessAllowed ? 'block' : 'none';\n",
              "\n",
              "        async function convertToInteractive(key) {\n",
              "          const element = document.querySelector('#df-449231e3-a3c0-4331-8020-62106199deec');\n",
              "          const dataTable =\n",
              "            await google.colab.kernel.invokeFunction('convertToInteractive',\n",
              "                                                     [key], {});\n",
              "          if (!dataTable) return;\n",
              "\n",
              "          const docLinkHtml = 'Like what you see? Visit the ' +\n",
              "            '<a target=\"_blank\" href=https://colab.research.google.com/notebooks/data_table.ipynb>data table notebook</a>'\n",
              "            + ' to learn more about interactive tables.';\n",
              "          element.innerHTML = '';\n",
              "          dataTable['output_type'] = 'display_data';\n",
              "          await google.colab.output.renderOutput(dataTable, element);\n",
              "          const docLink = document.createElement('div');\n",
              "          docLink.innerHTML = docLinkHtml;\n",
              "          element.appendChild(docLink);\n",
              "        }\n",
              "      </script>\n",
              "    </div>\n",
              "  </div>\n",
              "  "
            ]
          },
          "metadata": {},
          "execution_count": 371
        }
      ]
    },
    {
      "cell_type": "code",
      "source": [
        "Data.info()"
      ],
      "metadata": {
        "colab": {
          "base_uri": "https://localhost:8080/"
        },
        "id": "Ek5M4vp8zrzL",
        "outputId": "686a702a-a594-4ec0-e066-127246ddec4f"
      },
      "execution_count": null,
      "outputs": [
        {
          "output_type": "stream",
          "name": "stdout",
          "text": [
            "<class 'pandas.core.frame.DataFrame'>\n",
            "RangeIndex: 400 entries, 0 to 399\n",
            "Data columns (total 14 columns):\n",
            " #   Column                  Non-Null Count  Dtype  \n",
            "---  ------                  --------------  -----  \n",
            " 0   date                    400 non-null    object \n",
            " 1   hair_loss               400 non-null    object \n",
            " 2   stay_up_late            400 non-null    int64  \n",
            " 3   pressure_level          400 non-null    object \n",
            " 4   coffee_consumed         400 non-null    int64  \n",
            " 5   brain_working_duration  400 non-null    int64  \n",
            " 6   school_assesssment      400 non-null    object \n",
            " 7   stress_level            400 non-null    object \n",
            " 8   shampoo_brand           400 non-null    object \n",
            " 9   swimming                400 non-null    object \n",
            " 10  hair_washing            400 non-null    object \n",
            " 11  hair_grease             396 non-null    float64\n",
            " 12  dandruff                400 non-null    object \n",
            " 13  libido                  400 non-null    int64  \n",
            "dtypes: float64(1), int64(4), object(9)\n",
            "memory usage: 43.9+ KB\n"
          ]
        }
      ]
    },
    {
      "cell_type": "code",
      "source": [
        "Data.describe()"
      ],
      "metadata": {
        "colab": {
          "base_uri": "https://localhost:8080/",
          "height": 300
        },
        "id": "Snu-RgkmzuRj",
        "outputId": "506d7bd4-e6fe-4822-e3e6-6d3de94003fa"
      },
      "execution_count": null,
      "outputs": [
        {
          "output_type": "execute_result",
          "data": {
            "text/plain": [
              "       stay_up_late  coffee_consumed  brain_working_duration  hair_grease  \\\n",
              "count    400.000000       400.000000              400.000000   396.000000   \n",
              "mean       1.910000         1.162500                3.970000     2.565657   \n",
              "std        1.611954         1.978859                4.215272     1.276162   \n",
              "min        0.000000         0.000000                0.000000     1.000000   \n",
              "25%        1.000000         0.000000                1.000000     2.000000   \n",
              "50%        2.000000         0.000000                2.000000     2.000000   \n",
              "75%        3.000000         1.000000                7.000000     4.000000   \n",
              "max        8.000000        10.000000               18.000000     5.000000   \n",
              "\n",
              "           libido  \n",
              "count  400.000000  \n",
              "mean     2.787500  \n",
              "std      1.822264  \n",
              "min      0.000000  \n",
              "25%      1.000000  \n",
              "50%      3.000000  \n",
              "75%      5.000000  \n",
              "max      5.000000  "
            ],
            "text/html": [
              "\n",
              "  <div id=\"df-4351de35-c8e6-495c-a71b-f6d152f9831e\">\n",
              "    <div class=\"colab-df-container\">\n",
              "      <div>\n",
              "<style scoped>\n",
              "    .dataframe tbody tr th:only-of-type {\n",
              "        vertical-align: middle;\n",
              "    }\n",
              "\n",
              "    .dataframe tbody tr th {\n",
              "        vertical-align: top;\n",
              "    }\n",
              "\n",
              "    .dataframe thead th {\n",
              "        text-align: right;\n",
              "    }\n",
              "</style>\n",
              "<table border=\"1\" class=\"dataframe\">\n",
              "  <thead>\n",
              "    <tr style=\"text-align: right;\">\n",
              "      <th></th>\n",
              "      <th>stay_up_late</th>\n",
              "      <th>coffee_consumed</th>\n",
              "      <th>brain_working_duration</th>\n",
              "      <th>hair_grease</th>\n",
              "      <th>libido</th>\n",
              "    </tr>\n",
              "  </thead>\n",
              "  <tbody>\n",
              "    <tr>\n",
              "      <th>count</th>\n",
              "      <td>400.000000</td>\n",
              "      <td>400.000000</td>\n",
              "      <td>400.000000</td>\n",
              "      <td>396.000000</td>\n",
              "      <td>400.000000</td>\n",
              "    </tr>\n",
              "    <tr>\n",
              "      <th>mean</th>\n",
              "      <td>1.910000</td>\n",
              "      <td>1.162500</td>\n",
              "      <td>3.970000</td>\n",
              "      <td>2.565657</td>\n",
              "      <td>2.787500</td>\n",
              "    </tr>\n",
              "    <tr>\n",
              "      <th>std</th>\n",
              "      <td>1.611954</td>\n",
              "      <td>1.978859</td>\n",
              "      <td>4.215272</td>\n",
              "      <td>1.276162</td>\n",
              "      <td>1.822264</td>\n",
              "    </tr>\n",
              "    <tr>\n",
              "      <th>min</th>\n",
              "      <td>0.000000</td>\n",
              "      <td>0.000000</td>\n",
              "      <td>0.000000</td>\n",
              "      <td>1.000000</td>\n",
              "      <td>0.000000</td>\n",
              "    </tr>\n",
              "    <tr>\n",
              "      <th>25%</th>\n",
              "      <td>1.000000</td>\n",
              "      <td>0.000000</td>\n",
              "      <td>1.000000</td>\n",
              "      <td>2.000000</td>\n",
              "      <td>1.000000</td>\n",
              "    </tr>\n",
              "    <tr>\n",
              "      <th>50%</th>\n",
              "      <td>2.000000</td>\n",
              "      <td>0.000000</td>\n",
              "      <td>2.000000</td>\n",
              "      <td>2.000000</td>\n",
              "      <td>3.000000</td>\n",
              "    </tr>\n",
              "    <tr>\n",
              "      <th>75%</th>\n",
              "      <td>3.000000</td>\n",
              "      <td>1.000000</td>\n",
              "      <td>7.000000</td>\n",
              "      <td>4.000000</td>\n",
              "      <td>5.000000</td>\n",
              "    </tr>\n",
              "    <tr>\n",
              "      <th>max</th>\n",
              "      <td>8.000000</td>\n",
              "      <td>10.000000</td>\n",
              "      <td>18.000000</td>\n",
              "      <td>5.000000</td>\n",
              "      <td>5.000000</td>\n",
              "    </tr>\n",
              "  </tbody>\n",
              "</table>\n",
              "</div>\n",
              "      <button class=\"colab-df-convert\" onclick=\"convertToInteractive('df-4351de35-c8e6-495c-a71b-f6d152f9831e')\"\n",
              "              title=\"Convert this dataframe to an interactive table.\"\n",
              "              style=\"display:none;\">\n",
              "        \n",
              "  <svg xmlns=\"http://www.w3.org/2000/svg\" height=\"24px\"viewBox=\"0 0 24 24\"\n",
              "       width=\"24px\">\n",
              "    <path d=\"M0 0h24v24H0V0z\" fill=\"none\"/>\n",
              "    <path d=\"M18.56 5.44l.94 2.06.94-2.06 2.06-.94-2.06-.94-.94-2.06-.94 2.06-2.06.94zm-11 1L8.5 8.5l.94-2.06 2.06-.94-2.06-.94L8.5 2.5l-.94 2.06-2.06.94zm10 10l.94 2.06.94-2.06 2.06-.94-2.06-.94-.94-2.06-.94 2.06-2.06.94z\"/><path d=\"M17.41 7.96l-1.37-1.37c-.4-.4-.92-.59-1.43-.59-.52 0-1.04.2-1.43.59L10.3 9.45l-7.72 7.72c-.78.78-.78 2.05 0 2.83L4 21.41c.39.39.9.59 1.41.59.51 0 1.02-.2 1.41-.59l7.78-7.78 2.81-2.81c.8-.78.8-2.07 0-2.86zM5.41 20L4 18.59l7.72-7.72 1.47 1.35L5.41 20z\"/>\n",
              "  </svg>\n",
              "      </button>\n",
              "      \n",
              "  <style>\n",
              "    .colab-df-container {\n",
              "      display:flex;\n",
              "      flex-wrap:wrap;\n",
              "      gap: 12px;\n",
              "    }\n",
              "\n",
              "    .colab-df-convert {\n",
              "      background-color: #E8F0FE;\n",
              "      border: none;\n",
              "      border-radius: 50%;\n",
              "      cursor: pointer;\n",
              "      display: none;\n",
              "      fill: #1967D2;\n",
              "      height: 32px;\n",
              "      padding: 0 0 0 0;\n",
              "      width: 32px;\n",
              "    }\n",
              "\n",
              "    .colab-df-convert:hover {\n",
              "      background-color: #E2EBFA;\n",
              "      box-shadow: 0px 1px 2px rgba(60, 64, 67, 0.3), 0px 1px 3px 1px rgba(60, 64, 67, 0.15);\n",
              "      fill: #174EA6;\n",
              "    }\n",
              "\n",
              "    [theme=dark] .colab-df-convert {\n",
              "      background-color: #3B4455;\n",
              "      fill: #D2E3FC;\n",
              "    }\n",
              "\n",
              "    [theme=dark] .colab-df-convert:hover {\n",
              "      background-color: #434B5C;\n",
              "      box-shadow: 0px 1px 3px 1px rgba(0, 0, 0, 0.15);\n",
              "      filter: drop-shadow(0px 1px 2px rgba(0, 0, 0, 0.3));\n",
              "      fill: #FFFFFF;\n",
              "    }\n",
              "  </style>\n",
              "\n",
              "      <script>\n",
              "        const buttonEl =\n",
              "          document.querySelector('#df-4351de35-c8e6-495c-a71b-f6d152f9831e button.colab-df-convert');\n",
              "        buttonEl.style.display =\n",
              "          google.colab.kernel.accessAllowed ? 'block' : 'none';\n",
              "\n",
              "        async function convertToInteractive(key) {\n",
              "          const element = document.querySelector('#df-4351de35-c8e6-495c-a71b-f6d152f9831e');\n",
              "          const dataTable =\n",
              "            await google.colab.kernel.invokeFunction('convertToInteractive',\n",
              "                                                     [key], {});\n",
              "          if (!dataTable) return;\n",
              "\n",
              "          const docLinkHtml = 'Like what you see? Visit the ' +\n",
              "            '<a target=\"_blank\" href=https://colab.research.google.com/notebooks/data_table.ipynb>data table notebook</a>'\n",
              "            + ' to learn more about interactive tables.';\n",
              "          element.innerHTML = '';\n",
              "          dataTable['output_type'] = 'display_data';\n",
              "          await google.colab.output.renderOutput(dataTable, element);\n",
              "          const docLink = document.createElement('div');\n",
              "          docLink.innerHTML = docLinkHtml;\n",
              "          element.appendChild(docLink);\n",
              "        }\n",
              "      </script>\n",
              "    </div>\n",
              "  </div>\n",
              "  "
            ]
          },
          "metadata": {},
          "execution_count": 373
        }
      ]
    },
    {
      "cell_type": "markdown",
      "source": [
        "# EDA "
      ],
      "metadata": {
        "id": "rX-JNAQ4H4VC"
      }
    },
    {
      "cell_type": "code",
      "source": [
        "numeric = Data[['stay_up_late', 'coffee_consumed', 'brain_working_duration',\n",
        "       'hair_grease']]\n",
        "\n",
        "for i in numeric:\n",
        "  plt.figure(figsize=(20,20))\n",
        "  sns.displot(data=Data, x=i, hue='hair_loss') \n",
        "  plt.show() "
      ],
      "metadata": {
        "colab": {
          "base_uri": "https://localhost:8080/",
          "height": 1000
        },
        "id": "q7o7gsl8ZzBH",
        "outputId": "b003c479-f11d-41ac-8a97-a67b80ea86ab"
      },
      "execution_count": null,
      "outputs": [
        {
          "output_type": "display_data",
          "data": {
            "text/plain": [
              "<Figure size 1440x1440 with 0 Axes>"
            ]
          },
          "metadata": {}
        },
        {
          "output_type": "display_data",
          "data": {
            "text/plain": [
              "<Figure size 436x360 with 1 Axes>"
            ],
            "image/png": "[encoded data removed]"
          },
          "metadata": {
            "needs_background": "light"
          }
        },
        {
          "output_type": "display_data",
          "data": {
            "text/plain": [
              "<Figure size 1440x1440 with 0 Axes>"
            ]
          },
          "metadata": {}
        },
        {
          "output_type": "display_data",
          "data": {
            "text/plain": [
              "<Figure size 436x360 with 1 Axes>"
            ],
            "image/png": "[encoded data removed]"
          },
          "metadata": {
            "needs_background": "light"
          }
        },
        {
          "output_type": "display_data",
          "data": {
            "text/plain": [
              "<Figure size 1440x1440 with 0 Axes>"
            ]
          },
          "metadata": {}
        },
        {
          "output_type": "display_data",
          "data": {
            "text/plain": [
              "<Figure size 436x360 with 1 Axes>"
            ],
            "image/png": "[encoded data removed]"
          },
          "metadata": {
            "needs_background": "light"
          }
        },
        {
          "output_type": "display_data",
          "data": {
            "text/plain": [
              "<Figure size 1440x1440 with 0 Axes>"
            ]
          },
          "metadata": {}
        },
        {
          "output_type": "display_data",
          "data": {
            "text/plain": [
              "<Figure size 436x360 with 1 Axes>"
            ],
            "image/png": "[encoded data removed]"
          },
          "metadata": {
            "needs_background": "light"
          }
        }
      ]
    },
    {
      "cell_type": "markdown",
      "source": [
        "From the numerical column we can conclude a couple of things: \n",
        "\n",
        "1. How luke's hair grease effected his hair lost\n",
        "\n",
        "2. and drinking coffee also effected his hair lost"
      ],
      "metadata": {
        "id": "ygonbuUKjvdb"
      }
    },
    {
      "cell_type": "code",
      "source": [
        "categorical = Data[['pressure_level',\n",
        "       'school_assesssment', 'stress_level', 'shampoo_brand', 'swimming', 'hair_washing', 'dandruff']]\n",
        "\n",
        "for i in categorical:\n",
        "  plt.figure(figsize=(12,8))\n",
        "  sns.countplot(data=Data, x=i, hue='hair_loss') \n",
        "  plt.show() "
      ],
      "metadata": {
        "colab": {
          "base_uri": "https://localhost:8080/",
          "height": 1000
        },
        "id": "sa0z5LBdOcAI",
        "outputId": "96991c0c-f3e7-4b07-f40c-f8ca145f0773"
      },
      "execution_count": null,
      "outputs": [
        {
          "output_type": "display_data",
          "data": {
            "text/plain": [
              "<Figure size 864x576 with 1 Axes>"
            ],
            "image/png": "[encoded data removed]"
          },
          "metadata": {
            "needs_background": "light"
          }
        },
        {
          "output_type": "display_data",
          "data": {
            "text/plain": [
              "<Figure size 864x576 with 1 Axes>"
            ],
            "image/png": "[encoded data removed]"
          },
          "metadata": {
            "needs_background": "light"
          }
        },
        {
          "output_type": "display_data",
          "data": {
            "text/plain": [
              "<Figure size 864x576 with 1 Axes>"
            ],
            "image/png": "[encoded data removed]"
          },
          "metadata": {
            "needs_background": "light"
          }
        },
        {
          "output_type": "display_data",
          "data": {
            "text/plain": [
              "<Figure size 864x576 with 1 Axes>"
            ],
            "image/png": "[encoded data removed]"
          },
          "metadata": {
            "needs_background": "light"
          }
        },
        {
          "output_type": "display_data",
          "data": {
            "text/plain": [
              "<Figure size 864x576 with 1 Axes>"
            ],
            "image/png": "[encoded data removed]"
          },
          "metadata": {
            "needs_background": "light"
          }
        },
        {
          "output_type": "display_data",
          "data": {
            "text/plain": [
              "<Figure size 864x576 with 1 Axes>"
            ],
            "image/png": "[encoded data removed]"
          },
          "metadata": {
            "needs_background": "light"
          }
        },
        {
          "output_type": "display_data",
          "data": {
            "text/plain": [
              "<Figure size 864x576 with 1 Axes>"
            ],
            "image/png": "[encoded data removed]"
          },
          "metadata": {
            "needs_background": "light"
          }
        }
      ]
    },
    {
      "cell_type": "markdown",
      "source": [
        "From the data we can conclude a couple of things: \n",
        "\n",
        "1. How in the scool_assesment we can see that if final exam came, luke always loss many hair and oftenly if there are a Team assignment luke will lost a lot of hair.\n",
        "\n",
        "2. And i think its correlated to the stress_level class, becaue every time luke lost a lot of hair its cause by a very high stress level\n",
        "\n",
        "3. Luke's hair always lost a lot when using hair & shoulder shampoo\n",
        "\n",
        "4. From the dandruff class you can see that dandruff makes lukes hair fall out\n",
        "\n",
        "5. Strangely when luke not swimming, lukes have not loss any hair its a bit strange because the water of the swimming pool its dirty"
      ],
      "metadata": {
        "id": "gd2utnHhH3PA"
      }
    },
    {
      "cell_type": "markdown",
      "source": [
        "# Data Cleaning"
      ],
      "metadata": {
        "id": "WiH-wVYsHwVw"
      }
    },
    {
      "cell_type": "markdown",
      "source": [
        "## Checking Null Value"
      ],
      "metadata": {
        "id": "BkwNW89tHzIE"
      }
    },
    {
      "cell_type": "markdown",
      "source": [
        "In here i want to see if there's any missing value"
      ],
      "metadata": {
        "id": "MYfqAD5PIfKS"
      }
    },
    {
      "cell_type": "code",
      "source": [
        "Dataset.isnull().sum()"
      ],
      "metadata": {
        "colab": {
          "base_uri": "https://localhost:8080/"
        },
        "id": "JTULWOrIIY_q",
        "outputId": "ac2c5b91-2a58-4fc8-be89-2f37c86e8202"
      },
      "execution_count": null,
      "outputs": [
        {
          "output_type": "execute_result",
          "data": {
            "text/plain": [
              "date                      0\n",
              "hair_loss                 0\n",
              "stay_up_late              0\n",
              "pressure_level            0\n",
              "coffee_consumed           0\n",
              "brain_working_duration    0\n",
              "school_assesssment        0\n",
              "stress_level              0\n",
              "shampoo_brand             0\n",
              "swimming                  0\n",
              "hair_washing              0\n",
              "hair_grease               4\n",
              "dandruff                  0\n",
              "libido                    0\n",
              "dtype: int64"
            ]
          },
          "metadata": {},
          "execution_count": 472
        }
      ]
    },
    {
      "cell_type": "markdown",
      "source": [
        "Turns out there are 4 missing value on the 'hair_grease' column"
      ],
      "metadata": {
        "id": "Qt7s1DVBLfUh"
      }
    },
    {
      "cell_type": "code",
      "source": [
        "Dataset[Dataset.hair_grease.isnull()]"
      ],
      "metadata": {
        "colab": {
          "base_uri": "https://localhost:8080/"
        },
        "id": "zq64jQN5IeQh",
        "outputId": "6ebbbccf-e18f-4ff6-bbca-2f81e2e8b2f5"
      },
      "execution_count": null,
      "outputs": [
        {
          "output_type": "execute_result",
          "data": {
            "text/plain": [
              "         date  hair_loss  stay_up_late pressure_level  coffee_consumed  \\\n",
              "155  5/06/2021       Few             0            Low                0   \n",
              "156  6/06/2021    Medium             3            Low                0   \n",
              "157  7/06/2021       Few             2            Low                0   \n",
              "158  8/06/2021       Few             0            Low                0   \n",
              "\n",
              "     brain_working_duration school_assesssment stress_level    shampoo_brand  \\\n",
              "155                       2               None       Medium  Hair & Shoulder   \n",
              "156                       0               None          Low  Hair & Shoulder   \n",
              "157                       2               None          Low  Hair & Shoulder   \n",
              "158                       0               None          Low  Hair & Shoulder   \n",
              "\n",
              "    swimming hair_washing  hair_grease dandruff  libido  \n",
              "155       No            N          NaN     None       1  \n",
              "156       No            Y          NaN     None       1  \n",
              "157       No            N          NaN     None       1  \n",
              "158       No            N          NaN     None       3  "
            ],
            "text/html": [
              "\n",
              "  <div id=\"df-25135224-8518-4132-984f-3499041ad147\">\n",
              "    <div class=\"colab-df-container\">\n",
              "      <div>\n",
              "<style scoped>\n",
              "    .dataframe tbody tr th:only-of-type {\n",
              "        vertical-align: middle;\n",
              "    }\n",
              "\n",
              "    .dataframe tbody tr th {\n",
              "        vertical-align: top;\n",
              "    }\n",
              "\n",
              "    .dataframe thead th {\n",
              "        text-align: right;\n",
              "    }\n",
              "</style>\n",
              "<table border=\"1\" class=\"dataframe\">\n",
              "  <thead>\n",
              "    <tr style=\"text-align: right;\">\n",
              "      <th></th>\n",
              "      <th>date</th>\n",
              "      <th>hair_loss</th>\n",
              "      <th>stay_up_late</th>\n",
              "      <th>pressure_level</th>\n",
              "      <th>coffee_consumed</th>\n",
              "      <th>brain_working_duration</th>\n",
              "      <th>school_assesssment</th>\n",
              "      <th>stress_level</th>\n",
              "      <th>shampoo_brand</th>\n",
              "      <th>swimming</th>\n",
              "      <th>hair_washing</th>\n",
              "      <th>hair_grease</th>\n",
              "      <th>dandruff</th>\n",
              "      <th>libido</th>\n",
              "    </tr>\n",
              "  </thead>\n",
              "  <tbody>\n",
              "    <tr>\n",
              "      <th>155</th>\n",
              "      <td>5/06/2021</td>\n",
              "      <td>Few</td>\n",
              "      <td>0</td>\n",
              "      <td>Low</td>\n",
              "      <td>0</td>\n",
              "      <td>2</td>\n",
              "      <td>None</td>\n",
              "      <td>Medium</td>\n",
              "      <td>Hair &amp; Shoulder</td>\n",
              "      <td>No</td>\n",
              "      <td>N</td>\n",
              "      <td>NaN</td>\n",
              "      <td>None</td>\n",
              "      <td>1</td>\n",
              "    </tr>\n",
              "    <tr>\n",
              "      <th>156</th>\n",
              "      <td>6/06/2021</td>\n",
              "      <td>Medium</td>\n",
              "      <td>3</td>\n",
              "      <td>Low</td>\n",
              "      <td>0</td>\n",
              "      <td>0</td>\n",
              "      <td>None</td>\n",
              "      <td>Low</td>\n",
              "      <td>Hair &amp; Shoulder</td>\n",
              "      <td>No</td>\n",
              "      <td>Y</td>\n",
              "      <td>NaN</td>\n",
              "      <td>None</td>\n",
              "      <td>1</td>\n",
              "    </tr>\n",
              "    <tr>\n",
              "      <th>157</th>\n",
              "      <td>7/06/2021</td>\n",
              "      <td>Few</td>\n",
              "      <td>2</td>\n",
              "      <td>Low</td>\n",
              "      <td>0</td>\n",
              "      <td>2</td>\n",
              "      <td>None</td>\n",
              "      <td>Low</td>\n",
              "      <td>Hair &amp; Shoulder</td>\n",
              "      <td>No</td>\n",
              "      <td>N</td>\n",
              "      <td>NaN</td>\n",
              "      <td>None</td>\n",
              "      <td>1</td>\n",
              "    </tr>\n",
              "    <tr>\n",
              "      <th>158</th>\n",
              "      <td>8/06/2021</td>\n",
              "      <td>Few</td>\n",
              "      <td>0</td>\n",
              "      <td>Low</td>\n",
              "      <td>0</td>\n",
              "      <td>0</td>\n",
              "      <td>None</td>\n",
              "      <td>Low</td>\n",
              "      <td>Hair &amp; Shoulder</td>\n",
              "      <td>No</td>\n",
              "      <td>N</td>\n",
              "      <td>NaN</td>\n",
              "      <td>None</td>\n",
              "      <td>3</td>\n",
              "    </tr>\n",
              "  </tbody>\n",
              "</table>\n",
              "</div>\n",
              "      <button class=\"colab-df-convert\" onclick=\"convertToInteractive('df-25135224-8518-4132-984f-3499041ad147')\"\n",
              "              title=\"Convert this dataframe to an interactive table.\"\n",
              "              style=\"display:none;\">\n",
              "        \n",
              "  <svg xmlns=\"http://www.w3.org/2000/svg\" height=\"24px\"viewBox=\"0 0 24 24\"\n",
              "       width=\"24px\">\n",
              "    <path d=\"M0 0h24v24H0V0z\" fill=\"none\"/>\n",
              "    <path d=\"M18.56 5.44l.94 2.06.94-2.06 2.06-.94-2.06-.94-.94-2.06-.94 2.06-2.06.94zm-11 1L8.5 8.5l.94-2.06 2.06-.94-2.06-.94L8.5 2.5l-.94 2.06-2.06.94zm10 10l.94 2.06.94-2.06 2.06-.94-2.06-.94-.94-2.06-.94 2.06-2.06.94z\"/><path d=\"M17.41 7.96l-1.37-1.37c-.4-.4-.92-.59-1.43-.59-.52 0-1.04.2-1.43.59L10.3 9.45l-7.72 7.72c-.78.78-.78 2.05 0 2.83L4 21.41c.39.39.9.59 1.41.59.51 0 1.02-.2 1.41-.59l7.78-7.78 2.81-2.81c.8-.78.8-2.07 0-2.86zM5.41 20L4 18.59l7.72-7.72 1.47 1.35L5.41 20z\"/>\n",
              "  </svg>\n",
              "      </button>\n",
              "      \n",
              "  <style>\n",
              "    .colab-df-container {\n",
              "      display:flex;\n",
              "      flex-wrap:wrap;\n",
              "      gap: 12px;\n",
              "    }\n",
              "\n",
              "    .colab-df-convert {\n",
              "      background-color: #E8F0FE;\n",
              "      border: none;\n",
              "      border-radius: 50%;\n",
              "      cursor: pointer;\n",
              "      display: none;\n",
              "      fill: #1967D2;\n",
              "      height: 32px;\n",
              "      padding: 0 0 0 0;\n",
              "      width: 32px;\n",
              "    }\n",
              "\n",
              "    .colab-df-convert:hover {\n",
              "      background-color: #E2EBFA;\n",
              "      box-shadow: 0px 1px 2px rgba(60, 64, 67, 0.3), 0px 1px 3px 1px rgba(60, 64, 67, 0.15);\n",
              "      fill: #174EA6;\n",
              "    }\n",
              "\n",
              "    [theme=dark] .colab-df-convert {\n",
              "      background-color: #3B4455;\n",
              "      fill: #D2E3FC;\n",
              "    }\n",
              "\n",
              "    [theme=dark] .colab-df-convert:hover {\n",
              "      background-color: #434B5C;\n",
              "      box-shadow: 0px 1px 3px 1px rgba(0, 0, 0, 0.15);\n",
              "      filter: drop-shadow(0px 1px 2px rgba(0, 0, 0, 0.3));\n",
              "      fill: #FFFFFF;\n",
              "    }\n",
              "  </style>\n",
              "\n",
              "      <script>\n",
              "        const buttonEl =\n",
              "          document.querySelector('#df-25135224-8518-4132-984f-3499041ad147 button.colab-df-convert');\n",
              "        buttonEl.style.display =\n",
              "          google.colab.kernel.accessAllowed ? 'block' : 'none';\n",
              "\n",
              "        async function convertToInteractive(key) {\n",
              "          const element = document.querySelector('#df-25135224-8518-4132-984f-3499041ad147');\n",
              "          const dataTable =\n",
              "            await google.colab.kernel.invokeFunction('convertToInteractive',\n",
              "                                                     [key], {});\n",
              "          if (!dataTable) return;\n",
              "\n",
              "          const docLinkHtml = 'Like what you see? Visit the ' +\n",
              "            '<a target=\"_blank\" href=https://colab.research.google.com/notebooks/data_table.ipynb>data table notebook</a>'\n",
              "            + ' to learn more about interactive tables.';\n",
              "          element.innerHTML = '';\n",
              "          dataTable['output_type'] = 'display_data';\n",
              "          await google.colab.output.renderOutput(dataTable, element);\n",
              "          const docLink = document.createElement('div');\n",
              "          docLink.innerHTML = docLinkHtml;\n",
              "          element.appendChild(docLink);\n",
              "        }\n",
              "      </script>\n",
              "    </div>\n",
              "  </div>\n",
              "  "
            ]
          },
          "metadata": {},
          "execution_count": 473
        }
      ]
    },
    {
      "cell_type": "markdown",
      "source": [
        "Even though the missing value is only a few, but the amount of the data is not that much, thus i want to fill all the missing value with the mode of the column value"
      ],
      "metadata": {
        "id": "KKy8jisGLmGF"
      }
    },
    {
      "cell_type": "code",
      "source": [
        "Dataset.mode()['hair_grease'][0]"
      ],
      "metadata": {
        "colab": {
          "base_uri": "https://localhost:8080/"
        },
        "id": "svc0bhZcIu-S",
        "outputId": "88ef11cd-bc9f-4431-ddcd-a6aac46994ef"
      },
      "execution_count": null,
      "outputs": [
        {
          "output_type": "execute_result",
          "data": {
            "text/plain": [
              "2.0"
            ]
          },
          "metadata": {},
          "execution_count": 474
        }
      ]
    },
    {
      "cell_type": "markdown",
      "source": [
        "i will fill all the Nan with '2'"
      ],
      "metadata": {
        "id": "fv8-Y90VMmxm"
      }
    },
    {
      "cell_type": "code",
      "source": [
        "Dataset['hair_grease'] = Dataset['hair_grease'].fillna(2.0)"
      ],
      "metadata": {
        "id": "fqX3q1sSJwlz"
      },
      "execution_count": null,
      "outputs": []
    },
    {
      "cell_type": "code",
      "source": [
        "Dataset.isnull().sum()"
      ],
      "metadata": {
        "colab": {
          "base_uri": "https://localhost:8080/"
        },
        "id": "YjH2IlkIJ5j9",
        "outputId": "068ff59d-851a-467d-8fad-2c82b17bc260"
      },
      "execution_count": null,
      "outputs": [
        {
          "output_type": "execute_result",
          "data": {
            "text/plain": [
              "date                      0\n",
              "hair_loss                 0\n",
              "stay_up_late              0\n",
              "pressure_level            0\n",
              "coffee_consumed           0\n",
              "brain_working_duration    0\n",
              "school_assesssment        0\n",
              "stress_level              0\n",
              "shampoo_brand             0\n",
              "swimming                  0\n",
              "hair_washing              0\n",
              "hair_grease               0\n",
              "dandruff                  0\n",
              "libido                    0\n",
              "dtype: int64"
            ]
          },
          "metadata": {},
          "execution_count": 476
        }
      ]
    },
    {
      "cell_type": "markdown",
      "source": [
        "Now there are no missing value left"
      ],
      "metadata": {
        "id": "WGiXX4PTMpwx"
      }
    },
    {
      "cell_type": "markdown",
      "source": [
        "## Duplicated Data"
      ],
      "metadata": {
        "id": "ym8o8ZDuKKir"
      }
    },
    {
      "cell_type": "markdown",
      "source": [
        "and now i wanna check if there's any duplicated value in this dataset"
      ],
      "metadata": {
        "id": "kLt-LRJnKVyW"
      }
    },
    {
      "cell_type": "code",
      "source": [
        "Dataset.duplicated().sum()"
      ],
      "metadata": {
        "colab": {
          "base_uri": "https://localhost:8080/"
        },
        "id": "bok3jS_AKPbZ",
        "outputId": "064aa40c-3a62-4706-e0f1-29b18e8135bc"
      },
      "execution_count": null,
      "outputs": [
        {
          "output_type": "execute_result",
          "data": {
            "text/plain": [
              "0"
            ]
          },
          "metadata": {},
          "execution_count": 381
        }
      ]
    },
    {
      "cell_type": "markdown",
      "source": [
        "Turns out there are no duplicated data here"
      ],
      "metadata": {
        "id": "oyw3-qh1KlKw"
      }
    },
    {
      "cell_type": "markdown",
      "source": [
        "# Data Preprocessing for feature selection"
      ],
      "metadata": {
        "id": "_o77iIAXl8hD"
      }
    },
    {
      "cell_type": "markdown",
      "source": [
        "## Categorical Data"
      ],
      "metadata": {
        "id": "b0_571sCHszu"
      }
    },
    {
      "cell_type": "markdown",
      "source": [
        "### Date"
      ],
      "metadata": {
        "id": "M8bwekSzbkbq"
      }
    },
    {
      "cell_type": "markdown",
      "source": [
        "For this date column i will just drop it because the date its just like an index knowing that it only show the date in order"
      ],
      "metadata": {
        "id": "GI1k7kHabl7P"
      }
    },
    {
      "cell_type": "code",
      "source": [
        "Data = Data.drop('date ', axis=1)"
      ],
      "metadata": {
        "id": "bmaAW_V5b4Ua"
      },
      "execution_count": null,
      "outputs": []
    },
    {
      "cell_type": "markdown",
      "source": [
        "### Pressure Level"
      ],
      "metadata": {
        "id": "LR_i-toPeLuT"
      }
    },
    {
      "cell_type": "code",
      "source": [
        "Data['pressure_level'].value_counts()"
      ],
      "metadata": {
        "colab": {
          "base_uri": "https://localhost:8080/"
        },
        "id": "GRs5xcS8eQOV",
        "outputId": "14663e31-3cb8-4b7f-f184-3f0d068f8d95"
      },
      "execution_count": null,
      "outputs": [
        {
          "output_type": "execute_result",
          "data": {
            "text/plain": [
              "Low          275\n",
              "Medium        57\n",
              "High          45\n",
              "Very High     23\n",
              "Name: pressure_level, dtype: int64"
            ]
          },
          "metadata": {},
          "execution_count": 391
        }
      ]
    },
    {
      "cell_type": "code",
      "source": [
        "pressure_level = ['Low', 'Medium', 'High', 'Very High']\n",
        "\n",
        "ord_enc_inc = OrdinalEncoder(categories=[pressure_level])\n",
        "cat_ord_inc = pd.DataFrame(ord_enc_inc.fit_transform(Data[['pressure_level']]))\n",
        "cat_ord_inc.columns = ['pressure_level']"
      ],
      "metadata": {
        "id": "2TTeyPuWlW6E"
      },
      "execution_count": null,
      "outputs": []
    },
    {
      "cell_type": "code",
      "source": [
        "Data = Data.drop('pressure_level', axis=1)\n",
        "Data=pd.concat([Data.reset_index(drop=True), cat_ord_inc], axis=1)\n",
        "Data"
      ],
      "metadata": {
        "colab": {
          "base_uri": "https://localhost:8080/",
          "height": 488
        },
        "id": "hpBsUHh7llv4",
        "outputId": "79987e43-611f-4acf-831d-0082413c83b3"
      },
      "execution_count": null,
      "outputs": [
        {
          "output_type": "execute_result",
          "data": {
            "text/plain": [
              "     stay_up_late  coffee_consumed  brain_working_duration school_assesssment  \\\n",
              "0               2                0                       1               None   \n",
              "1               0                0                       3               None   \n",
              "2               3                1                       0               None   \n",
              "3               2                0                       1               None   \n",
              "4               2                0                       1               None   \n",
              "..            ...              ...                     ...                ...   \n",
              "395             1                1                       2               None   \n",
              "396             1                0                       3               None   \n",
              "397             1                1                       1               None   \n",
              "398             0                1                       1               None   \n",
              "399             1                0                       2               None   \n",
              "\n",
              "    stress_level    shampoo_brand swimming hair_washing  hair_grease dandruff  \\\n",
              "0            Low          Pantene       No            Y          3.0     None   \n",
              "1            Low          Pantene       No            N          1.0     None   \n",
              "2            Low          Pantene      Yes            Y          2.0     None   \n",
              "3            Low          Pantene       No            N          3.0     None   \n",
              "4            Low          Pantene       No            Y          1.0     None   \n",
              "..           ...              ...      ...          ...          ...      ...   \n",
              "395          Low  Hair & Shoulder       No            N          1.0     None   \n",
              "396          Low  Hair & Shoulder      Yes            Y          2.0     None   \n",
              "397          Low  Hair & Shoulder       No            N          2.0     None   \n",
              "398          Low  Hair & Shoulder       No            N          2.0     None   \n",
              "399          Low  Hair & Shoulder      Yes            Y          2.0     None   \n",
              "\n",
              "     libido  hair_loss  pressure_level  \n",
              "0         1        0.0             0.0  \n",
              "1         1        0.0             0.0  \n",
              "2         2        1.0             0.0  \n",
              "3         3        0.0             0.0  \n",
              "4         2        0.0             0.0  \n",
              "..      ...        ...             ...  \n",
              "395       5        1.0             0.0  \n",
              "396       1        0.0             0.0  \n",
              "397       5        1.0             0.0  \n",
              "398       5        1.0             0.0  \n",
              "399       1        0.0             0.0  \n",
              "\n",
              "[400 rows x 13 columns]"
            ],
            "text/html": [
              "\n",
              "  <div id=\"df-1b3bef87-9d62-42b1-904a-ce584f3617d1\">\n",
              "    <div class=\"colab-df-container\">\n",
              "      <div>\n",
              "<style scoped>\n",
              "    .dataframe tbody tr th:only-of-type {\n",
              "        vertical-align: middle;\n",
              "    }\n",
              "\n",
              "    .dataframe tbody tr th {\n",
              "        vertical-align: top;\n",
              "    }\n",
              "\n",
              "    .dataframe thead th {\n",
              "        text-align: right;\n",
              "    }\n",
              "</style>\n",
              "<table border=\"1\" class=\"dataframe\">\n",
              "  <thead>\n",
              "    <tr style=\"text-align: right;\">\n",
              "      <th></th>\n",
              "      <th>stay_up_late</th>\n",
              "      <th>coffee_consumed</th>\n",
              "      <th>brain_working_duration</th>\n",
              "      <th>school_assesssment</th>\n",
              "      <th>stress_level</th>\n",
              "      <th>shampoo_brand</th>\n",
              "      <th>swimming</th>\n",
              "      <th>hair_washing</th>\n",
              "      <th>hair_grease</th>\n",
              "      <th>dandruff</th>\n",
              "      <th>libido</th>\n",
              "      <th>hair_loss</th>\n",
              "      <th>pressure_level</th>\n",
              "    </tr>\n",
              "  </thead>\n",
              "  <tbody>\n",
              "    <tr>\n",
              "      <th>0</th>\n",
              "      <td>2</td>\n",
              "      <td>0</td>\n",
              "      <td>1</td>\n",
              "      <td>None</td>\n",
              "      <td>Low</td>\n",
              "      <td>Pantene</td>\n",
              "      <td>No</td>\n",
              "      <td>Y</td>\n",
              "      <td>3.0</td>\n",
              "      <td>None</td>\n",
              "      <td>1</td>\n",
              "      <td>0.0</td>\n",
              "      <td>0.0</td>\n",
              "    </tr>\n",
              "    <tr>\n",
              "      <th>1</th>\n",
              "      <td>0</td>\n",
              "      <td>0</td>\n",
              "      <td>3</td>\n",
              "      <td>None</td>\n",
              "      <td>Low</td>\n",
              "      <td>Pantene</td>\n",
              "      <td>No</td>\n",
              "      <td>N</td>\n",
              "      <td>1.0</td>\n",
              "      <td>None</td>\n",
              "      <td>1</td>\n",
              "      <td>0.0</td>\n",
              "      <td>0.0</td>\n",
              "    </tr>\n",
              "    <tr>\n",
              "      <th>2</th>\n",
              "      <td>3</td>\n",
              "      <td>1</td>\n",
              "      <td>0</td>\n",
              "      <td>None</td>\n",
              "      <td>Low</td>\n",
              "      <td>Pantene</td>\n",
              "      <td>Yes</td>\n",
              "      <td>Y</td>\n",
              "      <td>2.0</td>\n",
              "      <td>None</td>\n",
              "      <td>2</td>\n",
              "      <td>1.0</td>\n",
              "      <td>0.0</td>\n",
              "    </tr>\n",
              "    <tr>\n",
              "      <th>3</th>\n",
              "      <td>2</td>\n",
              "      <td>0</td>\n",
              "      <td>1</td>\n",
              "      <td>None</td>\n",
              "      <td>Low</td>\n",
              "      <td>Pantene</td>\n",
              "      <td>No</td>\n",
              "      <td>N</td>\n",
              "      <td>3.0</td>\n",
              "      <td>None</td>\n",
              "      <td>3</td>\n",
              "      <td>0.0</td>\n",
              "      <td>0.0</td>\n",
              "    </tr>\n",
              "    <tr>\n",
              "      <th>4</th>\n",
              "      <td>2</td>\n",
              "      <td>0</td>\n",
              "      <td>1</td>\n",
              "      <td>None</td>\n",
              "      <td>Low</td>\n",
              "      <td>Pantene</td>\n",
              "      <td>No</td>\n",
              "      <td>Y</td>\n",
              "      <td>1.0</td>\n",
              "      <td>None</td>\n",
              "      <td>2</td>\n",
              "      <td>0.0</td>\n",
              "      <td>0.0</td>\n",
              "    </tr>\n",
              "    <tr>\n",
              "      <th>...</th>\n",
              "      <td>...</td>\n",
              "      <td>...</td>\n",
              "      <td>...</td>\n",
              "      <td>...</td>\n",
              "      <td>...</td>\n",
              "      <td>...</td>\n",
              "      <td>...</td>\n",
              "      <td>...</td>\n",
              "      <td>...</td>\n",
              "      <td>...</td>\n",
              "      <td>...</td>\n",
              "      <td>...</td>\n",
              "      <td>...</td>\n",
              "    </tr>\n",
              "    <tr>\n",
              "      <th>395</th>\n",
              "      <td>1</td>\n",
              "      <td>1</td>\n",
              "      <td>2</td>\n",
              "      <td>None</td>\n",
              "      <td>Low</td>\n",
              "      <td>Hair &amp; Shoulder</td>\n",
              "      <td>No</td>\n",
              "      <td>N</td>\n",
              "      <td>1.0</td>\n",
              "      <td>None</td>\n",
              "      <td>5</td>\n",
              "      <td>1.0</td>\n",
              "      <td>0.0</td>\n",
              "    </tr>\n",
              "    <tr>\n",
              "      <th>396</th>\n",
              "      <td>1</td>\n",
              "      <td>0</td>\n",
              "      <td>3</td>\n",
              "      <td>None</td>\n",
              "      <td>Low</td>\n",
              "      <td>Hair &amp; Shoulder</td>\n",
              "      <td>Yes</td>\n",
              "      <td>Y</td>\n",
              "      <td>2.0</td>\n",
              "      <td>None</td>\n",
              "      <td>1</td>\n",
              "      <td>0.0</td>\n",
              "      <td>0.0</td>\n",
              "    </tr>\n",
              "    <tr>\n",
              "      <th>397</th>\n",
              "      <td>1</td>\n",
              "      <td>1</td>\n",
              "      <td>1</td>\n",
              "      <td>None</td>\n",
              "      <td>Low</td>\n",
              "      <td>Hair &amp; Shoulder</td>\n",
              "      <td>No</td>\n",
              "      <td>N</td>\n",
              "      <td>2.0</td>\n",
              "      <td>None</td>\n",
              "      <td>5</td>\n",
              "      <td>1.0</td>\n",
              "      <td>0.0</td>\n",
              "    </tr>\n",
              "    <tr>\n",
              "      <th>398</th>\n",
              "      <td>0</td>\n",
              "      <td>1</td>\n",
              "      <td>1</td>\n",
              "      <td>None</td>\n",
              "      <td>Low</td>\n",
              "      <td>Hair &amp; Shoulder</td>\n",
              "      <td>No</td>\n",
              "      <td>N</td>\n",
              "      <td>2.0</td>\n",
              "      <td>None</td>\n",
              "      <td>5</td>\n",
              "      <td>1.0</td>\n",
              "      <td>0.0</td>\n",
              "    </tr>\n",
              "    <tr>\n",
              "      <th>399</th>\n",
              "      <td>1</td>\n",
              "      <td>0</td>\n",
              "      <td>2</td>\n",
              "      <td>None</td>\n",
              "      <td>Low</td>\n",
              "      <td>Hair &amp; Shoulder</td>\n",
              "      <td>Yes</td>\n",
              "      <td>Y</td>\n",
              "      <td>2.0</td>\n",
              "      <td>None</td>\n",
              "      <td>1</td>\n",
              "      <td>0.0</td>\n",
              "      <td>0.0</td>\n",
              "    </tr>\n",
              "  </tbody>\n",
              "</table>\n",
              "<p>400 rows × 13 columns</p>\n",
              "</div>\n",
              "      <button class=\"colab-df-convert\" onclick=\"convertToInteractive('df-1b3bef87-9d62-42b1-904a-ce584f3617d1')\"\n",
              "              title=\"Convert this dataframe to an interactive table.\"\n",
              "              style=\"display:none;\">\n",
              "        \n",
              "  <svg xmlns=\"http://www.w3.org/2000/svg\" height=\"24px\"viewBox=\"0 0 24 24\"\n",
              "       width=\"24px\">\n",
              "    <path d=\"M0 0h24v24H0V0z\" fill=\"none\"/>\n",
              "    <path d=\"M18.56 5.44l.94 2.06.94-2.06 2.06-.94-2.06-.94-.94-2.06-.94 2.06-2.06.94zm-11 1L8.5 8.5l.94-2.06 2.06-.94-2.06-.94L8.5 2.5l-.94 2.06-2.06.94zm10 10l.94 2.06.94-2.06 2.06-.94-2.06-.94-.94-2.06-.94 2.06-2.06.94z\"/><path d=\"M17.41 7.96l-1.37-1.37c-.4-.4-.92-.59-1.43-.59-.52 0-1.04.2-1.43.59L10.3 9.45l-7.72 7.72c-.78.78-.78 2.05 0 2.83L4 21.41c.39.39.9.59 1.41.59.51 0 1.02-.2 1.41-.59l7.78-7.78 2.81-2.81c.8-.78.8-2.07 0-2.86zM5.41 20L4 18.59l7.72-7.72 1.47 1.35L5.41 20z\"/>\n",
              "  </svg>\n",
              "      </button>\n",
              "      \n",
              "  <style>\n",
              "    .colab-df-container {\n",
              "      display:flex;\n",
              "      flex-wrap:wrap;\n",
              "      gap: 12px;\n",
              "    }\n",
              "\n",
              "    .colab-df-convert {\n",
              "      background-color: #E8F0FE;\n",
              "      border: none;\n",
              "      border-radius: 50%;\n",
              "      cursor: pointer;\n",
              "      display: none;\n",
              "      fill: #1967D2;\n",
              "      height: 32px;\n",
              "      padding: 0 0 0 0;\n",
              "      width: 32px;\n",
              "    }\n",
              "\n",
              "    .colab-df-convert:hover {\n",
              "      background-color: #E2EBFA;\n",
              "      box-shadow: 0px 1px 2px rgba(60, 64, 67, 0.3), 0px 1px 3px 1px rgba(60, 64, 67, 0.15);\n",
              "      fill: #174EA6;\n",
              "    }\n",
              "\n",
              "    [theme=dark] .colab-df-convert {\n",
              "      background-color: #3B4455;\n",
              "      fill: #D2E3FC;\n",
              "    }\n",
              "\n",
              "    [theme=dark] .colab-df-convert:hover {\n",
              "      background-color: #434B5C;\n",
              "      box-shadow: 0px 1px 3px 1px rgba(0, 0, 0, 0.15);\n",
              "      filter: drop-shadow(0px 1px 2px rgba(0, 0, 0, 0.3));\n",
              "      fill: #FFFFFF;\n",
              "    }\n",
              "  </style>\n",
              "\n",
              "      <script>\n",
              "        const buttonEl =\n",
              "          document.querySelector('#df-1b3bef87-9d62-42b1-904a-ce584f3617d1 button.colab-df-convert');\n",
              "        buttonEl.style.display =\n",
              "          google.colab.kernel.accessAllowed ? 'block' : 'none';\n",
              "\n",
              "        async function convertToInteractive(key) {\n",
              "          const element = document.querySelector('#df-1b3bef87-9d62-42b1-904a-ce584f3617d1');\n",
              "          const dataTable =\n",
              "            await google.colab.kernel.invokeFunction('convertToInteractive',\n",
              "                                                     [key], {});\n",
              "          if (!dataTable) return;\n",
              "\n",
              "          const docLinkHtml = 'Like what you see? Visit the ' +\n",
              "            '<a target=\"_blank\" href=https://colab.research.google.com/notebooks/data_table.ipynb>data table notebook</a>'\n",
              "            + ' to learn more about interactive tables.';\n",
              "          element.innerHTML = '';\n",
              "          dataTable['output_type'] = 'display_data';\n",
              "          await google.colab.output.renderOutput(dataTable, element);\n",
              "          const docLink = document.createElement('div');\n",
              "          docLink.innerHTML = docLinkHtml;\n",
              "          element.appendChild(docLink);\n",
              "        }\n",
              "      </script>\n",
              "    </div>\n",
              "  </div>\n",
              "  "
            ]
          },
          "metadata": {},
          "execution_count": 393
        }
      ]
    },
    {
      "cell_type": "code",
      "source": [
        "sns.countplot(x='pressure_level', data = Data)"
      ],
      "metadata": {
        "colab": {
          "base_uri": "https://localhost:8080/",
          "height": 297
        },
        "id": "NM_LalCll5Bp",
        "outputId": "a145fbe9-8e9f-43e8-ed9b-3e2bdca40b63"
      },
      "execution_count": null,
      "outputs": [
        {
          "output_type": "execute_result",
          "data": {
            "text/plain": [
              "<matplotlib.axes._subplots.AxesSubplot at 0x7f8a19de5390>"
            ]
          },
          "metadata": {},
          "execution_count": 394
        },
        {
          "output_type": "display_data",
          "data": {
            "text/plain": [
              "<Figure size 432x288 with 1 Axes>"
            ],
            "image/png": "[encoded data removed]"
          },
          "metadata": {
            "needs_background": "light"
          }
        }
      ]
    },
    {
      "cell_type": "markdown",
      "source": [
        "### School Assessment"
      ],
      "metadata": {
        "id": "Rax1o2PBnAOL"
      }
    },
    {
      "cell_type": "code",
      "source": [
        "Data['school_assesssment'].value_counts()"
      ],
      "metadata": {
        "colab": {
          "base_uri": "https://localhost:8080/"
        },
        "id": "MqggM5a9nEEW",
        "outputId": "3ee03c2c-e17f-4362-aaf9-6ae530751288"
      },
      "execution_count": null,
      "outputs": [
        {
          "output_type": "execute_result",
          "data": {
            "text/plain": [
              "None                   305\n",
              "Team ass                39\n",
              "Individual ass          24\n",
              "Final exam revision     24\n",
              "Final exam               8\n",
              "Name: school_assesssment, dtype: int64"
            ]
          },
          "metadata": {},
          "execution_count": 395
        }
      ]
    },
    {
      "cell_type": "code",
      "source": [
        "sns.countplot(x='school_assesssment', data = Data)"
      ],
      "metadata": {
        "colab": {
          "base_uri": "https://localhost:8080/",
          "height": 297
        },
        "id": "6rZFJpZboH2W",
        "outputId": "6ea9aa00-1cf7-4756-f14c-6f673b702a22"
      },
      "execution_count": null,
      "outputs": [
        {
          "output_type": "execute_result",
          "data": {
            "text/plain": [
              "<matplotlib.axes._subplots.AxesSubplot at 0x7f8a17ff4810>"
            ]
          },
          "metadata": {},
          "execution_count": 396
        },
        {
          "output_type": "display_data",
          "data": {
            "text/plain": [
              "<Figure size 432x288 with 1 Axes>"
            ],
            "image/png": "[encoded data removed]"
          },
          "metadata": {
            "needs_background": "light"
          }
        }
      ]
    },
    {
      "cell_type": "code",
      "source": [
        "school_assesssment = ['None', 'Team ass', 'Individual ass', 'Final exam revision', 'Final exam']\n",
        "\n",
        "ord_enc_inc = OrdinalEncoder(categories=[school_assesssment])\n",
        "cat_ord_inc = pd.DataFrame(ord_enc_inc.fit_transform(Data[['school_assesssment']]))\n",
        "cat_ord_inc.columns = ['school_assesssment']"
      ],
      "metadata": {
        "id": "1QlmQhJsQ9oI"
      },
      "execution_count": null,
      "outputs": []
    },
    {
      "cell_type": "code",
      "source": [
        "Data = Data.drop('school_assesssment', axis=1)\n",
        "Data=pd.concat([Data.reset_index(drop=True), cat_ord_inc], axis=1)\n",
        "Data"
      ],
      "metadata": {
        "colab": {
          "base_uri": "https://localhost:8080/",
          "height": 488
        },
        "id": "Nas5zrW8n8gD",
        "outputId": "45eaf0b4-63bb-46f6-8374-18fd65946f3f"
      },
      "execution_count": null,
      "outputs": [
        {
          "output_type": "execute_result",
          "data": {
            "text/plain": [
              "     stay_up_late  coffee_consumed  brain_working_duration stress_level  \\\n",
              "0               2                0                       1          Low   \n",
              "1               0                0                       3          Low   \n",
              "2               3                1                       0          Low   \n",
              "3               2                0                       1          Low   \n",
              "4               2                0                       1          Low   \n",
              "..            ...              ...                     ...          ...   \n",
              "395             1                1                       2          Low   \n",
              "396             1                0                       3          Low   \n",
              "397             1                1                       1          Low   \n",
              "398             0                1                       1          Low   \n",
              "399             1                0                       2          Low   \n",
              "\n",
              "       shampoo_brand swimming hair_washing  hair_grease dandruff  libido  \\\n",
              "0            Pantene       No            Y          3.0     None       1   \n",
              "1            Pantene       No            N          1.0     None       1   \n",
              "2            Pantene      Yes            Y          2.0     None       2   \n",
              "3            Pantene       No            N          3.0     None       3   \n",
              "4            Pantene       No            Y          1.0     None       2   \n",
              "..               ...      ...          ...          ...      ...     ...   \n",
              "395  Hair & Shoulder       No            N          1.0     None       5   \n",
              "396  Hair & Shoulder      Yes            Y          2.0     None       1   \n",
              "397  Hair & Shoulder       No            N          2.0     None       5   \n",
              "398  Hair & Shoulder       No            N          2.0     None       5   \n",
              "399  Hair & Shoulder      Yes            Y          2.0     None       1   \n",
              "\n",
              "     hair_loss  pressure_level  school_assesssment  \n",
              "0          0.0             0.0                 0.0  \n",
              "1          0.0             0.0                 0.0  \n",
              "2          1.0             0.0                 0.0  \n",
              "3          0.0             0.0                 0.0  \n",
              "4          0.0             0.0                 0.0  \n",
              "..         ...             ...                 ...  \n",
              "395        1.0             0.0                 0.0  \n",
              "396        0.0             0.0                 0.0  \n",
              "397        1.0             0.0                 0.0  \n",
              "398        1.0             0.0                 0.0  \n",
              "399        0.0             0.0                 0.0  \n",
              "\n",
              "[400 rows x 13 columns]"
            ],
            "text/html": [
              "\n",
              "  <div id=\"df-5bfd6ad0-72f2-405c-9017-25b43560d99a\">\n",
              "    <div class=\"colab-df-container\">\n",
              "      <div>\n",
              "<style scoped>\n",
              "    .dataframe tbody tr th:only-of-type {\n",
              "        vertical-align: middle;\n",
              "    }\n",
              "\n",
              "    .dataframe tbody tr th {\n",
              "        vertical-align: top;\n",
              "    }\n",
              "\n",
              "    .dataframe thead th {\n",
              "        text-align: right;\n",
              "    }\n",
              "</style>\n",
              "<table border=\"1\" class=\"dataframe\">\n",
              "  <thead>\n",
              "    <tr style=\"text-align: right;\">\n",
              "      <th></th>\n",
              "      <th>stay_up_late</th>\n",
              "      <th>coffee_consumed</th>\n",
              "      <th>brain_working_duration</th>\n",
              "      <th>stress_level</th>\n",
              "      <th>shampoo_brand</th>\n",
              "      <th>swimming</th>\n",
              "      <th>hair_washing</th>\n",
              "      <th>hair_grease</th>\n",
              "      <th>dandruff</th>\n",
              "      <th>libido</th>\n",
              "      <th>hair_loss</th>\n",
              "      <th>pressure_level</th>\n",
              "      <th>school_assesssment</th>\n",
              "    </tr>\n",
              "  </thead>\n",
              "  <tbody>\n",
              "    <tr>\n",
              "      <th>0</th>\n",
              "      <td>2</td>\n",
              "      <td>0</td>\n",
              "      <td>1</td>\n",
              "      <td>Low</td>\n",
              "      <td>Pantene</td>\n",
              "      <td>No</td>\n",
              "      <td>Y</td>\n",
              "      <td>3.0</td>\n",
              "      <td>None</td>\n",
              "      <td>1</td>\n",
              "      <td>0.0</td>\n",
              "      <td>0.0</td>\n",
              "      <td>0.0</td>\n",
              "    </tr>\n",
              "    <tr>\n",
              "      <th>1</th>\n",
              "      <td>0</td>\n",
              "      <td>0</td>\n",
              "      <td>3</td>\n",
              "      <td>Low</td>\n",
              "      <td>Pantene</td>\n",
              "      <td>No</td>\n",
              "      <td>N</td>\n",
              "      <td>1.0</td>\n",
              "      <td>None</td>\n",
              "      <td>1</td>\n",
              "      <td>0.0</td>\n",
              "      <td>0.0</td>\n",
              "      <td>0.0</td>\n",
              "    </tr>\n",
              "    <tr>\n",
              "      <th>2</th>\n",
              "      <td>3</td>\n",
              "      <td>1</td>\n",
              "      <td>0</td>\n",
              "      <td>Low</td>\n",
              "      <td>Pantene</td>\n",
              "      <td>Yes</td>\n",
              "      <td>Y</td>\n",
              "      <td>2.0</td>\n",
              "      <td>None</td>\n",
              "      <td>2</td>\n",
              "      <td>1.0</td>\n",
              "      <td>0.0</td>\n",
              "      <td>0.0</td>\n",
              "    </tr>\n",
              "    <tr>\n",
              "      <th>3</th>\n",
              "      <td>2</td>\n",
              "      <td>0</td>\n",
              "      <td>1</td>\n",
              "      <td>Low</td>\n",
              "      <td>Pantene</td>\n",
              "      <td>No</td>\n",
              "      <td>N</td>\n",
              "      <td>3.0</td>\n",
              "      <td>None</td>\n",
              "      <td>3</td>\n",
              "      <td>0.0</td>\n",
              "      <td>0.0</td>\n",
              "      <td>0.0</td>\n",
              "    </tr>\n",
              "    <tr>\n",
              "      <th>4</th>\n",
              "      <td>2</td>\n",
              "      <td>0</td>\n",
              "      <td>1</td>\n",
              "      <td>Low</td>\n",
              "      <td>Pantene</td>\n",
              "      <td>No</td>\n",
              "      <td>Y</td>\n",
              "      <td>1.0</td>\n",
              "      <td>None</td>\n",
              "      <td>2</td>\n",
              "      <td>0.0</td>\n",
              "      <td>0.0</td>\n",
              "      <td>0.0</td>\n",
              "    </tr>\n",
              "    <tr>\n",
              "      <th>...</th>\n",
              "      <td>...</td>\n",
              "      <td>...</td>\n",
              "      <td>...</td>\n",
              "      <td>...</td>\n",
              "      <td>...</td>\n",
              "      <td>...</td>\n",
              "      <td>...</td>\n",
              "      <td>...</td>\n",
              "      <td>...</td>\n",
              "      <td>...</td>\n",
              "      <td>...</td>\n",
              "      <td>...</td>\n",
              "      <td>...</td>\n",
              "    </tr>\n",
              "    <tr>\n",
              "      <th>395</th>\n",
              "      <td>1</td>\n",
              "      <td>1</td>\n",
              "      <td>2</td>\n",
              "      <td>Low</td>\n",
              "      <td>Hair &amp; Shoulder</td>\n",
              "      <td>No</td>\n",
              "      <td>N</td>\n",
              "      <td>1.0</td>\n",
              "      <td>None</td>\n",
              "      <td>5</td>\n",
              "      <td>1.0</td>\n",
              "      <td>0.0</td>\n",
              "      <td>0.0</td>\n",
              "    </tr>\n",
              "    <tr>\n",
              "      <th>396</th>\n",
              "      <td>1</td>\n",
              "      <td>0</td>\n",
              "      <td>3</td>\n",
              "      <td>Low</td>\n",
              "      <td>Hair &amp; Shoulder</td>\n",
              "      <td>Yes</td>\n",
              "      <td>Y</td>\n",
              "      <td>2.0</td>\n",
              "      <td>None</td>\n",
              "      <td>1</td>\n",
              "      <td>0.0</td>\n",
              "      <td>0.0</td>\n",
              "      <td>0.0</td>\n",
              "    </tr>\n",
              "    <tr>\n",
              "      <th>397</th>\n",
              "      <td>1</td>\n",
              "      <td>1</td>\n",
              "      <td>1</td>\n",
              "      <td>Low</td>\n",
              "      <td>Hair &amp; Shoulder</td>\n",
              "      <td>No</td>\n",
              "      <td>N</td>\n",
              "      <td>2.0</td>\n",
              "      <td>None</td>\n",
              "      <td>5</td>\n",
              "      <td>1.0</td>\n",
              "      <td>0.0</td>\n",
              "      <td>0.0</td>\n",
              "    </tr>\n",
              "    <tr>\n",
              "      <th>398</th>\n",
              "      <td>0</td>\n",
              "      <td>1</td>\n",
              "      <td>1</td>\n",
              "      <td>Low</td>\n",
              "      <td>Hair &amp; Shoulder</td>\n",
              "      <td>No</td>\n",
              "      <td>N</td>\n",
              "      <td>2.0</td>\n",
              "      <td>None</td>\n",
              "      <td>5</td>\n",
              "      <td>1.0</td>\n",
              "      <td>0.0</td>\n",
              "      <td>0.0</td>\n",
              "    </tr>\n",
              "    <tr>\n",
              "      <th>399</th>\n",
              "      <td>1</td>\n",
              "      <td>0</td>\n",
              "      <td>2</td>\n",
              "      <td>Low</td>\n",
              "      <td>Hair &amp; Shoulder</td>\n",
              "      <td>Yes</td>\n",
              "      <td>Y</td>\n",
              "      <td>2.0</td>\n",
              "      <td>None</td>\n",
              "      <td>1</td>\n",
              "      <td>0.0</td>\n",
              "      <td>0.0</td>\n",
              "      <td>0.0</td>\n",
              "    </tr>\n",
              "  </tbody>\n",
              "</table>\n",
              "<p>400 rows × 13 columns</p>\n",
              "</div>\n",
              "      <button class=\"colab-df-convert\" onclick=\"convertToInteractive('df-5bfd6ad0-72f2-405c-9017-25b43560d99a')\"\n",
              "              title=\"Convert this dataframe to an interactive table.\"\n",
              "              style=\"display:none;\">\n",
              "        \n",
              "  <svg xmlns=\"http://www.w3.org/2000/svg\" height=\"24px\"viewBox=\"0 0 24 24\"\n",
              "       width=\"24px\">\n",
              "    <path d=\"M0 0h24v24H0V0z\" fill=\"none\"/>\n",
              "    <path d=\"M18.56 5.44l.94 2.06.94-2.06 2.06-.94-2.06-.94-.94-2.06-.94 2.06-2.06.94zm-11 1L8.5 8.5l.94-2.06 2.06-.94-2.06-.94L8.5 2.5l-.94 2.06-2.06.94zm10 10l.94 2.06.94-2.06 2.06-.94-2.06-.94-.94-2.06-.94 2.06-2.06.94z\"/><path d=\"M17.41 7.96l-1.37-1.37c-.4-.4-.92-.59-1.43-.59-.52 0-1.04.2-1.43.59L10.3 9.45l-7.72 7.72c-.78.78-.78 2.05 0 2.83L4 21.41c.39.39.9.59 1.41.59.51 0 1.02-.2 1.41-.59l7.78-7.78 2.81-2.81c.8-.78.8-2.07 0-2.86zM5.41 20L4 18.59l7.72-7.72 1.47 1.35L5.41 20z\"/>\n",
              "  </svg>\n",
              "      </button>\n",
              "      \n",
              "  <style>\n",
              "    .colab-df-container {\n",
              "      display:flex;\n",
              "      flex-wrap:wrap;\n",
              "      gap: 12px;\n",
              "    }\n",
              "\n",
              "    .colab-df-convert {\n",
              "      background-color: #E8F0FE;\n",
              "      border: none;\n",
              "      border-radius: 50%;\n",
              "      cursor: pointer;\n",
              "      display: none;\n",
              "      fill: #1967D2;\n",
              "      height: 32px;\n",
              "      padding: 0 0 0 0;\n",
              "      width: 32px;\n",
              "    }\n",
              "\n",
              "    .colab-df-convert:hover {\n",
              "      background-color: #E2EBFA;\n",
              "      box-shadow: 0px 1px 2px rgba(60, 64, 67, 0.3), 0px 1px 3px 1px rgba(60, 64, 67, 0.15);\n",
              "      fill: #174EA6;\n",
              "    }\n",
              "\n",
              "    [theme=dark] .colab-df-convert {\n",
              "      background-color: #3B4455;\n",
              "      fill: #D2E3FC;\n",
              "    }\n",
              "\n",
              "    [theme=dark] .colab-df-convert:hover {\n",
              "      background-color: #434B5C;\n",
              "      box-shadow: 0px 1px 3px 1px rgba(0, 0, 0, 0.15);\n",
              "      filter: drop-shadow(0px 1px 2px rgba(0, 0, 0, 0.3));\n",
              "      fill: #FFFFFF;\n",
              "    }\n",
              "  </style>\n",
              "\n",
              "      <script>\n",
              "        const buttonEl =\n",
              "          document.querySelector('#df-5bfd6ad0-72f2-405c-9017-25b43560d99a button.colab-df-convert');\n",
              "        buttonEl.style.display =\n",
              "          google.colab.kernel.accessAllowed ? 'block' : 'none';\n",
              "\n",
              "        async function convertToInteractive(key) {\n",
              "          const element = document.querySelector('#df-5bfd6ad0-72f2-405c-9017-25b43560d99a');\n",
              "          const dataTable =\n",
              "            await google.colab.kernel.invokeFunction('convertToInteractive',\n",
              "                                                     [key], {});\n",
              "          if (!dataTable) return;\n",
              "\n",
              "          const docLinkHtml = 'Like what you see? Visit the ' +\n",
              "            '<a target=\"_blank\" href=https://colab.research.google.com/notebooks/data_table.ipynb>data table notebook</a>'\n",
              "            + ' to learn more about interactive tables.';\n",
              "          element.innerHTML = '';\n",
              "          dataTable['output_type'] = 'display_data';\n",
              "          await google.colab.output.renderOutput(dataTable, element);\n",
              "          const docLink = document.createElement('div');\n",
              "          docLink.innerHTML = docLinkHtml;\n",
              "          element.appendChild(docLink);\n",
              "        }\n",
              "      </script>\n",
              "    </div>\n",
              "  </div>\n",
              "  "
            ]
          },
          "metadata": {},
          "execution_count": 398
        }
      ]
    },
    {
      "cell_type": "markdown",
      "source": [
        "### Stress Level"
      ],
      "metadata": {
        "id": "JRRTbVz8ouoc"
      }
    },
    {
      "cell_type": "code",
      "source": [
        "Data['stress_level'].value_counts()"
      ],
      "metadata": {
        "colab": {
          "base_uri": "https://localhost:8080/"
        },
        "outputId": "814449e8-3d97-4972-ac25-6283820d5cf3",
        "id": "j-9LMkZhqEkb"
      },
      "execution_count": null,
      "outputs": [
        {
          "output_type": "execute_result",
          "data": {
            "text/plain": [
              "Low          261\n",
              "Medium        56\n",
              "High          45\n",
              "Very High     38\n",
              "Name: stress_level, dtype: int64"
            ]
          },
          "metadata": {},
          "execution_count": 399
        }
      ]
    },
    {
      "cell_type": "code",
      "source": [
        "sns.countplot(x='stress_level', data = Data)"
      ],
      "metadata": {
        "colab": {
          "base_uri": "https://localhost:8080/",
          "height": 297
        },
        "id": "zoORwAtcqEke",
        "outputId": "ce1a21e6-ab0e-43d0-b985-8da2e6e9a096"
      },
      "execution_count": null,
      "outputs": [
        {
          "output_type": "execute_result",
          "data": {
            "text/plain": [
              "<matplotlib.axes._subplots.AxesSubplot at 0x7f8a1861bad0>"
            ]
          },
          "metadata": {},
          "execution_count": 400
        },
        {
          "output_type": "display_data",
          "data": {
            "text/plain": [
              "<Figure size 432x288 with 1 Axes>"
            ],
            "image/png": "[encoded data removed]"
          },
          "metadata": {
            "needs_background": "light"
          }
        }
      ]
    },
    {
      "cell_type": "code",
      "source": [
        "stress_level = ['Low', 'Medium', 'High', 'Very High']\n",
        "\n",
        "ord_enc_inc = OrdinalEncoder(categories=[stress_level])\n",
        "cat_ord_inc = pd.DataFrame(ord_enc_inc.fit_transform(Data[['stress_level']]))\n",
        "cat_ord_inc.columns = ['stress_level']"
      ],
      "metadata": {
        "id": "nJGRCqAZqZEj"
      },
      "execution_count": null,
      "outputs": []
    },
    {
      "cell_type": "code",
      "source": [
        "Data = Data.drop('stress_level', axis=1)\n",
        "Data=pd.concat([Data.reset_index(drop=True), cat_ord_inc], axis=1)\n",
        "Data"
      ],
      "metadata": {
        "colab": {
          "base_uri": "https://localhost:8080/",
          "height": 488
        },
        "id": "hgYO4MzcqqVV",
        "outputId": "3ced6379-ff79-4747-8893-ba2d11662957"
      },
      "execution_count": null,
      "outputs": [
        {
          "output_type": "execute_result",
          "data": {
            "text/plain": [
              "     stay_up_late  coffee_consumed  brain_working_duration    shampoo_brand  \\\n",
              "0               2                0                       1          Pantene   \n",
              "1               0                0                       3          Pantene   \n",
              "2               3                1                       0          Pantene   \n",
              "3               2                0                       1          Pantene   \n",
              "4               2                0                       1          Pantene   \n",
              "..            ...              ...                     ...              ...   \n",
              "395             1                1                       2  Hair & Shoulder   \n",
              "396             1                0                       3  Hair & Shoulder   \n",
              "397             1                1                       1  Hair & Shoulder   \n",
              "398             0                1                       1  Hair & Shoulder   \n",
              "399             1                0                       2  Hair & Shoulder   \n",
              "\n",
              "    swimming hair_washing  hair_grease dandruff  libido  hair_loss  \\\n",
              "0         No            Y          3.0     None       1        0.0   \n",
              "1         No            N          1.0     None       1        0.0   \n",
              "2        Yes            Y          2.0     None       2        1.0   \n",
              "3         No            N          3.0     None       3        0.0   \n",
              "4         No            Y          1.0     None       2        0.0   \n",
              "..       ...          ...          ...      ...     ...        ...   \n",
              "395       No            N          1.0     None       5        1.0   \n",
              "396      Yes            Y          2.0     None       1        0.0   \n",
              "397       No            N          2.0     None       5        1.0   \n",
              "398       No            N          2.0     None       5        1.0   \n",
              "399      Yes            Y          2.0     None       1        0.0   \n",
              "\n",
              "     pressure_level  school_assesssment  stress_level  \n",
              "0               0.0                 0.0           0.0  \n",
              "1               0.0                 0.0           0.0  \n",
              "2               0.0                 0.0           0.0  \n",
              "3               0.0                 0.0           0.0  \n",
              "4               0.0                 0.0           0.0  \n",
              "..              ...                 ...           ...  \n",
              "395             0.0                 0.0           0.0  \n",
              "396             0.0                 0.0           0.0  \n",
              "397             0.0                 0.0           0.0  \n",
              "398             0.0                 0.0           0.0  \n",
              "399             0.0                 0.0           0.0  \n",
              "\n",
              "[400 rows x 13 columns]"
            ],
            "text/html": [
              "\n",
              "  <div id=\"df-b14b5416-c7db-4a6a-9b00-2e2ac24e1312\">\n",
              "    <div class=\"colab-df-container\">\n",
              "      <div>\n",
              "<style scoped>\n",
              "    .dataframe tbody tr th:only-of-type {\n",
              "        vertical-align: middle;\n",
              "    }\n",
              "\n",
              "    .dataframe tbody tr th {\n",
              "        vertical-align: top;\n",
              "    }\n",
              "\n",
              "    .dataframe thead th {\n",
              "        text-align: right;\n",
              "    }\n",
              "</style>\n",
              "<table border=\"1\" class=\"dataframe\">\n",
              "  <thead>\n",
              "    <tr style=\"text-align: right;\">\n",
              "      <th></th>\n",
              "      <th>stay_up_late</th>\n",
              "      <th>coffee_consumed</th>\n",
              "      <th>brain_working_duration</th>\n",
              "      <th>shampoo_brand</th>\n",
              "      <th>swimming</th>\n",
              "      <th>hair_washing</th>\n",
              "      <th>hair_grease</th>\n",
              "      <th>dandruff</th>\n",
              "      <th>libido</th>\n",
              "      <th>hair_loss</th>\n",
              "      <th>pressure_level</th>\n",
              "      <th>school_assesssment</th>\n",
              "      <th>stress_level</th>\n",
              "    </tr>\n",
              "  </thead>\n",
              "  <tbody>\n",
              "    <tr>\n",
              "      <th>0</th>\n",
              "      <td>2</td>\n",
              "      <td>0</td>\n",
              "      <td>1</td>\n",
              "      <td>Pantene</td>\n",
              "      <td>No</td>\n",
              "      <td>Y</td>\n",
              "      <td>3.0</td>\n",
              "      <td>None</td>\n",
              "      <td>1</td>\n",
              "      <td>0.0</td>\n",
              "      <td>0.0</td>\n",
              "      <td>0.0</td>\n",
              "      <td>0.0</td>\n",
              "    </tr>\n",
              "    <tr>\n",
              "      <th>1</th>\n",
              "      <td>0</td>\n",
              "      <td>0</td>\n",
              "      <td>3</td>\n",
              "      <td>Pantene</td>\n",
              "      <td>No</td>\n",
              "      <td>N</td>\n",
              "      <td>1.0</td>\n",
              "      <td>None</td>\n",
              "      <td>1</td>\n",
              "      <td>0.0</td>\n",
              "      <td>0.0</td>\n",
              "      <td>0.0</td>\n",
              "      <td>0.0</td>\n",
              "    </tr>\n",
              "    <tr>\n",
              "      <th>2</th>\n",
              "      <td>3</td>\n",
              "      <td>1</td>\n",
              "      <td>0</td>\n",
              "      <td>Pantene</td>\n",
              "      <td>Yes</td>\n",
              "      <td>Y</td>\n",
              "      <td>2.0</td>\n",
              "      <td>None</td>\n",
              "      <td>2</td>\n",
              "      <td>1.0</td>\n",
              "      <td>0.0</td>\n",
              "      <td>0.0</td>\n",
              "      <td>0.0</td>\n",
              "    </tr>\n",
              "    <tr>\n",
              "      <th>3</th>\n",
              "      <td>2</td>\n",
              "      <td>0</td>\n",
              "      <td>1</td>\n",
              "      <td>Pantene</td>\n",
              "      <td>No</td>\n",
              "      <td>N</td>\n",
              "      <td>3.0</td>\n",
              "      <td>None</td>\n",
              "      <td>3</td>\n",
              "      <td>0.0</td>\n",
              "      <td>0.0</td>\n",
              "      <td>0.0</td>\n",
              "      <td>0.0</td>\n",
              "    </tr>\n",
              "    <tr>\n",
              "      <th>4</th>\n",
              "      <td>2</td>\n",
              "      <td>0</td>\n",
              "      <td>1</td>\n",
              "      <td>Pantene</td>\n",
              "      <td>No</td>\n",
              "      <td>Y</td>\n",
              "      <td>1.0</td>\n",
              "      <td>None</td>\n",
              "      <td>2</td>\n",
              "      <td>0.0</td>\n",
              "      <td>0.0</td>\n",
              "      <td>0.0</td>\n",
              "      <td>0.0</td>\n",
              "    </tr>\n",
              "    <tr>\n",
              "      <th>...</th>\n",
              "      <td>...</td>\n",
              "      <td>...</td>\n",
              "      <td>...</td>\n",
              "      <td>...</td>\n",
              "      <td>...</td>\n",
              "      <td>...</td>\n",
              "      <td>...</td>\n",
              "      <td>...</td>\n",
              "      <td>...</td>\n",
              "      <td>...</td>\n",
              "      <td>...</td>\n",
              "      <td>...</td>\n",
              "      <td>...</td>\n",
              "    </tr>\n",
              "    <tr>\n",
              "      <th>395</th>\n",
              "      <td>1</td>\n",
              "      <td>1</td>\n",
              "      <td>2</td>\n",
              "      <td>Hair &amp; Shoulder</td>\n",
              "      <td>No</td>\n",
              "      <td>N</td>\n",
              "      <td>1.0</td>\n",
              "      <td>None</td>\n",
              "      <td>5</td>\n",
              "      <td>1.0</td>\n",
              "      <td>0.0</td>\n",
              "      <td>0.0</td>\n",
              "      <td>0.0</td>\n",
              "    </tr>\n",
              "    <tr>\n",
              "      <th>396</th>\n",
              "      <td>1</td>\n",
              "      <td>0</td>\n",
              "      <td>3</td>\n",
              "      <td>Hair &amp; Shoulder</td>\n",
              "      <td>Yes</td>\n",
              "      <td>Y</td>\n",
              "      <td>2.0</td>\n",
              "      <td>None</td>\n",
              "      <td>1</td>\n",
              "      <td>0.0</td>\n",
              "      <td>0.0</td>\n",
              "      <td>0.0</td>\n",
              "      <td>0.0</td>\n",
              "    </tr>\n",
              "    <tr>\n",
              "      <th>397</th>\n",
              "      <td>1</td>\n",
              "      <td>1</td>\n",
              "      <td>1</td>\n",
              "      <td>Hair &amp; Shoulder</td>\n",
              "      <td>No</td>\n",
              "      <td>N</td>\n",
              "      <td>2.0</td>\n",
              "      <td>None</td>\n",
              "      <td>5</td>\n",
              "      <td>1.0</td>\n",
              "      <td>0.0</td>\n",
              "      <td>0.0</td>\n",
              "      <td>0.0</td>\n",
              "    </tr>\n",
              "    <tr>\n",
              "      <th>398</th>\n",
              "      <td>0</td>\n",
              "      <td>1</td>\n",
              "      <td>1</td>\n",
              "      <td>Hair &amp; Shoulder</td>\n",
              "      <td>No</td>\n",
              "      <td>N</td>\n",
              "      <td>2.0</td>\n",
              "      <td>None</td>\n",
              "      <td>5</td>\n",
              "      <td>1.0</td>\n",
              "      <td>0.0</td>\n",
              "      <td>0.0</td>\n",
              "      <td>0.0</td>\n",
              "    </tr>\n",
              "    <tr>\n",
              "      <th>399</th>\n",
              "      <td>1</td>\n",
              "      <td>0</td>\n",
              "      <td>2</td>\n",
              "      <td>Hair &amp; Shoulder</td>\n",
              "      <td>Yes</td>\n",
              "      <td>Y</td>\n",
              "      <td>2.0</td>\n",
              "      <td>None</td>\n",
              "      <td>1</td>\n",
              "      <td>0.0</td>\n",
              "      <td>0.0</td>\n",
              "      <td>0.0</td>\n",
              "      <td>0.0</td>\n",
              "    </tr>\n",
              "  </tbody>\n",
              "</table>\n",
              "<p>400 rows × 13 columns</p>\n",
              "</div>\n",
              "      <button class=\"colab-df-convert\" onclick=\"convertToInteractive('df-b14b5416-c7db-4a6a-9b00-2e2ac24e1312')\"\n",
              "              title=\"Convert this dataframe to an interactive table.\"\n",
              "              style=\"display:none;\">\n",
              "        \n",
              "  <svg xmlns=\"http://www.w3.org/2000/svg\" height=\"24px\"viewBox=\"0 0 24 24\"\n",
              "       width=\"24px\">\n",
              "    <path d=\"M0 0h24v24H0V0z\" fill=\"none\"/>\n",
              "    <path d=\"M18.56 5.44l.94 2.06.94-2.06 2.06-.94-2.06-.94-.94-2.06-.94 2.06-2.06.94zm-11 1L8.5 8.5l.94-2.06 2.06-.94-2.06-.94L8.5 2.5l-.94 2.06-2.06.94zm10 10l.94 2.06.94-2.06 2.06-.94-2.06-.94-.94-2.06-.94 2.06-2.06.94z\"/><path d=\"M17.41 7.96l-1.37-1.37c-.4-.4-.92-.59-1.43-.59-.52 0-1.04.2-1.43.59L10.3 9.45l-7.72 7.72c-.78.78-.78 2.05 0 2.83L4 21.41c.39.39.9.59 1.41.59.51 0 1.02-.2 1.41-.59l7.78-7.78 2.81-2.81c.8-.78.8-2.07 0-2.86zM5.41 20L4 18.59l7.72-7.72 1.47 1.35L5.41 20z\"/>\n",
              "  </svg>\n",
              "      </button>\n",
              "      \n",
              "  <style>\n",
              "    .colab-df-container {\n",
              "      display:flex;\n",
              "      flex-wrap:wrap;\n",
              "      gap: 12px;\n",
              "    }\n",
              "\n",
              "    .colab-df-convert {\n",
              "      background-color: #E8F0FE;\n",
              "      border: none;\n",
              "      border-radius: 50%;\n",
              "      cursor: pointer;\n",
              "      display: none;\n",
              "      fill: #1967D2;\n",
              "      height: 32px;\n",
              "      padding: 0 0 0 0;\n",
              "      width: 32px;\n",
              "    }\n",
              "\n",
              "    .colab-df-convert:hover {\n",
              "      background-color: #E2EBFA;\n",
              "      box-shadow: 0px 1px 2px rgba(60, 64, 67, 0.3), 0px 1px 3px 1px rgba(60, 64, 67, 0.15);\n",
              "      fill: #174EA6;\n",
              "    }\n",
              "\n",
              "    [theme=dark] .colab-df-convert {\n",
              "      background-color: #3B4455;\n",
              "      fill: #D2E3FC;\n",
              "    }\n",
              "\n",
              "    [theme=dark] .colab-df-convert:hover {\n",
              "      background-color: #434B5C;\n",
              "      box-shadow: 0px 1px 3px 1px rgba(0, 0, 0, 0.15);\n",
              "      filter: drop-shadow(0px 1px 2px rgba(0, 0, 0, 0.3));\n",
              "      fill: #FFFFFF;\n",
              "    }\n",
              "  </style>\n",
              "\n",
              "      <script>\n",
              "        const buttonEl =\n",
              "          document.querySelector('#df-b14b5416-c7db-4a6a-9b00-2e2ac24e1312 button.colab-df-convert');\n",
              "        buttonEl.style.display =\n",
              "          google.colab.kernel.accessAllowed ? 'block' : 'none';\n",
              "\n",
              "        async function convertToInteractive(key) {\n",
              "          const element = document.querySelector('#df-b14b5416-c7db-4a6a-9b00-2e2ac24e1312');\n",
              "          const dataTable =\n",
              "            await google.colab.kernel.invokeFunction('convertToInteractive',\n",
              "                                                     [key], {});\n",
              "          if (!dataTable) return;\n",
              "\n",
              "          const docLinkHtml = 'Like what you see? Visit the ' +\n",
              "            '<a target=\"_blank\" href=https://colab.research.google.com/notebooks/data_table.ipynb>data table notebook</a>'\n",
              "            + ' to learn more about interactive tables.';\n",
              "          element.innerHTML = '';\n",
              "          dataTable['output_type'] = 'display_data';\n",
              "          await google.colab.output.renderOutput(dataTable, element);\n",
              "          const docLink = document.createElement('div');\n",
              "          docLink.innerHTML = docLinkHtml;\n",
              "          element.appendChild(docLink);\n",
              "        }\n",
              "      </script>\n",
              "    </div>\n",
              "  </div>\n",
              "  "
            ]
          },
          "metadata": {},
          "execution_count": 402
        }
      ]
    },
    {
      "cell_type": "markdown",
      "source": [
        "### Shampoo Brand"
      ],
      "metadata": {
        "id": "9CGnNSaBoxY4"
      }
    },
    {
      "cell_type": "code",
      "source": [
        "Data['shampoo_brand'].value_counts()"
      ],
      "metadata": {
        "colab": {
          "base_uri": "https://localhost:8080/"
        },
        "outputId": "8f8cd960-09c0-45b8-eb5f-e04d188d1d98",
        "id": "bjlcurbFqGD1"
      },
      "execution_count": null,
      "outputs": [
        {
          "output_type": "execute_result",
          "data": {
            "text/plain": [
              "Hair & Shoulder    273\n",
              "Pantene            127\n",
              "Name: shampoo_brand, dtype: int64"
            ]
          },
          "metadata": {},
          "execution_count": 403
        }
      ]
    },
    {
      "cell_type": "code",
      "source": [
        "sns.countplot(x='shampoo_brand', data = Data)"
      ],
      "metadata": {
        "colab": {
          "base_uri": "https://localhost:8080/",
          "height": 297
        },
        "id": "4MmnZ4IEqGD2",
        "outputId": "88f18877-16ea-4d9f-d70a-b9375e76bfbb"
      },
      "execution_count": null,
      "outputs": [
        {
          "output_type": "execute_result",
          "data": {
            "text/plain": [
              "<matplotlib.axes._subplots.AxesSubplot at 0x7f8a17f3d090>"
            ]
          },
          "metadata": {},
          "execution_count": 404
        },
        {
          "output_type": "display_data",
          "data": {
            "text/plain": [
              "<Figure size 432x288 with 1 Axes>"
            ],
            "image/png": "[encoded data removed]"
          },
          "metadata": {
            "needs_background": "light"
          }
        }
      ]
    },
    {
      "cell_type": "code",
      "source": [
        "ohe_enc = OneHotEncoder(sparse=False, handle_unknown='ignore')\n",
        "\n",
        "cat_ohe = pd.DataFrame(ohe_enc.fit_transform(Data[['shampoo_brand']]))\n",
        "cat_ohe.columns = ohe_enc.get_feature_names(['shampoo_brand'])\n",
        "Data = Data.drop('shampoo_brand', axis=1)\n",
        "Data = pd.concat([Data.reset_index(drop=True), cat_ohe], axis=1)"
      ],
      "metadata": {
        "colab": {
          "base_uri": "https://localhost:8080/"
        },
        "id": "Sfhfl4HQQyUh",
        "outputId": "37a06b5f-16af-4021-a4da-bd22839c269c"
      },
      "execution_count": null,
      "outputs": [
        {
          "output_type": "stream",
          "name": "stderr",
          "text": [
            "/usr/local/lib/python3.7/dist-packages/sklearn/utils/deprecation.py:87: FutureWarning: Function get_feature_names is deprecated; get_feature_names is deprecated in 1.0 and will be removed in 1.2. Please use get_feature_names_out instead.\n",
            "  warnings.warn(msg, category=FutureWarning)\n"
          ]
        }
      ]
    },
    {
      "cell_type": "code",
      "source": [
        "Data.head()"
      ],
      "metadata": {
        "colab": {
          "base_uri": "https://localhost:8080/",
          "height": 287
        },
        "id": "KQdmwkW4Q2qg",
        "outputId": "661dd344-3cdc-4a60-af1b-a9480cd1e9c3"
      },
      "execution_count": null,
      "outputs": [
        {
          "output_type": "execute_result",
          "data": {
            "text/plain": [
              "   stay_up_late  coffee_consumed  brain_working_duration swimming  \\\n",
              "0             2                0                       1       No   \n",
              "1             0                0                       3       No   \n",
              "2             3                1                       0      Yes   \n",
              "3             2                0                       1       No   \n",
              "4             2                0                       1       No   \n",
              "\n",
              "  hair_washing  hair_grease dandruff  libido  hair_loss  pressure_level  \\\n",
              "0            Y          3.0     None       1        0.0             0.0   \n",
              "1            N          1.0     None       1        0.0             0.0   \n",
              "2            Y          2.0     None       2        1.0             0.0   \n",
              "3            N          3.0     None       3        0.0             0.0   \n",
              "4            Y          1.0     None       2        0.0             0.0   \n",
              "\n",
              "   school_assesssment  stress_level  shampoo_brand_Hair & Shoulder  \\\n",
              "0                 0.0           0.0                            0.0   \n",
              "1                 0.0           0.0                            0.0   \n",
              "2                 0.0           0.0                            0.0   \n",
              "3                 0.0           0.0                            0.0   \n",
              "4                 0.0           0.0                            0.0   \n",
              "\n",
              "   shampoo_brand_Pantene  \n",
              "0                    1.0  \n",
              "1                    1.0  \n",
              "2                    1.0  \n",
              "3                    1.0  \n",
              "4                    1.0  "
            ],
            "text/html": [
              "\n",
              "  <div id=\"df-1d82e3f3-6d87-4de7-9572-5589b96f617f\">\n",
              "    <div class=\"colab-df-container\">\n",
              "      <div>\n",
              "<style scoped>\n",
              "    .dataframe tbody tr th:only-of-type {\n",
              "        vertical-align: middle;\n",
              "    }\n",
              "\n",
              "    .dataframe tbody tr th {\n",
              "        vertical-align: top;\n",
              "    }\n",
              "\n",
              "    .dataframe thead th {\n",
              "        text-align: right;\n",
              "    }\n",
              "</style>\n",
              "<table border=\"1\" class=\"dataframe\">\n",
              "  <thead>\n",
              "    <tr style=\"text-align: right;\">\n",
              "      <th></th>\n",
              "      <th>stay_up_late</th>\n",
              "      <th>coffee_consumed</th>\n",
              "      <th>brain_working_duration</th>\n",
              "      <th>swimming</th>\n",
              "      <th>hair_washing</th>\n",
              "      <th>hair_grease</th>\n",
              "      <th>dandruff</th>\n",
              "      <th>libido</th>\n",
              "      <th>hair_loss</th>\n",
              "      <th>pressure_level</th>\n",
              "      <th>school_assesssment</th>\n",
              "      <th>stress_level</th>\n",
              "      <th>shampoo_brand_Hair &amp; Shoulder</th>\n",
              "      <th>shampoo_brand_Pantene</th>\n",
              "    </tr>\n",
              "  </thead>\n",
              "  <tbody>\n",
              "    <tr>\n",
              "      <th>0</th>\n",
              "      <td>2</td>\n",
              "      <td>0</td>\n",
              "      <td>1</td>\n",
              "      <td>No</td>\n",
              "      <td>Y</td>\n",
              "      <td>3.0</td>\n",
              "      <td>None</td>\n",
              "      <td>1</td>\n",
              "      <td>0.0</td>\n",
              "      <td>0.0</td>\n",
              "      <td>0.0</td>\n",
              "      <td>0.0</td>\n",
              "      <td>0.0</td>\n",
              "      <td>1.0</td>\n",
              "    </tr>\n",
              "    <tr>\n",
              "      <th>1</th>\n",
              "      <td>0</td>\n",
              "      <td>0</td>\n",
              "      <td>3</td>\n",
              "      <td>No</td>\n",
              "      <td>N</td>\n",
              "      <td>1.0</td>\n",
              "      <td>None</td>\n",
              "      <td>1</td>\n",
              "      <td>0.0</td>\n",
              "      <td>0.0</td>\n",
              "      <td>0.0</td>\n",
              "      <td>0.0</td>\n",
              "      <td>0.0</td>\n",
              "      <td>1.0</td>\n",
              "    </tr>\n",
              "    <tr>\n",
              "      <th>2</th>\n",
              "      <td>3</td>\n",
              "      <td>1</td>\n",
              "      <td>0</td>\n",
              "      <td>Yes</td>\n",
              "      <td>Y</td>\n",
              "      <td>2.0</td>\n",
              "      <td>None</td>\n",
              "      <td>2</td>\n",
              "      <td>1.0</td>\n",
              "      <td>0.0</td>\n",
              "      <td>0.0</td>\n",
              "      <td>0.0</td>\n",
              "      <td>0.0</td>\n",
              "      <td>1.0</td>\n",
              "    </tr>\n",
              "    <tr>\n",
              "      <th>3</th>\n",
              "      <td>2</td>\n",
              "      <td>0</td>\n",
              "      <td>1</td>\n",
              "      <td>No</td>\n",
              "      <td>N</td>\n",
              "      <td>3.0</td>\n",
              "      <td>None</td>\n",
              "      <td>3</td>\n",
              "      <td>0.0</td>\n",
              "      <td>0.0</td>\n",
              "      <td>0.0</td>\n",
              "      <td>0.0</td>\n",
              "      <td>0.0</td>\n",
              "      <td>1.0</td>\n",
              "    </tr>\n",
              "    <tr>\n",
              "      <th>4</th>\n",
              "      <td>2</td>\n",
              "      <td>0</td>\n",
              "      <td>1</td>\n",
              "      <td>No</td>\n",
              "      <td>Y</td>\n",
              "      <td>1.0</td>\n",
              "      <td>None</td>\n",
              "      <td>2</td>\n",
              "      <td>0.0</td>\n",
              "      <td>0.0</td>\n",
              "      <td>0.0</td>\n",
              "      <td>0.0</td>\n",
              "      <td>0.0</td>\n",
              "      <td>1.0</td>\n",
              "    </tr>\n",
              "  </tbody>\n",
              "</table>\n",
              "</div>\n",
              "      <button class=\"colab-df-convert\" onclick=\"convertToInteractive('df-1d82e3f3-6d87-4de7-9572-5589b96f617f')\"\n",
              "              title=\"Convert this dataframe to an interactive table.\"\n",
              "              style=\"display:none;\">\n",
              "        \n",
              "  <svg xmlns=\"http://www.w3.org/2000/svg\" height=\"24px\"viewBox=\"0 0 24 24\"\n",
              "       width=\"24px\">\n",
              "    <path d=\"M0 0h24v24H0V0z\" fill=\"none\"/>\n",
              "    <path d=\"M18.56 5.44l.94 2.06.94-2.06 2.06-.94-2.06-.94-.94-2.06-.94 2.06-2.06.94zm-11 1L8.5 8.5l.94-2.06 2.06-.94-2.06-.94L8.5 2.5l-.94 2.06-2.06.94zm10 10l.94 2.06.94-2.06 2.06-.94-2.06-.94-.94-2.06-.94 2.06-2.06.94z\"/><path d=\"M17.41 7.96l-1.37-1.37c-.4-.4-.92-.59-1.43-.59-.52 0-1.04.2-1.43.59L10.3 9.45l-7.72 7.72c-.78.78-.78 2.05 0 2.83L4 21.41c.39.39.9.59 1.41.59.51 0 1.02-.2 1.41-.59l7.78-7.78 2.81-2.81c.8-.78.8-2.07 0-2.86zM5.41 20L4 18.59l7.72-7.72 1.47 1.35L5.41 20z\"/>\n",
              "  </svg>\n",
              "      </button>\n",
              "      \n",
              "  <style>\n",
              "    .colab-df-container {\n",
              "      display:flex;\n",
              "      flex-wrap:wrap;\n",
              "      gap: 12px;\n",
              "    }\n",
              "\n",
              "    .colab-df-convert {\n",
              "      background-color: #E8F0FE;\n",
              "      border: none;\n",
              "      border-radius: 50%;\n",
              "      cursor: pointer;\n",
              "      display: none;\n",
              "      fill: #1967D2;\n",
              "      height: 32px;\n",
              "      padding: 0 0 0 0;\n",
              "      width: 32px;\n",
              "    }\n",
              "\n",
              "    .colab-df-convert:hover {\n",
              "      background-color: #E2EBFA;\n",
              "      box-shadow: 0px 1px 2px rgba(60, 64, 67, 0.3), 0px 1px 3px 1px rgba(60, 64, 67, 0.15);\n",
              "      fill: #174EA6;\n",
              "    }\n",
              "\n",
              "    [theme=dark] .colab-df-convert {\n",
              "      background-color: #3B4455;\n",
              "      fill: #D2E3FC;\n",
              "    }\n",
              "\n",
              "    [theme=dark] .colab-df-convert:hover {\n",
              "      background-color: #434B5C;\n",
              "      box-shadow: 0px 1px 3px 1px rgba(0, 0, 0, 0.15);\n",
              "      filter: drop-shadow(0px 1px 2px rgba(0, 0, 0, 0.3));\n",
              "      fill: #FFFFFF;\n",
              "    }\n",
              "  </style>\n",
              "\n",
              "      <script>\n",
              "        const buttonEl =\n",
              "          document.querySelector('#df-1d82e3f3-6d87-4de7-9572-5589b96f617f button.colab-df-convert');\n",
              "        buttonEl.style.display =\n",
              "          google.colab.kernel.accessAllowed ? 'block' : 'none';\n",
              "\n",
              "        async function convertToInteractive(key) {\n",
              "          const element = document.querySelector('#df-1d82e3f3-6d87-4de7-9572-5589b96f617f');\n",
              "          const dataTable =\n",
              "            await google.colab.kernel.invokeFunction('convertToInteractive',\n",
              "                                                     [key], {});\n",
              "          if (!dataTable) return;\n",
              "\n",
              "          const docLinkHtml = 'Like what you see? Visit the ' +\n",
              "            '<a target=\"_blank\" href=https://colab.research.google.com/notebooks/data_table.ipynb>data table notebook</a>'\n",
              "            + ' to learn more about interactive tables.';\n",
              "          element.innerHTML = '';\n",
              "          dataTable['output_type'] = 'display_data';\n",
              "          await google.colab.output.renderOutput(dataTable, element);\n",
              "          const docLink = document.createElement('div');\n",
              "          docLink.innerHTML = docLinkHtml;\n",
              "          element.appendChild(docLink);\n",
              "        }\n",
              "      </script>\n",
              "    </div>\n",
              "  </div>\n",
              "  "
            ]
          },
          "metadata": {},
          "execution_count": 406
        }
      ]
    },
    {
      "cell_type": "markdown",
      "source": [
        "### Swimming"
      ],
      "metadata": {
        "id": "JQT-UDyupPy2"
      }
    },
    {
      "cell_type": "code",
      "source": [
        "Data['swimming'].value_counts()"
      ],
      "metadata": {
        "colab": {
          "base_uri": "https://localhost:8080/"
        },
        "outputId": "f5ba38d8-3030-4b42-df17-6128f6a99ed2",
        "id": "X-9QaYNHqGxf"
      },
      "execution_count": null,
      "outputs": [
        {
          "output_type": "execute_result",
          "data": {
            "text/plain": [
              "No     307\n",
              "Yes     93\n",
              "Name: swimming, dtype: int64"
            ]
          },
          "metadata": {},
          "execution_count": 407
        }
      ]
    },
    {
      "cell_type": "code",
      "source": [
        "sns.countplot(x='swimming', data = Data)"
      ],
      "metadata": {
        "colab": {
          "base_uri": "https://localhost:8080/",
          "height": 296
        },
        "id": "tS-y3xxMqGxh",
        "outputId": "b364bdfb-8d65-4292-95d5-23832e422126"
      },
      "execution_count": null,
      "outputs": [
        {
          "output_type": "execute_result",
          "data": {
            "text/plain": [
              "<matplotlib.axes._subplots.AxesSubplot at 0x7f8a17e9ccd0>"
            ]
          },
          "metadata": {},
          "execution_count": 408
        },
        {
          "output_type": "display_data",
          "data": {
            "text/plain": [
              "<Figure size 432x288 with 1 Axes>"
            ],
            "image/png": "[encoded data removed]"
          },
          "metadata": {
            "needs_background": "light"
          }
        }
      ]
    },
    {
      "cell_type": "code",
      "source": [
        "swimming = ['No', 'Yes']\n",
        "\n",
        "ord_enc_inc = OrdinalEncoder(categories=[swimming])\n",
        "cat_ord_inc = pd.DataFrame(ord_enc_inc.fit_transform(Data[['swimming']]))\n",
        "cat_ord_inc.columns = ['swimming']"
      ],
      "metadata": {
        "id": "sNWm0_y7STdo"
      },
      "execution_count": null,
      "outputs": []
    },
    {
      "cell_type": "code",
      "source": [
        "Data = Data.drop('swimming', axis=1)\n",
        "Data=pd.concat([Data.reset_index(drop=True), cat_ord_inc], axis=1)\n",
        "Data.head()"
      ],
      "metadata": {
        "colab": {
          "base_uri": "https://localhost:8080/",
          "height": 287
        },
        "id": "bIYR72XDSXWt",
        "outputId": "36a61cc6-8794-47fd-e191-d4e907a91a1b"
      },
      "execution_count": null,
      "outputs": [
        {
          "output_type": "execute_result",
          "data": {
            "text/plain": [
              "   stay_up_late  coffee_consumed  brain_working_duration hair_washing  \\\n",
              "0             2                0                       1            Y   \n",
              "1             0                0                       3            N   \n",
              "2             3                1                       0            Y   \n",
              "3             2                0                       1            N   \n",
              "4             2                0                       1            Y   \n",
              "\n",
              "   hair_grease dandruff  libido  hair_loss  pressure_level  \\\n",
              "0          3.0     None       1        0.0             0.0   \n",
              "1          1.0     None       1        0.0             0.0   \n",
              "2          2.0     None       2        1.0             0.0   \n",
              "3          3.0     None       3        0.0             0.0   \n",
              "4          1.0     None       2        0.0             0.0   \n",
              "\n",
              "   school_assesssment  stress_level  shampoo_brand_Hair & Shoulder  \\\n",
              "0                 0.0           0.0                            0.0   \n",
              "1                 0.0           0.0                            0.0   \n",
              "2                 0.0           0.0                            0.0   \n",
              "3                 0.0           0.0                            0.0   \n",
              "4                 0.0           0.0                            0.0   \n",
              "\n",
              "   shampoo_brand_Pantene  swimming  \n",
              "0                    1.0       0.0  \n",
              "1                    1.0       0.0  \n",
              "2                    1.0       1.0  \n",
              "3                    1.0       0.0  \n",
              "4                    1.0       0.0  "
            ],
            "text/html": [
              "\n",
              "  <div id=\"df-1be4887b-4b3d-4138-b199-a3c30a06a6b8\">\n",
              "    <div class=\"colab-df-container\">\n",
              "      <div>\n",
              "<style scoped>\n",
              "    .dataframe tbody tr th:only-of-type {\n",
              "        vertical-align: middle;\n",
              "    }\n",
              "\n",
              "    .dataframe tbody tr th {\n",
              "        vertical-align: top;\n",
              "    }\n",
              "\n",
              "    .dataframe thead th {\n",
              "        text-align: right;\n",
              "    }\n",
              "</style>\n",
              "<table border=\"1\" class=\"dataframe\">\n",
              "  <thead>\n",
              "    <tr style=\"text-align: right;\">\n",
              "      <th></th>\n",
              "      <th>stay_up_late</th>\n",
              "      <th>coffee_consumed</th>\n",
              "      <th>brain_working_duration</th>\n",
              "      <th>hair_washing</th>\n",
              "      <th>hair_grease</th>\n",
              "      <th>dandruff</th>\n",
              "      <th>libido</th>\n",
              "      <th>hair_loss</th>\n",
              "      <th>pressure_level</th>\n",
              "      <th>school_assesssment</th>\n",
              "      <th>stress_level</th>\n",
              "      <th>shampoo_brand_Hair &amp; Shoulder</th>\n",
              "      <th>shampoo_brand_Pantene</th>\n",
              "      <th>swimming</th>\n",
              "    </tr>\n",
              "  </thead>\n",
              "  <tbody>\n",
              "    <tr>\n",
              "      <th>0</th>\n",
              "      <td>2</td>\n",
              "      <td>0</td>\n",
              "      <td>1</td>\n",
              "      <td>Y</td>\n",
              "      <td>3.0</td>\n",
              "      <td>None</td>\n",
              "      <td>1</td>\n",
              "      <td>0.0</td>\n",
              "      <td>0.0</td>\n",
              "      <td>0.0</td>\n",
              "      <td>0.0</td>\n",
              "      <td>0.0</td>\n",
              "      <td>1.0</td>\n",
              "      <td>0.0</td>\n",
              "    </tr>\n",
              "    <tr>\n",
              "      <th>1</th>\n",
              "      <td>0</td>\n",
              "      <td>0</td>\n",
              "      <td>3</td>\n",
              "      <td>N</td>\n",
              "      <td>1.0</td>\n",
              "      <td>None</td>\n",
              "      <td>1</td>\n",
              "      <td>0.0</td>\n",
              "      <td>0.0</td>\n",
              "      <td>0.0</td>\n",
              "      <td>0.0</td>\n",
              "      <td>0.0</td>\n",
              "      <td>1.0</td>\n",
              "      <td>0.0</td>\n",
              "    </tr>\n",
              "    <tr>\n",
              "      <th>2</th>\n",
              "      <td>3</td>\n",
              "      <td>1</td>\n",
              "      <td>0</td>\n",
              "      <td>Y</td>\n",
              "      <td>2.0</td>\n",
              "      <td>None</td>\n",
              "      <td>2</td>\n",
              "      <td>1.0</td>\n",
              "      <td>0.0</td>\n",
              "      <td>0.0</td>\n",
              "      <td>0.0</td>\n",
              "      <td>0.0</td>\n",
              "      <td>1.0</td>\n",
              "      <td>1.0</td>\n",
              "    </tr>\n",
              "    <tr>\n",
              "      <th>3</th>\n",
              "      <td>2</td>\n",
              "      <td>0</td>\n",
              "      <td>1</td>\n",
              "      <td>N</td>\n",
              "      <td>3.0</td>\n",
              "      <td>None</td>\n",
              "      <td>3</td>\n",
              "      <td>0.0</td>\n",
              "      <td>0.0</td>\n",
              "      <td>0.0</td>\n",
              "      <td>0.0</td>\n",
              "      <td>0.0</td>\n",
              "      <td>1.0</td>\n",
              "      <td>0.0</td>\n",
              "    </tr>\n",
              "    <tr>\n",
              "      <th>4</th>\n",
              "      <td>2</td>\n",
              "      <td>0</td>\n",
              "      <td>1</td>\n",
              "      <td>Y</td>\n",
              "      <td>1.0</td>\n",
              "      <td>None</td>\n",
              "      <td>2</td>\n",
              "      <td>0.0</td>\n",
              "      <td>0.0</td>\n",
              "      <td>0.0</td>\n",
              "      <td>0.0</td>\n",
              "      <td>0.0</td>\n",
              "      <td>1.0</td>\n",
              "      <td>0.0</td>\n",
              "    </tr>\n",
              "  </tbody>\n",
              "</table>\n",
              "</div>\n",
              "      <button class=\"colab-df-convert\" onclick=\"convertToInteractive('df-1be4887b-4b3d-4138-b199-a3c30a06a6b8')\"\n",
              "              title=\"Convert this dataframe to an interactive table.\"\n",
              "              style=\"display:none;\">\n",
              "        \n",
              "  <svg xmlns=\"http://www.w3.org/2000/svg\" height=\"24px\"viewBox=\"0 0 24 24\"\n",
              "       width=\"24px\">\n",
              "    <path d=\"M0 0h24v24H0V0z\" fill=\"none\"/>\n",
              "    <path d=\"M18.56 5.44l.94 2.06.94-2.06 2.06-.94-2.06-.94-.94-2.06-.94 2.06-2.06.94zm-11 1L8.5 8.5l.94-2.06 2.06-.94-2.06-.94L8.5 2.5l-.94 2.06-2.06.94zm10 10l.94 2.06.94-2.06 2.06-.94-2.06-.94-.94-2.06-.94 2.06-2.06.94z\"/><path d=\"M17.41 7.96l-1.37-1.37c-.4-.4-.92-.59-1.43-.59-.52 0-1.04.2-1.43.59L10.3 9.45l-7.72 7.72c-.78.78-.78 2.05 0 2.83L4 21.41c.39.39.9.59 1.41.59.51 0 1.02-.2 1.41-.59l7.78-7.78 2.81-2.81c.8-.78.8-2.07 0-2.86zM5.41 20L4 18.59l7.72-7.72 1.47 1.35L5.41 20z\"/>\n",
              "  </svg>\n",
              "      </button>\n",
              "      \n",
              "  <style>\n",
              "    .colab-df-container {\n",
              "      display:flex;\n",
              "      flex-wrap:wrap;\n",
              "      gap: 12px;\n",
              "    }\n",
              "\n",
              "    .colab-df-convert {\n",
              "      background-color: #E8F0FE;\n",
              "      border: none;\n",
              "      border-radius: 50%;\n",
              "      cursor: pointer;\n",
              "      display: none;\n",
              "      fill: #1967D2;\n",
              "      height: 32px;\n",
              "      padding: 0 0 0 0;\n",
              "      width: 32px;\n",
              "    }\n",
              "\n",
              "    .colab-df-convert:hover {\n",
              "      background-color: #E2EBFA;\n",
              "      box-shadow: 0px 1px 2px rgba(60, 64, 67, 0.3), 0px 1px 3px 1px rgba(60, 64, 67, 0.15);\n",
              "      fill: #174EA6;\n",
              "    }\n",
              "\n",
              "    [theme=dark] .colab-df-convert {\n",
              "      background-color: #3B4455;\n",
              "      fill: #D2E3FC;\n",
              "    }\n",
              "\n",
              "    [theme=dark] .colab-df-convert:hover {\n",
              "      background-color: #434B5C;\n",
              "      box-shadow: 0px 1px 3px 1px rgba(0, 0, 0, 0.15);\n",
              "      filter: drop-shadow(0px 1px 2px rgba(0, 0, 0, 0.3));\n",
              "      fill: #FFFFFF;\n",
              "    }\n",
              "  </style>\n",
              "\n",
              "      <script>\n",
              "        const buttonEl =\n",
              "          document.querySelector('#df-1be4887b-4b3d-4138-b199-a3c30a06a6b8 button.colab-df-convert');\n",
              "        buttonEl.style.display =\n",
              "          google.colab.kernel.accessAllowed ? 'block' : 'none';\n",
              "\n",
              "        async function convertToInteractive(key) {\n",
              "          const element = document.querySelector('#df-1be4887b-4b3d-4138-b199-a3c30a06a6b8');\n",
              "          const dataTable =\n",
              "            await google.colab.kernel.invokeFunction('convertToInteractive',\n",
              "                                                     [key], {});\n",
              "          if (!dataTable) return;\n",
              "\n",
              "          const docLinkHtml = 'Like what you see? Visit the ' +\n",
              "            '<a target=\"_blank\" href=https://colab.research.google.com/notebooks/data_table.ipynb>data table notebook</a>'\n",
              "            + ' to learn more about interactive tables.';\n",
              "          element.innerHTML = '';\n",
              "          dataTable['output_type'] = 'display_data';\n",
              "          await google.colab.output.renderOutput(dataTable, element);\n",
              "          const docLink = document.createElement('div');\n",
              "          docLink.innerHTML = docLinkHtml;\n",
              "          element.appendChild(docLink);\n",
              "        }\n",
              "      </script>\n",
              "    </div>\n",
              "  </div>\n",
              "  "
            ]
          },
          "metadata": {},
          "execution_count": 410
        }
      ]
    },
    {
      "cell_type": "markdown",
      "source": [
        "### Hair Washing"
      ],
      "metadata": {
        "id": "NpLV1943pTSa"
      }
    },
    {
      "cell_type": "code",
      "source": [
        "Data['hair_washing'].value_counts()"
      ],
      "metadata": {
        "colab": {
          "base_uri": "https://localhost:8080/"
        },
        "outputId": "158738b8-463b-4c96-db22-bc9c3de81eca",
        "id": "OvnJK5xKqHmJ"
      },
      "execution_count": null,
      "outputs": [
        {
          "output_type": "execute_result",
          "data": {
            "text/plain": [
              "N    209\n",
              "Y    191\n",
              "Name: hair_washing, dtype: int64"
            ]
          },
          "metadata": {},
          "execution_count": 411
        }
      ]
    },
    {
      "cell_type": "code",
      "source": [
        "sns.countplot(x='hair_washing', data = Data)"
      ],
      "metadata": {
        "colab": {
          "base_uri": "https://localhost:8080/",
          "height": 297
        },
        "id": "vuWxXgMyqHmK",
        "outputId": "5eb0db72-8491-48d6-ad64-29db3810e74b"
      },
      "execution_count": null,
      "outputs": [
        {
          "output_type": "execute_result",
          "data": {
            "text/plain": [
              "<matplotlib.axes._subplots.AxesSubplot at 0x7f8a17e161d0>"
            ]
          },
          "metadata": {},
          "execution_count": 412
        },
        {
          "output_type": "display_data",
          "data": {
            "text/plain": [
              "<Figure size 432x288 with 1 Axes>"
            ],
            "image/png": "[encoded data removed]"
          },
          "metadata": {
            "needs_background": "light"
          }
        }
      ]
    },
    {
      "cell_type": "code",
      "source": [
        "hair_washing = ['N', 'Y']\n",
        "\n",
        "ord_enc_inc = OrdinalEncoder(categories=[hair_washing])\n",
        "cat_ord_inc = pd.DataFrame(ord_enc_inc.fit_transform(Data[['hair_washing']]))\n",
        "cat_ord_inc.columns = ['hair_washing']"
      ],
      "metadata": {
        "id": "RtGsxEZGShAR"
      },
      "execution_count": null,
      "outputs": []
    },
    {
      "cell_type": "code",
      "source": [
        "Data = Data.drop('hair_washing', axis=1)\n",
        "Data=pd.concat([Data.reset_index(drop=True), cat_ord_inc], axis=1)\n",
        "Data.head()"
      ],
      "metadata": {
        "colab": {
          "base_uri": "https://localhost:8080/",
          "height": 287
        },
        "id": "C2OExlFeSwhG",
        "outputId": "dcde3908-645a-4c22-ac19-858216159cdc"
      },
      "execution_count": null,
      "outputs": [
        {
          "output_type": "execute_result",
          "data": {
            "text/plain": [
              "   stay_up_late  coffee_consumed  brain_working_duration  hair_grease  \\\n",
              "0             2                0                       1          3.0   \n",
              "1             0                0                       3          1.0   \n",
              "2             3                1                       0          2.0   \n",
              "3             2                0                       1          3.0   \n",
              "4             2                0                       1          1.0   \n",
              "\n",
              "  dandruff  libido  hair_loss  pressure_level  school_assesssment  \\\n",
              "0     None       1        0.0             0.0                 0.0   \n",
              "1     None       1        0.0             0.0                 0.0   \n",
              "2     None       2        1.0             0.0                 0.0   \n",
              "3     None       3        0.0             0.0                 0.0   \n",
              "4     None       2        0.0             0.0                 0.0   \n",
              "\n",
              "   stress_level  shampoo_brand_Hair & Shoulder  shampoo_brand_Pantene  \\\n",
              "0           0.0                            0.0                    1.0   \n",
              "1           0.0                            0.0                    1.0   \n",
              "2           0.0                            0.0                    1.0   \n",
              "3           0.0                            0.0                    1.0   \n",
              "4           0.0                            0.0                    1.0   \n",
              "\n",
              "   swimming  hair_washing  \n",
              "0       0.0           1.0  \n",
              "1       0.0           0.0  \n",
              "2       1.0           1.0  \n",
              "3       0.0           0.0  \n",
              "4       0.0           1.0  "
            ],
            "text/html": [
              "\n",
              "  <div id=\"df-9528fdbb-4c41-4d78-945c-a8db74b07fd3\">\n",
              "    <div class=\"colab-df-container\">\n",
              "      <div>\n",
              "<style scoped>\n",
              "    .dataframe tbody tr th:only-of-type {\n",
              "        vertical-align: middle;\n",
              "    }\n",
              "\n",
              "    .dataframe tbody tr th {\n",
              "        vertical-align: top;\n",
              "    }\n",
              "\n",
              "    .dataframe thead th {\n",
              "        text-align: right;\n",
              "    }\n",
              "</style>\n",
              "<table border=\"1\" class=\"dataframe\">\n",
              "  <thead>\n",
              "    <tr style=\"text-align: right;\">\n",
              "      <th></th>\n",
              "      <th>stay_up_late</th>\n",
              "      <th>coffee_consumed</th>\n",
              "      <th>brain_working_duration</th>\n",
              "      <th>hair_grease</th>\n",
              "      <th>dandruff</th>\n",
              "      <th>libido</th>\n",
              "      <th>hair_loss</th>\n",
              "      <th>pressure_level</th>\n",
              "      <th>school_assesssment</th>\n",
              "      <th>stress_level</th>\n",
              "      <th>shampoo_brand_Hair &amp; Shoulder</th>\n",
              "      <th>shampoo_brand_Pantene</th>\n",
              "      <th>swimming</th>\n",
              "      <th>hair_washing</th>\n",
              "    </tr>\n",
              "  </thead>\n",
              "  <tbody>\n",
              "    <tr>\n",
              "      <th>0</th>\n",
              "      <td>2</td>\n",
              "      <td>0</td>\n",
              "      <td>1</td>\n",
              "      <td>3.0</td>\n",
              "      <td>None</td>\n",
              "      <td>1</td>\n",
              "      <td>0.0</td>\n",
              "      <td>0.0</td>\n",
              "      <td>0.0</td>\n",
              "      <td>0.0</td>\n",
              "      <td>0.0</td>\n",
              "      <td>1.0</td>\n",
              "      <td>0.0</td>\n",
              "      <td>1.0</td>\n",
              "    </tr>\n",
              "    <tr>\n",
              "      <th>1</th>\n",
              "      <td>0</td>\n",
              "      <td>0</td>\n",
              "      <td>3</td>\n",
              "      <td>1.0</td>\n",
              "      <td>None</td>\n",
              "      <td>1</td>\n",
              "      <td>0.0</td>\n",
              "      <td>0.0</td>\n",
              "      <td>0.0</td>\n",
              "      <td>0.0</td>\n",
              "      <td>0.0</td>\n",
              "      <td>1.0</td>\n",
              "      <td>0.0</td>\n",
              "      <td>0.0</td>\n",
              "    </tr>\n",
              "    <tr>\n",
              "      <th>2</th>\n",
              "      <td>3</td>\n",
              "      <td>1</td>\n",
              "      <td>0</td>\n",
              "      <td>2.0</td>\n",
              "      <td>None</td>\n",
              "      <td>2</td>\n",
              "      <td>1.0</td>\n",
              "      <td>0.0</td>\n",
              "      <td>0.0</td>\n",
              "      <td>0.0</td>\n",
              "      <td>0.0</td>\n",
              "      <td>1.0</td>\n",
              "      <td>1.0</td>\n",
              "      <td>1.0</td>\n",
              "    </tr>\n",
              "    <tr>\n",
              "      <th>3</th>\n",
              "      <td>2</td>\n",
              "      <td>0</td>\n",
              "      <td>1</td>\n",
              "      <td>3.0</td>\n",
              "      <td>None</td>\n",
              "      <td>3</td>\n",
              "      <td>0.0</td>\n",
              "      <td>0.0</td>\n",
              "      <td>0.0</td>\n",
              "      <td>0.0</td>\n",
              "      <td>0.0</td>\n",
              "      <td>1.0</td>\n",
              "      <td>0.0</td>\n",
              "      <td>0.0</td>\n",
              "    </tr>\n",
              "    <tr>\n",
              "      <th>4</th>\n",
              "      <td>2</td>\n",
              "      <td>0</td>\n",
              "      <td>1</td>\n",
              "      <td>1.0</td>\n",
              "      <td>None</td>\n",
              "      <td>2</td>\n",
              "      <td>0.0</td>\n",
              "      <td>0.0</td>\n",
              "      <td>0.0</td>\n",
              "      <td>0.0</td>\n",
              "      <td>0.0</td>\n",
              "      <td>1.0</td>\n",
              "      <td>0.0</td>\n",
              "      <td>1.0</td>\n",
              "    </tr>\n",
              "  </tbody>\n",
              "</table>\n",
              "</div>\n",
              "      <button class=\"colab-df-convert\" onclick=\"convertToInteractive('df-9528fdbb-4c41-4d78-945c-a8db74b07fd3')\"\n",
              "              title=\"Convert this dataframe to an interactive table.\"\n",
              "              style=\"display:none;\">\n",
              "        \n",
              "  <svg xmlns=\"http://www.w3.org/2000/svg\" height=\"24px\"viewBox=\"0 0 24 24\"\n",
              "       width=\"24px\">\n",
              "    <path d=\"M0 0h24v24H0V0z\" fill=\"none\"/>\n",
              "    <path d=\"M18.56 5.44l.94 2.06.94-2.06 2.06-.94-2.06-.94-.94-2.06-.94 2.06-2.06.94zm-11 1L8.5 8.5l.94-2.06 2.06-.94-2.06-.94L8.5 2.5l-.94 2.06-2.06.94zm10 10l.94 2.06.94-2.06 2.06-.94-2.06-.94-.94-2.06-.94 2.06-2.06.94z\"/><path d=\"M17.41 7.96l-1.37-1.37c-.4-.4-.92-.59-1.43-.59-.52 0-1.04.2-1.43.59L10.3 9.45l-7.72 7.72c-.78.78-.78 2.05 0 2.83L4 21.41c.39.39.9.59 1.41.59.51 0 1.02-.2 1.41-.59l7.78-7.78 2.81-2.81c.8-.78.8-2.07 0-2.86zM5.41 20L4 18.59l7.72-7.72 1.47 1.35L5.41 20z\"/>\n",
              "  </svg>\n",
              "      </button>\n",
              "      \n",
              "  <style>\n",
              "    .colab-df-container {\n",
              "      display:flex;\n",
              "      flex-wrap:wrap;\n",
              "      gap: 12px;\n",
              "    }\n",
              "\n",
              "    .colab-df-convert {\n",
              "      background-color: #E8F0FE;\n",
              "      border: none;\n",
              "      border-radius: 50%;\n",
              "      cursor: pointer;\n",
              "      display: none;\n",
              "      fill: #1967D2;\n",
              "      height: 32px;\n",
              "      padding: 0 0 0 0;\n",
              "      width: 32px;\n",
              "    }\n",
              "\n",
              "    .colab-df-convert:hover {\n",
              "      background-color: #E2EBFA;\n",
              "      box-shadow: 0px 1px 2px rgba(60, 64, 67, 0.3), 0px 1px 3px 1px rgba(60, 64, 67, 0.15);\n",
              "      fill: #174EA6;\n",
              "    }\n",
              "\n",
              "    [theme=dark] .colab-df-convert {\n",
              "      background-color: #3B4455;\n",
              "      fill: #D2E3FC;\n",
              "    }\n",
              "\n",
              "    [theme=dark] .colab-df-convert:hover {\n",
              "      background-color: #434B5C;\n",
              "      box-shadow: 0px 1px 3px 1px rgba(0, 0, 0, 0.15);\n",
              "      filter: drop-shadow(0px 1px 2px rgba(0, 0, 0, 0.3));\n",
              "      fill: #FFFFFF;\n",
              "    }\n",
              "  </style>\n",
              "\n",
              "      <script>\n",
              "        const buttonEl =\n",
              "          document.querySelector('#df-9528fdbb-4c41-4d78-945c-a8db74b07fd3 button.colab-df-convert');\n",
              "        buttonEl.style.display =\n",
              "          google.colab.kernel.accessAllowed ? 'block' : 'none';\n",
              "\n",
              "        async function convertToInteractive(key) {\n",
              "          const element = document.querySelector('#df-9528fdbb-4c41-4d78-945c-a8db74b07fd3');\n",
              "          const dataTable =\n",
              "            await google.colab.kernel.invokeFunction('convertToInteractive',\n",
              "                                                     [key], {});\n",
              "          if (!dataTable) return;\n",
              "\n",
              "          const docLinkHtml = 'Like what you see? Visit the ' +\n",
              "            '<a target=\"_blank\" href=https://colab.research.google.com/notebooks/data_table.ipynb>data table notebook</a>'\n",
              "            + ' to learn more about interactive tables.';\n",
              "          element.innerHTML = '';\n",
              "          dataTable['output_type'] = 'display_data';\n",
              "          await google.colab.output.renderOutput(dataTable, element);\n",
              "          const docLink = document.createElement('div');\n",
              "          docLink.innerHTML = docLinkHtml;\n",
              "          element.appendChild(docLink);\n",
              "        }\n",
              "      </script>\n",
              "    </div>\n",
              "  </div>\n",
              "  "
            ]
          },
          "metadata": {},
          "execution_count": 414
        }
      ]
    },
    {
      "cell_type": "markdown",
      "source": [
        "### Dandruff"
      ],
      "metadata": {
        "id": "kByWHjF3paFu"
      }
    },
    {
      "cell_type": "code",
      "source": [
        "Data['dandruff'].value_counts()"
      ],
      "metadata": {
        "colab": {
          "base_uri": "https://localhost:8080/"
        },
        "outputId": "33e86462-23c5-4439-c199-c3b370a84ccb",
        "id": "HzEu_oLTqIhg"
      },
      "execution_count": null,
      "outputs": [
        {
          "output_type": "execute_result",
          "data": {
            "text/plain": [
              "None    289\n",
              "Few      76\n",
              "Many     35\n",
              "Name: dandruff, dtype: int64"
            ]
          },
          "metadata": {},
          "execution_count": 415
        }
      ]
    },
    {
      "cell_type": "code",
      "source": [
        "sns.countplot(x='dandruff', data = Data)"
      ],
      "metadata": {
        "colab": {
          "base_uri": "https://localhost:8080/",
          "height": 298
        },
        "id": "p9DlfmPzqIhh",
        "outputId": "e21f311a-8452-449d-888e-f4adbfd74ff5"
      },
      "execution_count": null,
      "outputs": [
        {
          "output_type": "execute_result",
          "data": {
            "text/plain": [
              "<matplotlib.axes._subplots.AxesSubplot at 0x7f8a17decb10>"
            ]
          },
          "metadata": {},
          "execution_count": 416
        },
        {
          "output_type": "display_data",
          "data": {
            "text/plain": [
              "<Figure size 432x288 with 1 Axes>"
            ],
            "image/png": "[encoded data removed]"
          },
          "metadata": {
            "needs_background": "light"
          }
        }
      ]
    },
    {
      "cell_type": "code",
      "source": [
        "dandruff = ['None', 'Few', 'Many']\n",
        "\n",
        "ord_enc_inc = OrdinalEncoder(categories=[dandruff])\n",
        "cat_ord_inc = pd.DataFrame(ord_enc_inc.fit_transform(Data[['dandruff']]))\n",
        "cat_ord_inc.columns = ['dandruff']"
      ],
      "metadata": {
        "id": "Vbr335WFTm9z"
      },
      "execution_count": null,
      "outputs": []
    },
    {
      "cell_type": "code",
      "source": [
        "Data = Data.drop('dandruff', axis=1)\n",
        "Data=pd.concat([Data.reset_index(drop=True), cat_ord_inc], axis=1)\n",
        "Data.head()"
      ],
      "metadata": {
        "colab": {
          "base_uri": "https://localhost:8080/",
          "height": 287
        },
        "id": "pb-pDiwpTvSH",
        "outputId": "40e17994-ba20-4d62-e72b-8deec881f4cb"
      },
      "execution_count": null,
      "outputs": [
        {
          "output_type": "execute_result",
          "data": {
            "text/plain": [
              "   stay_up_late  coffee_consumed  brain_working_duration  hair_grease  libido  \\\n",
              "0             2                0                       1          3.0       1   \n",
              "1             0                0                       3          1.0       1   \n",
              "2             3                1                       0          2.0       2   \n",
              "3             2                0                       1          3.0       3   \n",
              "4             2                0                       1          1.0       2   \n",
              "\n",
              "   hair_loss  pressure_level  school_assesssment  stress_level  \\\n",
              "0        0.0             0.0                 0.0           0.0   \n",
              "1        0.0             0.0                 0.0           0.0   \n",
              "2        1.0             0.0                 0.0           0.0   \n",
              "3        0.0             0.0                 0.0           0.0   \n",
              "4        0.0             0.0                 0.0           0.0   \n",
              "\n",
              "   shampoo_brand_Hair & Shoulder  shampoo_brand_Pantene  swimming  \\\n",
              "0                            0.0                    1.0       0.0   \n",
              "1                            0.0                    1.0       0.0   \n",
              "2                            0.0                    1.0       1.0   \n",
              "3                            0.0                    1.0       0.0   \n",
              "4                            0.0                    1.0       0.0   \n",
              "\n",
              "   hair_washing  dandruff  \n",
              "0           1.0       0.0  \n",
              "1           0.0       0.0  \n",
              "2           1.0       0.0  \n",
              "3           0.0       0.0  \n",
              "4           1.0       0.0  "
            ],
            "text/html": [
              "\n",
              "  <div id=\"df-aa31b8ac-c541-44ae-baa0-7aa64757ccc0\">\n",
              "    <div class=\"colab-df-container\">\n",
              "      <div>\n",
              "<style scoped>\n",
              "    .dataframe tbody tr th:only-of-type {\n",
              "        vertical-align: middle;\n",
              "    }\n",
              "\n",
              "    .dataframe tbody tr th {\n",
              "        vertical-align: top;\n",
              "    }\n",
              "\n",
              "    .dataframe thead th {\n",
              "        text-align: right;\n",
              "    }\n",
              "</style>\n",
              "<table border=\"1\" class=\"dataframe\">\n",
              "  <thead>\n",
              "    <tr style=\"text-align: right;\">\n",
              "      <th></th>\n",
              "      <th>stay_up_late</th>\n",
              "      <th>coffee_consumed</th>\n",
              "      <th>brain_working_duration</th>\n",
              "      <th>hair_grease</th>\n",
              "      <th>libido</th>\n",
              "      <th>hair_loss</th>\n",
              "      <th>pressure_level</th>\n",
              "      <th>school_assesssment</th>\n",
              "      <th>stress_level</th>\n",
              "      <th>shampoo_brand_Hair &amp; Shoulder</th>\n",
              "      <th>shampoo_brand_Pantene</th>\n",
              "      <th>swimming</th>\n",
              "      <th>hair_washing</th>\n",
              "      <th>dandruff</th>\n",
              "    </tr>\n",
              "  </thead>\n",
              "  <tbody>\n",
              "    <tr>\n",
              "      <th>0</th>\n",
              "      <td>2</td>\n",
              "      <td>0</td>\n",
              "      <td>1</td>\n",
              "      <td>3.0</td>\n",
              "      <td>1</td>\n",
              "      <td>0.0</td>\n",
              "      <td>0.0</td>\n",
              "      <td>0.0</td>\n",
              "      <td>0.0</td>\n",
              "      <td>0.0</td>\n",
              "      <td>1.0</td>\n",
              "      <td>0.0</td>\n",
              "      <td>1.0</td>\n",
              "      <td>0.0</td>\n",
              "    </tr>\n",
              "    <tr>\n",
              "      <th>1</th>\n",
              "      <td>0</td>\n",
              "      <td>0</td>\n",
              "      <td>3</td>\n",
              "      <td>1.0</td>\n",
              "      <td>1</td>\n",
              "      <td>0.0</td>\n",
              "      <td>0.0</td>\n",
              "      <td>0.0</td>\n",
              "      <td>0.0</td>\n",
              "      <td>0.0</td>\n",
              "      <td>1.0</td>\n",
              "      <td>0.0</td>\n",
              "      <td>0.0</td>\n",
              "      <td>0.0</td>\n",
              "    </tr>\n",
              "    <tr>\n",
              "      <th>2</th>\n",
              "      <td>3</td>\n",
              "      <td>1</td>\n",
              "      <td>0</td>\n",
              "      <td>2.0</td>\n",
              "      <td>2</td>\n",
              "      <td>1.0</td>\n",
              "      <td>0.0</td>\n",
              "      <td>0.0</td>\n",
              "      <td>0.0</td>\n",
              "      <td>0.0</td>\n",
              "      <td>1.0</td>\n",
              "      <td>1.0</td>\n",
              "      <td>1.0</td>\n",
              "      <td>0.0</td>\n",
              "    </tr>\n",
              "    <tr>\n",
              "      <th>3</th>\n",
              "      <td>2</td>\n",
              "      <td>0</td>\n",
              "      <td>1</td>\n",
              "      <td>3.0</td>\n",
              "      <td>3</td>\n",
              "      <td>0.0</td>\n",
              "      <td>0.0</td>\n",
              "      <td>0.0</td>\n",
              "      <td>0.0</td>\n",
              "      <td>0.0</td>\n",
              "      <td>1.0</td>\n",
              "      <td>0.0</td>\n",
              "      <td>0.0</td>\n",
              "      <td>0.0</td>\n",
              "    </tr>\n",
              "    <tr>\n",
              "      <th>4</th>\n",
              "      <td>2</td>\n",
              "      <td>0</td>\n",
              "      <td>1</td>\n",
              "      <td>1.0</td>\n",
              "      <td>2</td>\n",
              "      <td>0.0</td>\n",
              "      <td>0.0</td>\n",
              "      <td>0.0</td>\n",
              "      <td>0.0</td>\n",
              "      <td>0.0</td>\n",
              "      <td>1.0</td>\n",
              "      <td>0.0</td>\n",
              "      <td>1.0</td>\n",
              "      <td>0.0</td>\n",
              "    </tr>\n",
              "  </tbody>\n",
              "</table>\n",
              "</div>\n",
              "      <button class=\"colab-df-convert\" onclick=\"convertToInteractive('df-aa31b8ac-c541-44ae-baa0-7aa64757ccc0')\"\n",
              "              title=\"Convert this dataframe to an interactive table.\"\n",
              "              style=\"display:none;\">\n",
              "        \n",
              "  <svg xmlns=\"http://www.w3.org/2000/svg\" height=\"24px\"viewBox=\"0 0 24 24\"\n",
              "       width=\"24px\">\n",
              "    <path d=\"M0 0h24v24H0V0z\" fill=\"none\"/>\n",
              "    <path d=\"M18.56 5.44l.94 2.06.94-2.06 2.06-.94-2.06-.94-.94-2.06-.94 2.06-2.06.94zm-11 1L8.5 8.5l.94-2.06 2.06-.94-2.06-.94L8.5 2.5l-.94 2.06-2.06.94zm10 10l.94 2.06.94-2.06 2.06-.94-2.06-.94-.94-2.06-.94 2.06-2.06.94z\"/><path d=\"M17.41 7.96l-1.37-1.37c-.4-.4-.92-.59-1.43-.59-.52 0-1.04.2-1.43.59L10.3 9.45l-7.72 7.72c-.78.78-.78 2.05 0 2.83L4 21.41c.39.39.9.59 1.41.59.51 0 1.02-.2 1.41-.59l7.78-7.78 2.81-2.81c.8-.78.8-2.07 0-2.86zM5.41 20L4 18.59l7.72-7.72 1.47 1.35L5.41 20z\"/>\n",
              "  </svg>\n",
              "      </button>\n",
              "      \n",
              "  <style>\n",
              "    .colab-df-container {\n",
              "      display:flex;\n",
              "      flex-wrap:wrap;\n",
              "      gap: 12px;\n",
              "    }\n",
              "\n",
              "    .colab-df-convert {\n",
              "      background-color: #E8F0FE;\n",
              "      border: none;\n",
              "      border-radius: 50%;\n",
              "      cursor: pointer;\n",
              "      display: none;\n",
              "      fill: #1967D2;\n",
              "      height: 32px;\n",
              "      padding: 0 0 0 0;\n",
              "      width: 32px;\n",
              "    }\n",
              "\n",
              "    .colab-df-convert:hover {\n",
              "      background-color: #E2EBFA;\n",
              "      box-shadow: 0px 1px 2px rgba(60, 64, 67, 0.3), 0px 1px 3px 1px rgba(60, 64, 67, 0.15);\n",
              "      fill: #174EA6;\n",
              "    }\n",
              "\n",
              "    [theme=dark] .colab-df-convert {\n",
              "      background-color: #3B4455;\n",
              "      fill: #D2E3FC;\n",
              "    }\n",
              "\n",
              "    [theme=dark] .colab-df-convert:hover {\n",
              "      background-color: #434B5C;\n",
              "      box-shadow: 0px 1px 3px 1px rgba(0, 0, 0, 0.15);\n",
              "      filter: drop-shadow(0px 1px 2px rgba(0, 0, 0, 0.3));\n",
              "      fill: #FFFFFF;\n",
              "    }\n",
              "  </style>\n",
              "\n",
              "      <script>\n",
              "        const buttonEl =\n",
              "          document.querySelector('#df-aa31b8ac-c541-44ae-baa0-7aa64757ccc0 button.colab-df-convert');\n",
              "        buttonEl.style.display =\n",
              "          google.colab.kernel.accessAllowed ? 'block' : 'none';\n",
              "\n",
              "        async function convertToInteractive(key) {\n",
              "          const element = document.querySelector('#df-aa31b8ac-c541-44ae-baa0-7aa64757ccc0');\n",
              "          const dataTable =\n",
              "            await google.colab.kernel.invokeFunction('convertToInteractive',\n",
              "                                                     [key], {});\n",
              "          if (!dataTable) return;\n",
              "\n",
              "          const docLinkHtml = 'Like what you see? Visit the ' +\n",
              "            '<a target=\"_blank\" href=https://colab.research.google.com/notebooks/data_table.ipynb>data table notebook</a>'\n",
              "            + ' to learn more about interactive tables.';\n",
              "          element.innerHTML = '';\n",
              "          dataTable['output_type'] = 'display_data';\n",
              "          await google.colab.output.renderOutput(dataTable, element);\n",
              "          const docLink = document.createElement('div');\n",
              "          docLink.innerHTML = docLinkHtml;\n",
              "          element.appendChild(docLink);\n",
              "        }\n",
              "      </script>\n",
              "    </div>\n",
              "  </div>\n",
              "  "
            ]
          },
          "metadata": {},
          "execution_count": 418
        }
      ]
    },
    {
      "cell_type": "markdown",
      "source": [
        "### Categorical Feature Selection"
      ],
      "metadata": {
        "id": "Bf1wxJk2VU4U"
      }
    },
    {
      "cell_type": "markdown",
      "source": [
        "In the categorical feature selection i will use selectKbest with chi2, because its suitable for the categorical data and categorical target."
      ],
      "metadata": {
        "id": "1THjN1N5j8eh"
      }
    },
    {
      "cell_type": "code",
      "source": [
        "categorical = Data[['hair_loss', 'pressure_level',\n",
        "       'school_assesssment', 'stress_level', 'shampoo_brand_Hair & Shoulder',\n",
        "       'shampoo_brand_Pantene', 'swimming', 'hair_washing', 'dandruff']]"
      ],
      "metadata": {
        "id": "Hbf8baTIVdHq"
      },
      "execution_count": null,
      "outputs": []
    },
    {
      "cell_type": "code",
      "source": [
        "X = categorical.drop('hair_loss',axis=1)\n",
        "y = categorical['hair_loss']"
      ],
      "metadata": {
        "id": "I4oM8HbPViJa"
      },
      "execution_count": null,
      "outputs": []
    },
    {
      "cell_type": "code",
      "source": [
        "test = SelectKBest(score_func=chi2, k=4)\n",
        "fit = test.fit(X, y)\n",
        "fit.scores_"
      ],
      "metadata": {
        "colab": {
          "base_uri": "https://localhost:8080/"
        },
        "id": "NjF3xYksVtgd",
        "outputId": "27229ecc-5a1e-41f3-80e1-ee9f5f935f2f"
      },
      "execution_count": null,
      "outputs": [
        {
          "output_type": "execute_result",
          "data": {
            "text/plain": [
              "array([380.47269809, 190.5246996 , 406.84629489,  11.54982875,\n",
              "        24.82758464,  17.74518266,   0.97798716, 301.72468771])"
            ]
          },
          "metadata": {},
          "execution_count": 421
        }
      ]
    },
    {
      "cell_type": "code",
      "source": [
        "np.round_(fit.scores_)"
      ],
      "metadata": {
        "colab": {
          "base_uri": "https://localhost:8080/"
        },
        "id": "QW7goFbjV71M",
        "outputId": "78789dd7-661c-4dbf-e3f2-e7a11cffea00"
      },
      "execution_count": null,
      "outputs": [
        {
          "output_type": "execute_result",
          "data": {
            "text/plain": [
              "array([380., 191., 407.,  12.,  25.,  18.,   1., 302.])"
            ]
          },
          "metadata": {},
          "execution_count": 422
        }
      ]
    },
    {
      "cell_type": "code",
      "source": [
        "chi = pd.Series(fit.scores_)\n",
        "chi.index = X.columns\n",
        "chi.sort_values(ascending=False)"
      ],
      "metadata": {
        "colab": {
          "base_uri": "https://localhost:8080/"
        },
        "id": "hxCMLAyVV-0D",
        "outputId": "bb86a425-5783-46bf-c067-afe479ec9307"
      },
      "execution_count": null,
      "outputs": [
        {
          "output_type": "execute_result",
          "data": {
            "text/plain": [
              "stress_level                     406.846295\n",
              "pressure_level                   380.472698\n",
              "dandruff                         301.724688\n",
              "school_assesssment               190.524700\n",
              "shampoo_brand_Pantene             24.827585\n",
              "swimming                          17.745183\n",
              "shampoo_brand_Hair & Shoulder     11.549829\n",
              "hair_washing                       0.977987\n",
              "dtype: float64"
            ]
          },
          "metadata": {},
          "execution_count": 423
        }
      ]
    },
    {
      "cell_type": "markdown",
      "source": [
        "Thus i will use all the triple digit for my feature on the model"
      ],
      "metadata": {
        "id": "tVh10CSYn-Fv"
      }
    },
    {
      "cell_type": "code",
      "source": [
        "cat = Data[['stress_level', 'pressure_level', 'dandruff', 'school_assesssment', 'hair_loss' ]]\n",
        "cat.head()"
      ],
      "metadata": {
        "colab": {
          "base_uri": "https://localhost:8080/",
          "height": 206
        },
        "id": "y_b792ExeVS2",
        "outputId": "b0a8b73d-e759-4bbf-ae19-9d72b5e150de"
      },
      "execution_count": null,
      "outputs": [
        {
          "output_type": "execute_result",
          "data": {
            "text/plain": [
              "   stress_level  pressure_level  dandruff  school_assesssment  hair_loss\n",
              "0           0.0             0.0       0.0                 0.0        0.0\n",
              "1           0.0             0.0       0.0                 0.0        0.0\n",
              "2           0.0             0.0       0.0                 0.0        1.0\n",
              "3           0.0             0.0       0.0                 0.0        0.0\n",
              "4           0.0             0.0       0.0                 0.0        0.0"
            ],
            "text/html": [
              "\n",
              "  <div id=\"df-e011e442-cbc8-4e37-91d8-468833051259\">\n",
              "    <div class=\"colab-df-container\">\n",
              "      <div>\n",
              "<style scoped>\n",
              "    .dataframe tbody tr th:only-of-type {\n",
              "        vertical-align: middle;\n",
              "    }\n",
              "\n",
              "    .dataframe tbody tr th {\n",
              "        vertical-align: top;\n",
              "    }\n",
              "\n",
              "    .dataframe thead th {\n",
              "        text-align: right;\n",
              "    }\n",
              "</style>\n",
              "<table border=\"1\" class=\"dataframe\">\n",
              "  <thead>\n",
              "    <tr style=\"text-align: right;\">\n",
              "      <th></th>\n",
              "      <th>stress_level</th>\n",
              "      <th>pressure_level</th>\n",
              "      <th>dandruff</th>\n",
              "      <th>school_assesssment</th>\n",
              "      <th>hair_loss</th>\n",
              "    </tr>\n",
              "  </thead>\n",
              "  <tbody>\n",
              "    <tr>\n",
              "      <th>0</th>\n",
              "      <td>0.0</td>\n",
              "      <td>0.0</td>\n",
              "      <td>0.0</td>\n",
              "      <td>0.0</td>\n",
              "      <td>0.0</td>\n",
              "    </tr>\n",
              "    <tr>\n",
              "      <th>1</th>\n",
              "      <td>0.0</td>\n",
              "      <td>0.0</td>\n",
              "      <td>0.0</td>\n",
              "      <td>0.0</td>\n",
              "      <td>0.0</td>\n",
              "    </tr>\n",
              "    <tr>\n",
              "      <th>2</th>\n",
              "      <td>0.0</td>\n",
              "      <td>0.0</td>\n",
              "      <td>0.0</td>\n",
              "      <td>0.0</td>\n",
              "      <td>1.0</td>\n",
              "    </tr>\n",
              "    <tr>\n",
              "      <th>3</th>\n",
              "      <td>0.0</td>\n",
              "      <td>0.0</td>\n",
              "      <td>0.0</td>\n",
              "      <td>0.0</td>\n",
              "      <td>0.0</td>\n",
              "    </tr>\n",
              "    <tr>\n",
              "      <th>4</th>\n",
              "      <td>0.0</td>\n",
              "      <td>0.0</td>\n",
              "      <td>0.0</td>\n",
              "      <td>0.0</td>\n",
              "      <td>0.0</td>\n",
              "    </tr>\n",
              "  </tbody>\n",
              "</table>\n",
              "</div>\n",
              "      <button class=\"colab-df-convert\" onclick=\"convertToInteractive('df-e011e442-cbc8-4e37-91d8-468833051259')\"\n",
              "              title=\"Convert this dataframe to an interactive table.\"\n",
              "              style=\"display:none;\">\n",
              "        \n",
              "  <svg xmlns=\"http://www.w3.org/2000/svg\" height=\"24px\"viewBox=\"0 0 24 24\"\n",
              "       width=\"24px\">\n",
              "    <path d=\"M0 0h24v24H0V0z\" fill=\"none\"/>\n",
              "    <path d=\"M18.56 5.44l.94 2.06.94-2.06 2.06-.94-2.06-.94-.94-2.06-.94 2.06-2.06.94zm-11 1L8.5 8.5l.94-2.06 2.06-.94-2.06-.94L8.5 2.5l-.94 2.06-2.06.94zm10 10l.94 2.06.94-2.06 2.06-.94-2.06-.94-.94-2.06-.94 2.06-2.06.94z\"/><path d=\"M17.41 7.96l-1.37-1.37c-.4-.4-.92-.59-1.43-.59-.52 0-1.04.2-1.43.59L10.3 9.45l-7.72 7.72c-.78.78-.78 2.05 0 2.83L4 21.41c.39.39.9.59 1.41.59.51 0 1.02-.2 1.41-.59l7.78-7.78 2.81-2.81c.8-.78.8-2.07 0-2.86zM5.41 20L4 18.59l7.72-7.72 1.47 1.35L5.41 20z\"/>\n",
              "  </svg>\n",
              "      </button>\n",
              "      \n",
              "  <style>\n",
              "    .colab-df-container {\n",
              "      display:flex;\n",
              "      flex-wrap:wrap;\n",
              "      gap: 12px;\n",
              "    }\n",
              "\n",
              "    .colab-df-convert {\n",
              "      background-color: #E8F0FE;\n",
              "      border: none;\n",
              "      border-radius: 50%;\n",
              "      cursor: pointer;\n",
              "      display: none;\n",
              "      fill: #1967D2;\n",
              "      height: 32px;\n",
              "      padding: 0 0 0 0;\n",
              "      width: 32px;\n",
              "    }\n",
              "\n",
              "    .colab-df-convert:hover {\n",
              "      background-color: #E2EBFA;\n",
              "      box-shadow: 0px 1px 2px rgba(60, 64, 67, 0.3), 0px 1px 3px 1px rgba(60, 64, 67, 0.15);\n",
              "      fill: #174EA6;\n",
              "    }\n",
              "\n",
              "    [theme=dark] .colab-df-convert {\n",
              "      background-color: #3B4455;\n",
              "      fill: #D2E3FC;\n",
              "    }\n",
              "\n",
              "    [theme=dark] .colab-df-convert:hover {\n",
              "      background-color: #434B5C;\n",
              "      box-shadow: 0px 1px 3px 1px rgba(0, 0, 0, 0.15);\n",
              "      filter: drop-shadow(0px 1px 2px rgba(0, 0, 0, 0.3));\n",
              "      fill: #FFFFFF;\n",
              "    }\n",
              "  </style>\n",
              "\n",
              "      <script>\n",
              "        const buttonEl =\n",
              "          document.querySelector('#df-e011e442-cbc8-4e37-91d8-468833051259 button.colab-df-convert');\n",
              "        buttonEl.style.display =\n",
              "          google.colab.kernel.accessAllowed ? 'block' : 'none';\n",
              "\n",
              "        async function convertToInteractive(key) {\n",
              "          const element = document.querySelector('#df-e011e442-cbc8-4e37-91d8-468833051259');\n",
              "          const dataTable =\n",
              "            await google.colab.kernel.invokeFunction('convertToInteractive',\n",
              "                                                     [key], {});\n",
              "          if (!dataTable) return;\n",
              "\n",
              "          const docLinkHtml = 'Like what you see? Visit the ' +\n",
              "            '<a target=\"_blank\" href=https://colab.research.google.com/notebooks/data_table.ipynb>data table notebook</a>'\n",
              "            + ' to learn more about interactive tables.';\n",
              "          element.innerHTML = '';\n",
              "          dataTable['output_type'] = 'display_data';\n",
              "          await google.colab.output.renderOutput(dataTable, element);\n",
              "          const docLink = document.createElement('div');\n",
              "          docLink.innerHTML = docLinkHtml;\n",
              "          element.appendChild(docLink);\n",
              "        }\n",
              "      </script>\n",
              "    </div>\n",
              "  </div>\n",
              "  "
            ]
          },
          "metadata": {},
          "execution_count": 424
        }
      ]
    },
    {
      "cell_type": "markdown",
      "source": [
        "## Numerical Data"
      ],
      "metadata": {
        "id": "Xim12L44axZo"
      }
    },
    {
      "cell_type": "markdown",
      "source": [
        "### Data Distribution"
      ],
      "metadata": {
        "id": "B5S2FYTpXgp3"
      }
    },
    {
      "cell_type": "markdown",
      "source": [
        "In here i wanna check the data distribution for numerical data"
      ],
      "metadata": {
        "id": "ltsYeWtOkjar"
      }
    },
    {
      "cell_type": "code",
      "source": [
        "numeric = Data[['stay_up_late', 'coffee_consumed', 'brain_working_duration',\n",
        "       'hair_grease']]"
      ],
      "metadata": {
        "id": "YPFKNQa4a3C6"
      },
      "execution_count": null,
      "outputs": []
    },
    {
      "cell_type": "code",
      "source": [
        "def plot_dist(numeric, col):\n",
        "    fig, axes = plt.subplots(ncols = 2, figsize = (15, 5))\n",
        "    \n",
        "    # histogram\n",
        "    sns.histplot(numeric[col],ax = axes[0], bins=30)\n",
        "    axes[0].set_title(f\"Histogram '{col}'\")\n",
        "    axes[0].axvline(numeric[col].mean(), color = 'red', linestyle = 'dashed', label = 'mean')\n",
        "    axes[0].axvline(numeric[col].median(), color = 'green', linestyle = 'dashed', label = 'median')\n",
        "    axes[0].legend()\n",
        "    \n",
        "    # boxplot\n",
        "    sns.boxplot(y=numeric[col], ax =  axes[1])\n",
        "    axes[1].set_title(f\"Boxplot '{col}'\")\n",
        "    \n",
        "    plt.show()\n",
        "    \n",
        "    # skewness\n",
        "    print(numeric[col].name + ' Skewness: ' + str(numeric[col].skew()))\n",
        "    if -0.5 <= numeric[col].skew() <= 0.5:\n",
        "        print(\"Columns '{}' normal distribution\".format(col))\n",
        "    elif numeric[col].skew() > 0.5:\n",
        "        print(\"Columns '{}' right skewed\".format(col))\n",
        "    elif numeric[col].skew() < -0.5:\n",
        "        print(\"Columns '{}' left skewed\".format(col))"
      ],
      "metadata": {
        "id": "qyHrtvVbW3C_"
      },
      "execution_count": null,
      "outputs": []
    },
    {
      "cell_type": "code",
      "source": [
        "for col in numeric.columns:\n",
        "    plot_dist(numeric,col)"
      ],
      "metadata": {
        "colab": {
          "base_uri": "https://localhost:8080/",
          "height": 1000
        },
        "id": "UKK-wZSjXBBQ",
        "outputId": "4e33ad72-b25a-4fb8-9f38-b70ab6f5e420"
      },
      "execution_count": null,
      "outputs": [
        {
          "output_type": "display_data",
          "data": {
            "text/plain": [
              "<Figure size 1080x360 with 2 Axes>"
            ],
            "image/png": "[encoded data removed]"
          },
          "metadata": {
            "needs_background": "light"
          }
        },
        {
          "output_type": "stream",
          "name": "stdout",
          "text": [
            "stay_up_late Skewness: 1.4277967573757753\n",
            "Columns 'stay_up_late' right skewed\n"
          ]
        },
        {
          "output_type": "display_data",
          "data": {
            "text/plain": [
              "<Figure size 1080x360 with 2 Axes>"
            ],
            "image/png": "[encoded data removed]"
          },
          "metadata": {
            "needs_background": "light"
          }
        },
        {
          "output_type": "stream",
          "name": "stdout",
          "text": [
            "coffee_consumed Skewness: 2.4293437073449087\n",
            "Columns 'coffee_consumed' right skewed\n"
          ]
        },
        {
          "output_type": "display_data",
          "data": {
            "text/plain": [
              "<Figure size 1080x360 with 2 Axes>"
            ],
            "image/png": "[encoded data removed]"
          },
          "metadata": {
            "needs_background": "light"
          }
        },
        {
          "output_type": "stream",
          "name": "stdout",
          "text": [
            "brain_working_duration Skewness: 1.4581329329774533\n",
            "Columns 'brain_working_duration' right skewed\n"
          ]
        },
        {
          "output_type": "display_data",
          "data": {
            "text/plain": [
              "<Figure size 1080x360 with 2 Axes>"
            ],
            "image/png": "[encoded data removed]"
          },
          "metadata": {
            "needs_background": "light"
          }
        },
        {
          "output_type": "stream",
          "name": "stdout",
          "text": [
            "hair_grease Skewness: 0.4500984633798053\n",
            "Columns 'hair_grease' normal distribution\n"
          ]
        }
      ]
    },
    {
      "cell_type": "code",
      "source": [
        "for k in numeric:\n",
        "  Q3 = numeric[k].quantile(.75)\n",
        "  Q1 = numeric[k].quantile(.15)\n",
        "\n",
        "  IQR = Q3 - Q1\n",
        "\n",
        "  upper = Q3 + (3 * IQR)\n",
        "  lower = Q1 - (3 * IQR)\n",
        "\n",
        "  outlier = numeric[(numeric[k] > upper) | (numeric[k] < lower)]\n",
        "  print(k)\n",
        "  print('count of outlier: ', outlier.shape[0])\n",
        "  print('percent k of outlier: ', outlier.shape[0]/numeric.shape[0] * 100, '%')\n",
        "  print('='*70)"
      ],
      "metadata": {
        "colab": {
          "base_uri": "https://localhost:8080/"
        },
        "id": "GTPzF7GWRBmv",
        "outputId": "7fb7332c-3c20-4e81-950f-af40aaebf3c5"
      },
      "execution_count": null,
      "outputs": [
        {
          "output_type": "stream",
          "name": "stdout",
          "text": [
            "stay_up_late\n",
            "count of outlier:  0\n",
            "percent k of outlier:  0.0 %\n",
            "======================================================================\n",
            "coffee_consumed\n",
            "count of outlier:  29\n",
            "percent k of outlier:  7.249999999999999 %\n",
            "======================================================================\n",
            "brain_working_duration\n",
            "count of outlier:  0\n",
            "percent k of outlier:  0.0 %\n",
            "======================================================================\n",
            "hair_grease\n",
            "count of outlier:  0\n",
            "percent k of outlier:  0.0 %\n",
            "======================================================================\n"
          ]
        }
      ]
    },
    {
      "cell_type": "markdown",
      "source": [
        "In this dataset case i dont want to cap or drop any outlier because of i think that i need the real data of each value because each and every data counts because of the lack amount of data that i've got"
      ],
      "metadata": {
        "id": "imfxfLc_k6En"
      }
    },
    {
      "cell_type": "markdown",
      "source": [
        "### Numerical Feature Selection"
      ],
      "metadata": {
        "id": "9xgr1j68c--5"
      }
    },
    {
      "cell_type": "markdown",
      "source": [
        "In the numerical feature selection i will use mutual info classif, because its suitable for the numerical data and categorical target."
      ],
      "metadata": {
        "id": "Ycw-TJZakOkX"
      }
    },
    {
      "cell_type": "code",
      "source": [
        "X2 = numeric"
      ],
      "metadata": {
        "id": "fNO38-wkcrNm"
      },
      "execution_count": null,
      "outputs": []
    },
    {
      "cell_type": "code",
      "source": [
        "mutual_info = mutual_info_classif(X2, y)\n",
        "mutual_info"
      ],
      "metadata": {
        "colab": {
          "base_uri": "https://localhost:8080/"
        },
        "id": "oniltM7IcUOr",
        "outputId": "c42d54e9-870c-4c23-b911-1a5166226405"
      },
      "execution_count": null,
      "outputs": [
        {
          "output_type": "execute_result",
          "data": {
            "text/plain": [
              "array([0.19462254, 0.56036138, 0.18139045, 0.34901463])"
            ]
          },
          "metadata": {},
          "execution_count": 430
        }
      ]
    },
    {
      "cell_type": "code",
      "source": [
        "mutual_info = pd.Series(mutual_info)\n",
        "mutual_info.index = X2.columns\n",
        "mutual_info.sort_values(ascending=False)"
      ],
      "metadata": {
        "colab": {
          "base_uri": "https://localhost:8080/"
        },
        "id": "5x9qVD48c1K3",
        "outputId": "ff6c78b4-6af7-46b9-bcba-bbcfc5daa10f"
      },
      "execution_count": null,
      "outputs": [
        {
          "output_type": "execute_result",
          "data": {
            "text/plain": [
              "coffee_consumed           0.560361\n",
              "hair_grease               0.349015\n",
              "stay_up_late              0.194623\n",
              "brain_working_duration    0.181390\n",
              "dtype: float64"
            ]
          },
          "metadata": {},
          "execution_count": 431
        }
      ]
    },
    {
      "cell_type": "markdown",
      "source": [
        "Thus i will use the top 2 for my numerical data "
      ],
      "metadata": {
        "id": "mJZ7Bb4HoIuH"
      }
    },
    {
      "cell_type": "code",
      "source": [
        "num = Data[['coffee_consumed', 'hair_grease']]"
      ],
      "metadata": {
        "id": "d6n2ci5of5kh"
      },
      "execution_count": null,
      "outputs": []
    },
    {
      "cell_type": "markdown",
      "source": [
        "## New Data"
      ],
      "metadata": {
        "id": "NYu7EVtPdIDu"
      }
    },
    {
      "cell_type": "code",
      "source": [
        "NewData = Dataset[['coffee_consumed', 'hair_grease', 'stress_level', 'pressure_level', 'dandruff', 'school_assesssment', 'hair_loss' ]]"
      ],
      "metadata": {
        "id": "mefoiS_odKLf"
      },
      "execution_count": null,
      "outputs": []
    },
    {
      "cell_type": "code",
      "source": [
        "NewData.head()"
      ],
      "metadata": {
        "colab": {
          "base_uri": "https://localhost:8080/",
          "height": 206
        },
        "id": "pWU0ef3dgPGB",
        "outputId": "3fe3850f-ff6c-4df5-ae0c-657fb68b4537"
      },
      "execution_count": null,
      "outputs": [
        {
          "output_type": "execute_result",
          "data": {
            "text/plain": [
              "   coffee_consumed  hair_grease stress_level pressure_level dandruff  \\\n",
              "0                0          3.0          Low            Low     None   \n",
              "1                0          1.0          Low            Low     None   \n",
              "2                1          2.0          Low            Low     None   \n",
              "3                0          3.0          Low            Low     None   \n",
              "4                0          1.0          Low            Low     None   \n",
              "\n",
              "  school_assesssment hair_loss  \n",
              "0               None       Few  \n",
              "1               None       Few  \n",
              "2               None    Medium  \n",
              "3               None       Few  \n",
              "4               None       Few  "
            ],
            "text/html": [
              "\n",
              "  <div id=\"df-41e61324-1d51-436c-b7e9-f5cb85e3a735\">\n",
              "    <div class=\"colab-df-container\">\n",
              "      <div>\n",
              "<style scoped>\n",
              "    .dataframe tbody tr th:only-of-type {\n",
              "        vertical-align: middle;\n",
              "    }\n",
              "\n",
              "    .dataframe tbody tr th {\n",
              "        vertical-align: top;\n",
              "    }\n",
              "\n",
              "    .dataframe thead th {\n",
              "        text-align: right;\n",
              "    }\n",
              "</style>\n",
              "<table border=\"1\" class=\"dataframe\">\n",
              "  <thead>\n",
              "    <tr style=\"text-align: right;\">\n",
              "      <th></th>\n",
              "      <th>coffee_consumed</th>\n",
              "      <th>hair_grease</th>\n",
              "      <th>stress_level</th>\n",
              "      <th>pressure_level</th>\n",
              "      <th>dandruff</th>\n",
              "      <th>school_assesssment</th>\n",
              "      <th>hair_loss</th>\n",
              "    </tr>\n",
              "  </thead>\n",
              "  <tbody>\n",
              "    <tr>\n",
              "      <th>0</th>\n",
              "      <td>0</td>\n",
              "      <td>3.0</td>\n",
              "      <td>Low</td>\n",
              "      <td>Low</td>\n",
              "      <td>None</td>\n",
              "      <td>None</td>\n",
              "      <td>Few</td>\n",
              "    </tr>\n",
              "    <tr>\n",
              "      <th>1</th>\n",
              "      <td>0</td>\n",
              "      <td>1.0</td>\n",
              "      <td>Low</td>\n",
              "      <td>Low</td>\n",
              "      <td>None</td>\n",
              "      <td>None</td>\n",
              "      <td>Few</td>\n",
              "    </tr>\n",
              "    <tr>\n",
              "      <th>2</th>\n",
              "      <td>1</td>\n",
              "      <td>2.0</td>\n",
              "      <td>Low</td>\n",
              "      <td>Low</td>\n",
              "      <td>None</td>\n",
              "      <td>None</td>\n",
              "      <td>Medium</td>\n",
              "    </tr>\n",
              "    <tr>\n",
              "      <th>3</th>\n",
              "      <td>0</td>\n",
              "      <td>3.0</td>\n",
              "      <td>Low</td>\n",
              "      <td>Low</td>\n",
              "      <td>None</td>\n",
              "      <td>None</td>\n",
              "      <td>Few</td>\n",
              "    </tr>\n",
              "    <tr>\n",
              "      <th>4</th>\n",
              "      <td>0</td>\n",
              "      <td>1.0</td>\n",
              "      <td>Low</td>\n",
              "      <td>Low</td>\n",
              "      <td>None</td>\n",
              "      <td>None</td>\n",
              "      <td>Few</td>\n",
              "    </tr>\n",
              "  </tbody>\n",
              "</table>\n",
              "</div>\n",
              "      <button class=\"colab-df-convert\" onclick=\"convertToInteractive('df-41e61324-1d51-436c-b7e9-f5cb85e3a735')\"\n",
              "              title=\"Convert this dataframe to an interactive table.\"\n",
              "              style=\"display:none;\">\n",
              "        \n",
              "  <svg xmlns=\"http://www.w3.org/2000/svg\" height=\"24px\"viewBox=\"0 0 24 24\"\n",
              "       width=\"24px\">\n",
              "    <path d=\"M0 0h24v24H0V0z\" fill=\"none\"/>\n",
              "    <path d=\"M18.56 5.44l.94 2.06.94-2.06 2.06-.94-2.06-.94-.94-2.06-.94 2.06-2.06.94zm-11 1L8.5 8.5l.94-2.06 2.06-.94-2.06-.94L8.5 2.5l-.94 2.06-2.06.94zm10 10l.94 2.06.94-2.06 2.06-.94-2.06-.94-.94-2.06-.94 2.06-2.06.94z\"/><path d=\"M17.41 7.96l-1.37-1.37c-.4-.4-.92-.59-1.43-.59-.52 0-1.04.2-1.43.59L10.3 9.45l-7.72 7.72c-.78.78-.78 2.05 0 2.83L4 21.41c.39.39.9.59 1.41.59.51 0 1.02-.2 1.41-.59l7.78-7.78 2.81-2.81c.8-.78.8-2.07 0-2.86zM5.41 20L4 18.59l7.72-7.72 1.47 1.35L5.41 20z\"/>\n",
              "  </svg>\n",
              "      </button>\n",
              "      \n",
              "  <style>\n",
              "    .colab-df-container {\n",
              "      display:flex;\n",
              "      flex-wrap:wrap;\n",
              "      gap: 12px;\n",
              "    }\n",
              "\n",
              "    .colab-df-convert {\n",
              "      background-color: #E8F0FE;\n",
              "      border: none;\n",
              "      border-radius: 50%;\n",
              "      cursor: pointer;\n",
              "      display: none;\n",
              "      fill: #1967D2;\n",
              "      height: 32px;\n",
              "      padding: 0 0 0 0;\n",
              "      width: 32px;\n",
              "    }\n",
              "\n",
              "    .colab-df-convert:hover {\n",
              "      background-color: #E2EBFA;\n",
              "      box-shadow: 0px 1px 2px rgba(60, 64, 67, 0.3), 0px 1px 3px 1px rgba(60, 64, 67, 0.15);\n",
              "      fill: #174EA6;\n",
              "    }\n",
              "\n",
              "    [theme=dark] .colab-df-convert {\n",
              "      background-color: #3B4455;\n",
              "      fill: #D2E3FC;\n",
              "    }\n",
              "\n",
              "    [theme=dark] .colab-df-convert:hover {\n",
              "      background-color: #434B5C;\n",
              "      box-shadow: 0px 1px 3px 1px rgba(0, 0, 0, 0.15);\n",
              "      filter: drop-shadow(0px 1px 2px rgba(0, 0, 0, 0.3));\n",
              "      fill: #FFFFFF;\n",
              "    }\n",
              "  </style>\n",
              "\n",
              "      <script>\n",
              "        const buttonEl =\n",
              "          document.querySelector('#df-41e61324-1d51-436c-b7e9-f5cb85e3a735 button.colab-df-convert');\n",
              "        buttonEl.style.display =\n",
              "          google.colab.kernel.accessAllowed ? 'block' : 'none';\n",
              "\n",
              "        async function convertToInteractive(key) {\n",
              "          const element = document.querySelector('#df-41e61324-1d51-436c-b7e9-f5cb85e3a735');\n",
              "          const dataTable =\n",
              "            await google.colab.kernel.invokeFunction('convertToInteractive',\n",
              "                                                     [key], {});\n",
              "          if (!dataTable) return;\n",
              "\n",
              "          const docLinkHtml = 'Like what you see? Visit the ' +\n",
              "            '<a target=\"_blank\" href=https://colab.research.google.com/notebooks/data_table.ipynb>data table notebook</a>'\n",
              "            + ' to learn more about interactive tables.';\n",
              "          element.innerHTML = '';\n",
              "          dataTable['output_type'] = 'display_data';\n",
              "          await google.colab.output.renderOutput(dataTable, element);\n",
              "          const docLink = document.createElement('div');\n",
              "          docLink.innerHTML = docLinkHtml;\n",
              "          element.appendChild(docLink);\n",
              "        }\n",
              "      </script>\n",
              "    </div>\n",
              "  </div>\n",
              "  "
            ]
          },
          "metadata": {},
          "execution_count": 478
        }
      ]
    },
    {
      "cell_type": "markdown",
      "source": [
        "### Hair Loss (Target)"
      ],
      "metadata": {
        "id": "VrRzn3DmHtdc"
      }
    },
    {
      "cell_type": "markdown",
      "source": [
        "I want to look at my target which is the 'hair_loss' columns since in my personal opinion when you want to make a classification machine learning the balanced of your target is really important to the accuracy of the model."
      ],
      "metadata": {
        "id": "4e5NZUtQ6Wv0"
      }
    },
    {
      "cell_type": "markdown",
      "source": [
        "Thus here is the target"
      ],
      "metadata": {
        "id": "JpxU6TFd8uVu"
      }
    },
    {
      "cell_type": "code",
      "source": [
        "sns.countplot(x='hair_loss', data = NewData)"
      ],
      "metadata": {
        "colab": {
          "base_uri": "https://localhost:8080/",
          "height": 297
        },
        "id": "_kch0_AMl8I5",
        "outputId": "75afb4d8-1200-45aa-a939-4c655ea737c6"
      },
      "execution_count": null,
      "outputs": [
        {
          "output_type": "execute_result",
          "data": {
            "text/plain": [
              "<matplotlib.axes._subplots.AxesSubplot at 0x7f8a187f1510>"
            ]
          },
          "metadata": {},
          "execution_count": 487
        },
        {
          "output_type": "display_data",
          "data": {
            "text/plain": [
              "<Figure size 432x288 with 1 Axes>"
            ],
            "image/png": "[encoded data removed]"
          },
          "metadata": {
            "needs_background": "light"
          }
        }
      ]
    },
    {
      "cell_type": "markdown",
      "source": [
        "Above we can see that Luke's hair loss class shows an imbalanced data, especially on the 'many' and 'A lot' class. Thus, i will combine both class since they are the worst class for the hair loss and make it the same value."
      ],
      "metadata": {
        "id": "jaNE3Tbz9ai4"
      }
    },
    {
      "cell_type": "code",
      "source": [
        "NewData.loc[NewData[\"hair_loss\"] == \"A lot\", \"hair_loss\"] = \"Many\""
      ],
      "metadata": {
        "id": "zizo7kVTmN61",
        "colab": {
          "base_uri": "https://localhost:8080/"
        },
        "outputId": "9b162552-e835-4faf-dfdd-af211edbe70d"
      },
      "execution_count": null,
      "outputs": [
        {
          "output_type": "stream",
          "name": "stderr",
          "text": [
            "/usr/local/lib/python3.7/dist-packages/pandas/core/indexing.py:1817: SettingWithCopyWarning: \n",
            "A value is trying to be set on a copy of a slice from a DataFrame.\n",
            "Try using .loc[row_indexer,col_indexer] = value instead\n",
            "\n",
            "See the caveats in the documentation: https://pandas.pydata.org/pandas-docs/stable/user_guide/indexing.html#returning-a-view-versus-a-copy\n",
            "  self._setitem_single_column(loc, value, pi)\n"
          ]
        }
      ]
    },
    {
      "cell_type": "code",
      "source": [
        "sns.countplot(x='hair_loss', data = NewData)"
      ],
      "metadata": {
        "colab": {
          "base_uri": "https://localhost:8080/",
          "height": 297
        },
        "id": "hN6RKHOQ-dRM",
        "outputId": "50eea38c-7b3d-41e3-f4a8-04a1aa138aaf"
      },
      "execution_count": null,
      "outputs": [
        {
          "output_type": "execute_result",
          "data": {
            "text/plain": [
              "<matplotlib.axes._subplots.AxesSubplot at 0x7f8a18082510>"
            ]
          },
          "metadata": {},
          "execution_count": 489
        },
        {
          "output_type": "display_data",
          "data": {
            "text/plain": [
              "<Figure size 432x288 with 1 Axes>"
            ],
            "image/png": "[encoded data removed]"
          },
          "metadata": {
            "needs_background": "light"
          }
        }
      ]
    },
    {
      "cell_type": "markdown",
      "source": [
        "But since the 'Many' data still have a really small amount of data, hence i will do oversampling for 'Many' with SMOTE and focusing on the minority one after all the data preprocessing step. "
      ],
      "metadata": {
        "id": "TPQC6aQB-xyw"
      }
    },
    {
      "cell_type": "markdown",
      "source": [
        "Here i also want to encode the target with ordinal encoder"
      ],
      "metadata": {
        "id": "uUc5GubbecJ5"
      }
    },
    {
      "cell_type": "code",
      "source": [
        "hair_loss = ['Few', 'Medium', 'Many']\n",
        "\n",
        "ord_enc_inc = OrdinalEncoder(categories=[hair_loss])\n",
        "cat_ord_inc = pd.DataFrame(ord_enc_inc.fit_transform(NewData[['hair_loss']]))\n",
        "cat_ord_inc.columns = ['hair_loss']"
      ],
      "metadata": {
        "id": "BJ7TayV2gZ1x"
      },
      "execution_count": null,
      "outputs": []
    },
    {
      "cell_type": "code",
      "source": [
        "NewData = NewData.drop('hair_loss', axis=1)\n",
        "NewData=pd.concat([NewData.reset_index(drop=True), cat_ord_inc], axis=1)\n",
        "NewData"
      ],
      "metadata": {
        "colab": {
          "base_uri": "https://localhost:8080/",
          "height": 424
        },
        "id": "Z18lEbxKjoaE",
        "outputId": "716e997f-ad29-4742-9255-b01184b31b56"
      },
      "execution_count": null,
      "outputs": [
        {
          "output_type": "execute_result",
          "data": {
            "text/plain": [
              "     coffee_consumed  hair_grease stress_level pressure_level dandruff  \\\n",
              "0                  0          3.0          Low            Low     None   \n",
              "1                  0          1.0          Low            Low     None   \n",
              "2                  1          2.0          Low            Low     None   \n",
              "3                  0          3.0          Low            Low     None   \n",
              "4                  0          1.0          Low            Low     None   \n",
              "..               ...          ...          ...            ...      ...   \n",
              "395                1          1.0          Low            Low     None   \n",
              "396                0          2.0          Low            Low     None   \n",
              "397                1          2.0          Low            Low     None   \n",
              "398                1          2.0          Low            Low     None   \n",
              "399                0          2.0          Low            Low     None   \n",
              "\n",
              "    school_assesssment  hair_loss  \n",
              "0                 None        0.0  \n",
              "1                 None        0.0  \n",
              "2                 None        1.0  \n",
              "3                 None        0.0  \n",
              "4                 None        0.0  \n",
              "..                 ...        ...  \n",
              "395               None        1.0  \n",
              "396               None        0.0  \n",
              "397               None        1.0  \n",
              "398               None        1.0  \n",
              "399               None        0.0  \n",
              "\n",
              "[400 rows x 7 columns]"
            ],
            "text/html": [
              "\n",
              "  <div id=\"df-eb634feb-817e-44d5-92bf-66657a5c5067\">\n",
              "    <div class=\"colab-df-container\">\n",
              "      <div>\n",
              "<style scoped>\n",
              "    .dataframe tbody tr th:only-of-type {\n",
              "        vertical-align: middle;\n",
              "    }\n",
              "\n",
              "    .dataframe tbody tr th {\n",
              "        vertical-align: top;\n",
              "    }\n",
              "\n",
              "    .dataframe thead th {\n",
              "        text-align: right;\n",
              "    }\n",
              "</style>\n",
              "<table border=\"1\" class=\"dataframe\">\n",
              "  <thead>\n",
              "    <tr style=\"text-align: right;\">\n",
              "      <th></th>\n",
              "      <th>coffee_consumed</th>\n",
              "      <th>hair_grease</th>\n",
              "      <th>stress_level</th>\n",
              "      <th>pressure_level</th>\n",
              "      <th>dandruff</th>\n",
              "      <th>school_assesssment</th>\n",
              "      <th>hair_loss</th>\n",
              "    </tr>\n",
              "  </thead>\n",
              "  <tbody>\n",
              "    <tr>\n",
              "      <th>0</th>\n",
              "      <td>0</td>\n",
              "      <td>3.0</td>\n",
              "      <td>Low</td>\n",
              "      <td>Low</td>\n",
              "      <td>None</td>\n",
              "      <td>None</td>\n",
              "      <td>0.0</td>\n",
              "    </tr>\n",
              "    <tr>\n",
              "      <th>1</th>\n",
              "      <td>0</td>\n",
              "      <td>1.0</td>\n",
              "      <td>Low</td>\n",
              "      <td>Low</td>\n",
              "      <td>None</td>\n",
              "      <td>None</td>\n",
              "      <td>0.0</td>\n",
              "    </tr>\n",
              "    <tr>\n",
              "      <th>2</th>\n",
              "      <td>1</td>\n",
              "      <td>2.0</td>\n",
              "      <td>Low</td>\n",
              "      <td>Low</td>\n",
              "      <td>None</td>\n",
              "      <td>None</td>\n",
              "      <td>1.0</td>\n",
              "    </tr>\n",
              "    <tr>\n",
              "      <th>3</th>\n",
              "      <td>0</td>\n",
              "      <td>3.0</td>\n",
              "      <td>Low</td>\n",
              "      <td>Low</td>\n",
              "      <td>None</td>\n",
              "      <td>None</td>\n",
              "      <td>0.0</td>\n",
              "    </tr>\n",
              "    <tr>\n",
              "      <th>4</th>\n",
              "      <td>0</td>\n",
              "      <td>1.0</td>\n",
              "      <td>Low</td>\n",
              "      <td>Low</td>\n",
              "      <td>None</td>\n",
              "      <td>None</td>\n",
              "      <td>0.0</td>\n",
              "    </tr>\n",
              "    <tr>\n",
              "      <th>...</th>\n",
              "      <td>...</td>\n",
              "      <td>...</td>\n",
              "      <td>...</td>\n",
              "      <td>...</td>\n",
              "      <td>...</td>\n",
              "      <td>...</td>\n",
              "      <td>...</td>\n",
              "    </tr>\n",
              "    <tr>\n",
              "      <th>395</th>\n",
              "      <td>1</td>\n",
              "      <td>1.0</td>\n",
              "      <td>Low</td>\n",
              "      <td>Low</td>\n",
              "      <td>None</td>\n",
              "      <td>None</td>\n",
              "      <td>1.0</td>\n",
              "    </tr>\n",
              "    <tr>\n",
              "      <th>396</th>\n",
              "      <td>0</td>\n",
              "      <td>2.0</td>\n",
              "      <td>Low</td>\n",
              "      <td>Low</td>\n",
              "      <td>None</td>\n",
              "      <td>None</td>\n",
              "      <td>0.0</td>\n",
              "    </tr>\n",
              "    <tr>\n",
              "      <th>397</th>\n",
              "      <td>1</td>\n",
              "      <td>2.0</td>\n",
              "      <td>Low</td>\n",
              "      <td>Low</td>\n",
              "      <td>None</td>\n",
              "      <td>None</td>\n",
              "      <td>1.0</td>\n",
              "    </tr>\n",
              "    <tr>\n",
              "      <th>398</th>\n",
              "      <td>1</td>\n",
              "      <td>2.0</td>\n",
              "      <td>Low</td>\n",
              "      <td>Low</td>\n",
              "      <td>None</td>\n",
              "      <td>None</td>\n",
              "      <td>1.0</td>\n",
              "    </tr>\n",
              "    <tr>\n",
              "      <th>399</th>\n",
              "      <td>0</td>\n",
              "      <td>2.0</td>\n",
              "      <td>Low</td>\n",
              "      <td>Low</td>\n",
              "      <td>None</td>\n",
              "      <td>None</td>\n",
              "      <td>0.0</td>\n",
              "    </tr>\n",
              "  </tbody>\n",
              "</table>\n",
              "<p>400 rows × 7 columns</p>\n",
              "</div>\n",
              "      <button class=\"colab-df-convert\" onclick=\"convertToInteractive('df-eb634feb-817e-44d5-92bf-66657a5c5067')\"\n",
              "              title=\"Convert this dataframe to an interactive table.\"\n",
              "              style=\"display:none;\">\n",
              "        \n",
              "  <svg xmlns=\"http://www.w3.org/2000/svg\" height=\"24px\"viewBox=\"0 0 24 24\"\n",
              "       width=\"24px\">\n",
              "    <path d=\"M0 0h24v24H0V0z\" fill=\"none\"/>\n",
              "    <path d=\"M18.56 5.44l.94 2.06.94-2.06 2.06-.94-2.06-.94-.94-2.06-.94 2.06-2.06.94zm-11 1L8.5 8.5l.94-2.06 2.06-.94-2.06-.94L8.5 2.5l-.94 2.06-2.06.94zm10 10l.94 2.06.94-2.06 2.06-.94-2.06-.94-.94-2.06-.94 2.06-2.06.94z\"/><path d=\"M17.41 7.96l-1.37-1.37c-.4-.4-.92-.59-1.43-.59-.52 0-1.04.2-1.43.59L10.3 9.45l-7.72 7.72c-.78.78-.78 2.05 0 2.83L4 21.41c.39.39.9.59 1.41.59.51 0 1.02-.2 1.41-.59l7.78-7.78 2.81-2.81c.8-.78.8-2.07 0-2.86zM5.41 20L4 18.59l7.72-7.72 1.47 1.35L5.41 20z\"/>\n",
              "  </svg>\n",
              "      </button>\n",
              "      \n",
              "  <style>\n",
              "    .colab-df-container {\n",
              "      display:flex;\n",
              "      flex-wrap:wrap;\n",
              "      gap: 12px;\n",
              "    }\n",
              "\n",
              "    .colab-df-convert {\n",
              "      background-color: #E8F0FE;\n",
              "      border: none;\n",
              "      border-radius: 50%;\n",
              "      cursor: pointer;\n",
              "      display: none;\n",
              "      fill: #1967D2;\n",
              "      height: 32px;\n",
              "      padding: 0 0 0 0;\n",
              "      width: 32px;\n",
              "    }\n",
              "\n",
              "    .colab-df-convert:hover {\n",
              "      background-color: #E2EBFA;\n",
              "      box-shadow: 0px 1px 2px rgba(60, 64, 67, 0.3), 0px 1px 3px 1px rgba(60, 64, 67, 0.15);\n",
              "      fill: #174EA6;\n",
              "    }\n",
              "\n",
              "    [theme=dark] .colab-df-convert {\n",
              "      background-color: #3B4455;\n",
              "      fill: #D2E3FC;\n",
              "    }\n",
              "\n",
              "    [theme=dark] .colab-df-convert:hover {\n",
              "      background-color: #434B5C;\n",
              "      box-shadow: 0px 1px 3px 1px rgba(0, 0, 0, 0.15);\n",
              "      filter: drop-shadow(0px 1px 2px rgba(0, 0, 0, 0.3));\n",
              "      fill: #FFFFFF;\n",
              "    }\n",
              "  </style>\n",
              "\n",
              "      <script>\n",
              "        const buttonEl =\n",
              "          document.querySelector('#df-eb634feb-817e-44d5-92bf-66657a5c5067 button.colab-df-convert');\n",
              "        buttonEl.style.display =\n",
              "          google.colab.kernel.accessAllowed ? 'block' : 'none';\n",
              "\n",
              "        async function convertToInteractive(key) {\n",
              "          const element = document.querySelector('#df-eb634feb-817e-44d5-92bf-66657a5c5067');\n",
              "          const dataTable =\n",
              "            await google.colab.kernel.invokeFunction('convertToInteractive',\n",
              "                                                     [key], {});\n",
              "          if (!dataTable) return;\n",
              "\n",
              "          const docLinkHtml = 'Like what you see? Visit the ' +\n",
              "            '<a target=\"_blank\" href=https://colab.research.google.com/notebooks/data_table.ipynb>data table notebook</a>'\n",
              "            + ' to learn more about interactive tables.';\n",
              "          element.innerHTML = '';\n",
              "          dataTable['output_type'] = 'display_data';\n",
              "          await google.colab.output.renderOutput(dataTable, element);\n",
              "          const docLink = document.createElement('div');\n",
              "          docLink.innerHTML = docLinkHtml;\n",
              "          element.appendChild(docLink);\n",
              "        }\n",
              "      </script>\n",
              "    </div>\n",
              "  </div>\n",
              "  "
            ]
          },
          "metadata": {},
          "execution_count": 491
        }
      ]
    },
    {
      "cell_type": "code",
      "source": [
        "sns.countplot(x='hair_loss', data = Data)"
      ],
      "metadata": {
        "colab": {
          "base_uri": "https://localhost:8080/",
          "height": 297
        },
        "id": "RVFLkXasfcYs",
        "outputId": "70b32850-0e1c-433a-a5bf-53813c45991d"
      },
      "execution_count": null,
      "outputs": [
        {
          "output_type": "execute_result",
          "data": {
            "text/plain": [
              "<matplotlib.axes._subplots.AxesSubplot at 0x7f8a1a6b2c50>"
            ]
          },
          "metadata": {},
          "execution_count": 492
        },
        {
          "output_type": "display_data",
          "data": {
            "text/plain": [
              "<Figure size 432x288 with 1 Axes>"
            ],
            "image/png": "[encoded data removed]"
          },
          "metadata": {
            "needs_background": "light"
          }
        }
      ]
    },
    {
      "cell_type": "markdown",
      "source": [
        "Thus here are the new target"
      ],
      "metadata": {
        "id": "UdiLXB5pkXve"
      }
    },
    {
      "cell_type": "code",
      "source": [
        "NewData.head()"
      ],
      "metadata": {
        "colab": {
          "base_uri": "https://localhost:8080/",
          "height": 206
        },
        "id": "LxjJY-94n4vI",
        "outputId": "dcdfccc1-4e85-47f2-80b3-7bd1e2336b5f"
      },
      "execution_count": null,
      "outputs": [
        {
          "output_type": "execute_result",
          "data": {
            "text/plain": [
              "   coffee_consumed  hair_grease stress_level pressure_level dandruff  \\\n",
              "0                0          3.0          Low            Low     None   \n",
              "1                0          1.0          Low            Low     None   \n",
              "2                1          2.0          Low            Low     None   \n",
              "3                0          3.0          Low            Low     None   \n",
              "4                0          1.0          Low            Low     None   \n",
              "\n",
              "  school_assesssment  hair_loss  \n",
              "0               None        0.0  \n",
              "1               None        0.0  \n",
              "2               None        1.0  \n",
              "3               None        0.0  \n",
              "4               None        0.0  "
            ],
            "text/html": [
              "\n",
              "  <div id=\"df-be805c25-0a10-4e18-abf4-6b2508349fe9\">\n",
              "    <div class=\"colab-df-container\">\n",
              "      <div>\n",
              "<style scoped>\n",
              "    .dataframe tbody tr th:only-of-type {\n",
              "        vertical-align: middle;\n",
              "    }\n",
              "\n",
              "    .dataframe tbody tr th {\n",
              "        vertical-align: top;\n",
              "    }\n",
              "\n",
              "    .dataframe thead th {\n",
              "        text-align: right;\n",
              "    }\n",
              "</style>\n",
              "<table border=\"1\" class=\"dataframe\">\n",
              "  <thead>\n",
              "    <tr style=\"text-align: right;\">\n",
              "      <th></th>\n",
              "      <th>coffee_consumed</th>\n",
              "      <th>hair_grease</th>\n",
              "      <th>stress_level</th>\n",
              "      <th>pressure_level</th>\n",
              "      <th>dandruff</th>\n",
              "      <th>school_assesssment</th>\n",
              "      <th>hair_loss</th>\n",
              "    </tr>\n",
              "  </thead>\n",
              "  <tbody>\n",
              "    <tr>\n",
              "      <th>0</th>\n",
              "      <td>0</td>\n",
              "      <td>3.0</td>\n",
              "      <td>Low</td>\n",
              "      <td>Low</td>\n",
              "      <td>None</td>\n",
              "      <td>None</td>\n",
              "      <td>0.0</td>\n",
              "    </tr>\n",
              "    <tr>\n",
              "      <th>1</th>\n",
              "      <td>0</td>\n",
              "      <td>1.0</td>\n",
              "      <td>Low</td>\n",
              "      <td>Low</td>\n",
              "      <td>None</td>\n",
              "      <td>None</td>\n",
              "      <td>0.0</td>\n",
              "    </tr>\n",
              "    <tr>\n",
              "      <th>2</th>\n",
              "      <td>1</td>\n",
              "      <td>2.0</td>\n",
              "      <td>Low</td>\n",
              "      <td>Low</td>\n",
              "      <td>None</td>\n",
              "      <td>None</td>\n",
              "      <td>1.0</td>\n",
              "    </tr>\n",
              "    <tr>\n",
              "      <th>3</th>\n",
              "      <td>0</td>\n",
              "      <td>3.0</td>\n",
              "      <td>Low</td>\n",
              "      <td>Low</td>\n",
              "      <td>None</td>\n",
              "      <td>None</td>\n",
              "      <td>0.0</td>\n",
              "    </tr>\n",
              "    <tr>\n",
              "      <th>4</th>\n",
              "      <td>0</td>\n",
              "      <td>1.0</td>\n",
              "      <td>Low</td>\n",
              "      <td>Low</td>\n",
              "      <td>None</td>\n",
              "      <td>None</td>\n",
              "      <td>0.0</td>\n",
              "    </tr>\n",
              "  </tbody>\n",
              "</table>\n",
              "</div>\n",
              "      <button class=\"colab-df-convert\" onclick=\"convertToInteractive('df-be805c25-0a10-4e18-abf4-6b2508349fe9')\"\n",
              "              title=\"Convert this dataframe to an interactive table.\"\n",
              "              style=\"display:none;\">\n",
              "        \n",
              "  <svg xmlns=\"http://www.w3.org/2000/svg\" height=\"24px\"viewBox=\"0 0 24 24\"\n",
              "       width=\"24px\">\n",
              "    <path d=\"M0 0h24v24H0V0z\" fill=\"none\"/>\n",
              "    <path d=\"M18.56 5.44l.94 2.06.94-2.06 2.06-.94-2.06-.94-.94-2.06-.94 2.06-2.06.94zm-11 1L8.5 8.5l.94-2.06 2.06-.94-2.06-.94L8.5 2.5l-.94 2.06-2.06.94zm10 10l.94 2.06.94-2.06 2.06-.94-2.06-.94-.94-2.06-.94 2.06-2.06.94z\"/><path d=\"M17.41 7.96l-1.37-1.37c-.4-.4-.92-.59-1.43-.59-.52 0-1.04.2-1.43.59L10.3 9.45l-7.72 7.72c-.78.78-.78 2.05 0 2.83L4 21.41c.39.39.9.59 1.41.59.51 0 1.02-.2 1.41-.59l7.78-7.78 2.81-2.81c.8-.78.8-2.07 0-2.86zM5.41 20L4 18.59l7.72-7.72 1.47 1.35L5.41 20z\"/>\n",
              "  </svg>\n",
              "      </button>\n",
              "      \n",
              "  <style>\n",
              "    .colab-df-container {\n",
              "      display:flex;\n",
              "      flex-wrap:wrap;\n",
              "      gap: 12px;\n",
              "    }\n",
              "\n",
              "    .colab-df-convert {\n",
              "      background-color: #E8F0FE;\n",
              "      border: none;\n",
              "      border-radius: 50%;\n",
              "      cursor: pointer;\n",
              "      display: none;\n",
              "      fill: #1967D2;\n",
              "      height: 32px;\n",
              "      padding: 0 0 0 0;\n",
              "      width: 32px;\n",
              "    }\n",
              "\n",
              "    .colab-df-convert:hover {\n",
              "      background-color: #E2EBFA;\n",
              "      box-shadow: 0px 1px 2px rgba(60, 64, 67, 0.3), 0px 1px 3px 1px rgba(60, 64, 67, 0.15);\n",
              "      fill: #174EA6;\n",
              "    }\n",
              "\n",
              "    [theme=dark] .colab-df-convert {\n",
              "      background-color: #3B4455;\n",
              "      fill: #D2E3FC;\n",
              "    }\n",
              "\n",
              "    [theme=dark] .colab-df-convert:hover {\n",
              "      background-color: #434B5C;\n",
              "      box-shadow: 0px 1px 3px 1px rgba(0, 0, 0, 0.15);\n",
              "      filter: drop-shadow(0px 1px 2px rgba(0, 0, 0, 0.3));\n",
              "      fill: #FFFFFF;\n",
              "    }\n",
              "  </style>\n",
              "\n",
              "      <script>\n",
              "        const buttonEl =\n",
              "          document.querySelector('#df-be805c25-0a10-4e18-abf4-6b2508349fe9 button.colab-df-convert');\n",
              "        buttonEl.style.display =\n",
              "          google.colab.kernel.accessAllowed ? 'block' : 'none';\n",
              "\n",
              "        async function convertToInteractive(key) {\n",
              "          const element = document.querySelector('#df-be805c25-0a10-4e18-abf4-6b2508349fe9');\n",
              "          const dataTable =\n",
              "            await google.colab.kernel.invokeFunction('convertToInteractive',\n",
              "                                                     [key], {});\n",
              "          if (!dataTable) return;\n",
              "\n",
              "          const docLinkHtml = 'Like what you see? Visit the ' +\n",
              "            '<a target=\"_blank\" href=https://colab.research.google.com/notebooks/data_table.ipynb>data table notebook</a>'\n",
              "            + ' to learn more about interactive tables.';\n",
              "          element.innerHTML = '';\n",
              "          dataTable['output_type'] = 'display_data';\n",
              "          await google.colab.output.renderOutput(dataTable, element);\n",
              "          const docLink = document.createElement('div');\n",
              "          docLink.innerHTML = docLinkHtml;\n",
              "          element.appendChild(docLink);\n",
              "        }\n",
              "      </script>\n",
              "    </div>\n",
              "  </div>\n",
              "  "
            ]
          },
          "metadata": {},
          "execution_count": 493
        }
      ]
    },
    {
      "cell_type": "markdown",
      "source": [
        "# Split Dataset"
      ],
      "metadata": {
        "id": "KQbpWmYwZCh7"
      }
    },
    {
      "cell_type": "markdown",
      "source": [
        "Now in here we want to split the dataset"
      ],
      "metadata": {
        "id": "cBEPs_L1lmDq"
      }
    },
    {
      "cell_type": "code",
      "source": [
        "train, test = train_test_split(NewData, stratify=y, train_size=0.8)"
      ],
      "metadata": {
        "id": "S9myuWNwj4zr"
      },
      "execution_count": null,
      "outputs": []
    },
    {
      "cell_type": "code",
      "source": [
        "X_train = train.drop('hair_loss', axis=1)\n",
        "X_test = test.drop('hair_loss', axis=1)\n",
        "\n",
        "y_train = train['hair_loss']\n",
        "y_test = test['hair_loss']"
      ],
      "metadata": {
        "id": "VZOgT6e1dkSH"
      },
      "execution_count": null,
      "outputs": []
    },
    {
      "cell_type": "markdown",
      "source": [
        "# Pipeline Preprocess"
      ],
      "metadata": {
        "id": "_gmlcPMihqkf"
      }
    },
    {
      "cell_type": "markdown",
      "source": [
        "In this section i want to make a pipeline for data preprocessing on the numerical and categorical data."
      ],
      "metadata": {
        "id": "VAc9Ya2Uly03"
      }
    },
    {
      "cell_type": "markdown",
      "source": [
        "## Numerical"
      ],
      "metadata": {
        "id": "p_Xlp6tCiGWF"
      }
    },
    {
      "cell_type": "code",
      "source": [
        "num_pipeline = Pipeline([\n",
        "        ('scaler', MinMaxScaler())\n",
        "    ])\n",
        "\n",
        "num_tr = num_pipeline.fit_transform(X_train[['coffee_consumed', 'hair_grease']])\n",
        "num_tr"
      ],
      "metadata": {
        "colab": {
          "base_uri": "https://localhost:8080/"
        },
        "id": "xhI54j1jiLiU",
        "outputId": "a7fc38bb-f95c-4d21-8fde-aea967aa1adb"
      },
      "execution_count": null,
      "outputs": [
        {
          "output_type": "execute_result",
          "data": {
            "text/plain": [
              "array([[0.  , 0.  ],\n",
              "       [0.  , 0.5 ],\n",
              "       [0.1 , 0.75],\n",
              "       [0.  , 0.25],\n",
              "       [0.2 , 0.75],\n",
              "       [0.4 , 0.75],\n",
              "       [0.2 , 0.75],\n",
              "       [0.  , 0.5 ],\n",
              "       [0.2 , 0.75],\n",
              "       [0.  , 0.  ],\n",
              "       [0.1 , 0.25],\n",
              "       [0.4 , 0.75],\n",
              "       [0.2 , 0.75],\n",
              "       [0.1 , 0.5 ],\n",
              "       [0.7 , 1.  ],\n",
              "       [0.1 , 0.25],\n",
              "       [0.1 , 0.25],\n",
              "       [0.2 , 0.75],\n",
              "       [0.  , 0.  ],\n",
              "       [0.  , 0.75],\n",
              "       [0.1 , 0.25],\n",
              "       [0.  , 0.25],\n",
              "       [0.1 , 0.  ],\n",
              "       [0.  , 0.  ],\n",
              "       [0.  , 0.  ],\n",
              "       [0.1 , 0.  ],\n",
              "       [0.2 , 0.75],\n",
              "       [0.4 , 0.75],\n",
              "       [0.  , 0.  ],\n",
              "       [0.1 , 0.  ],\n",
              "       [0.  , 0.25],\n",
              "       [0.  , 0.25],\n",
              "       [0.  , 0.25],\n",
              "       [0.  , 0.25],\n",
              "       [0.  , 0.25],\n",
              "       [0.1 , 0.5 ],\n",
              "       [0.1 , 0.5 ],\n",
              "       [0.2 , 0.75],\n",
              "       [0.  , 0.5 ],\n",
              "       [0.2 , 0.75],\n",
              "       [0.1 , 0.25],\n",
              "       [0.  , 0.25],\n",
              "       [0.  , 0.25],\n",
              "       [0.3 , 0.75],\n",
              "       [0.  , 0.  ],\n",
              "       [1.  , 1.  ],\n",
              "       [0.  , 0.25],\n",
              "       [0.1 , 0.25],\n",
              "       [0.  , 0.25],\n",
              "       [0.  , 0.5 ],\n",
              "       [0.  , 0.25],\n",
              "       [0.  , 0.25],\n",
              "       [0.2 , 0.75],\n",
              "       [0.1 , 0.  ],\n",
              "       [0.  , 0.25],\n",
              "       [0.5 , 1.  ],\n",
              "       [0.3 , 0.75],\n",
              "       [0.1 , 0.  ],\n",
              "       [0.  , 0.25],\n",
              "       [0.  , 0.5 ],\n",
              "       [0.  , 0.25],\n",
              "       [0.1 , 0.25],\n",
              "       [0.1 , 0.25],\n",
              "       [0.1 , 0.25],\n",
              "       [0.  , 0.  ],\n",
              "       [0.1 , 0.  ],\n",
              "       [0.  , 0.25],\n",
              "       [0.  , 0.75],\n",
              "       [0.  , 0.25],\n",
              "       [0.1 , 0.25],\n",
              "       [0.  , 0.5 ],\n",
              "       [0.  , 0.  ],\n",
              "       [0.  , 0.75],\n",
              "       [0.  , 0.  ],\n",
              "       [0.1 , 0.  ],\n",
              "       [0.  , 0.25],\n",
              "       [0.  , 0.25],\n",
              "       [0.5 , 1.  ],\n",
              "       [0.  , 0.  ],\n",
              "       [0.1 , 0.5 ],\n",
              "       [0.  , 1.  ],\n",
              "       [0.  , 0.  ],\n",
              "       [0.1 , 0.5 ],\n",
              "       [0.  , 0.25],\n",
              "       [0.6 , 1.  ],\n",
              "       [0.1 , 0.5 ],\n",
              "       [0.4 , 0.75],\n",
              "       [0.1 , 0.25],\n",
              "       [0.  , 0.  ],\n",
              "       [0.  , 0.25],\n",
              "       [0.  , 0.25],\n",
              "       [0.  , 0.  ],\n",
              "       [0.  , 0.25],\n",
              "       [0.1 , 0.25],\n",
              "       [0.  , 0.25],\n",
              "       [0.1 , 0.  ],\n",
              "       [0.  , 0.25],\n",
              "       [0.  , 0.25],\n",
              "       [0.  , 0.25],\n",
              "       [0.1 , 0.  ],\n",
              "       [0.  , 0.5 ],\n",
              "       [0.  , 0.25],\n",
              "       [0.1 , 0.25],\n",
              "       [0.  , 0.75],\n",
              "       [0.  , 0.  ],\n",
              "       [0.  , 0.25],\n",
              "       [0.  , 0.25],\n",
              "       [0.3 , 0.75],\n",
              "       [0.  , 0.75],\n",
              "       [0.  , 0.75],\n",
              "       [0.1 , 0.25],\n",
              "       [0.1 , 0.25],\n",
              "       [0.2 , 0.75],\n",
              "       [0.  , 0.5 ],\n",
              "       [0.  , 0.25],\n",
              "       [0.3 , 0.75],\n",
              "       [0.  , 0.25],\n",
              "       [0.  , 0.25],\n",
              "       [0.  , 0.25],\n",
              "       [0.2 , 0.75],\n",
              "       [1.  , 1.  ],\n",
              "       [0.  , 1.  ],\n",
              "       [0.6 , 1.  ],\n",
              "       [0.2 , 0.75],\n",
              "       [0.  , 0.5 ],\n",
              "       [0.1 , 0.  ],\n",
              "       [0.  , 0.25],\n",
              "       [0.  , 0.5 ],\n",
              "       [0.  , 0.25],\n",
              "       [0.1 , 0.  ],\n",
              "       [0.  , 0.5 ],\n",
              "       [0.1 , 0.25],\n",
              "       [0.  , 0.25],\n",
              "       [0.3 , 0.75],\n",
              "       [0.2 , 0.75],\n",
              "       [0.  , 0.5 ],\n",
              "       [0.  , 1.  ],\n",
              "       [0.  , 0.25],\n",
              "       [0.1 , 0.  ],\n",
              "       [0.9 , 1.  ],\n",
              "       [0.  , 0.  ],\n",
              "       [0.  , 0.  ],\n",
              "       [0.  , 0.5 ],\n",
              "       [0.  , 0.75],\n",
              "       [0.  , 0.  ],\n",
              "       [0.  , 0.  ],\n",
              "       [0.  , 0.  ],\n",
              "       [0.  , 0.25],\n",
              "       [0.1 , 0.25],\n",
              "       [0.3 , 0.75],\n",
              "       [0.1 , 0.  ],\n",
              "       [0.  , 0.  ],\n",
              "       [0.  , 0.  ],\n",
              "       [0.  , 0.  ],\n",
              "       [0.  , 0.  ],\n",
              "       [0.  , 0.25],\n",
              "       [0.  , 0.  ],\n",
              "       [0.4 , 0.75],\n",
              "       [0.  , 0.  ],\n",
              "       [0.  , 0.5 ],\n",
              "       [0.  , 0.25],\n",
              "       [0.1 , 0.25],\n",
              "       [0.  , 0.25],\n",
              "       [0.3 , 0.75],\n",
              "       [0.  , 0.  ],\n",
              "       [0.  , 0.  ],\n",
              "       [0.1 , 0.5 ],\n",
              "       [0.9 , 1.  ],\n",
              "       [0.  , 0.25],\n",
              "       [0.3 , 0.75],\n",
              "       [0.  , 0.25],\n",
              "       [0.1 , 0.  ],\n",
              "       [0.  , 0.5 ],\n",
              "       [0.  , 0.25],\n",
              "       [0.  , 0.5 ],\n",
              "       [0.1 , 0.5 ],\n",
              "       [0.1 , 0.25],\n",
              "       [0.1 , 0.25],\n",
              "       [0.3 , 0.75],\n",
              "       [0.1 , 0.25],\n",
              "       [0.  , 0.25],\n",
              "       [0.  , 0.  ],\n",
              "       [0.  , 0.5 ],\n",
              "       [0.2 , 0.75],\n",
              "       [0.  , 0.5 ],\n",
              "       [0.  , 0.  ],\n",
              "       [0.  , 0.25],\n",
              "       [0.1 , 0.  ],\n",
              "       [0.1 , 0.25],\n",
              "       [0.  , 0.25],\n",
              "       [0.1 , 0.25],\n",
              "       [0.  , 1.  ],\n",
              "       [0.2 , 0.75],\n",
              "       [0.  , 0.  ],\n",
              "       [0.  , 0.25],\n",
              "       [0.  , 0.5 ],\n",
              "       [0.4 , 0.75],\n",
              "       [0.1 , 0.5 ],\n",
              "       [0.  , 0.75],\n",
              "       [0.  , 0.25],\n",
              "       [0.  , 0.25],\n",
              "       [0.  , 0.  ],\n",
              "       [0.  , 0.5 ],\n",
              "       [0.1 , 0.75],\n",
              "       [0.  , 0.25],\n",
              "       [0.  , 0.5 ],\n",
              "       [0.3 , 0.75],\n",
              "       [0.  , 0.  ],\n",
              "       [0.4 , 0.75],\n",
              "       [0.1 , 0.  ],\n",
              "       [0.1 , 0.25],\n",
              "       [0.  , 0.  ],\n",
              "       [0.2 , 0.75],\n",
              "       [0.  , 0.  ],\n",
              "       [0.  , 0.75],\n",
              "       [0.4 , 0.75],\n",
              "       [0.  , 0.25],\n",
              "       [0.  , 0.  ],\n",
              "       [0.3 , 0.75],\n",
              "       [0.  , 0.  ],\n",
              "       [0.3 , 0.75],\n",
              "       [0.  , 0.5 ],\n",
              "       [0.  , 0.25],\n",
              "       [0.1 , 0.75],\n",
              "       [0.4 , 0.75],\n",
              "       [0.1 , 0.25],\n",
              "       [0.1 , 0.5 ],\n",
              "       [0.  , 0.25],\n",
              "       [0.1 , 0.25],\n",
              "       [0.6 , 1.  ],\n",
              "       [0.1 , 0.25],\n",
              "       [0.6 , 1.  ],\n",
              "       [0.8 , 1.  ],\n",
              "       [0.  , 0.  ],\n",
              "       [0.  , 0.25],\n",
              "       [0.  , 0.25],\n",
              "       [0.1 , 0.  ],\n",
              "       [0.  , 0.5 ],\n",
              "       [0.  , 0.5 ],\n",
              "       [0.  , 0.5 ],\n",
              "       [0.2 , 0.75],\n",
              "       [0.  , 0.5 ],\n",
              "       [0.1 , 0.5 ],\n",
              "       [0.3 , 0.75],\n",
              "       [0.1 , 0.25],\n",
              "       [0.  , 0.  ],\n",
              "       [0.  , 0.  ],\n",
              "       [0.1 , 0.5 ],\n",
              "       [0.2 , 0.75],\n",
              "       [0.2 , 0.75],\n",
              "       [0.  , 0.5 ],\n",
              "       [0.  , 0.  ],\n",
              "       [0.7 , 1.  ],\n",
              "       [0.  , 0.  ],\n",
              "       [0.7 , 1.  ],\n",
              "       [0.  , 0.  ],\n",
              "       [0.1 , 0.25],\n",
              "       [0.1 , 0.  ],\n",
              "       [0.1 , 0.25],\n",
              "       [0.  , 0.25],\n",
              "       [0.  , 0.5 ],\n",
              "       [0.  , 0.25],\n",
              "       [0.5 , 1.  ],\n",
              "       [0.1 , 0.25],\n",
              "       [0.1 , 0.  ],\n",
              "       [0.  , 0.5 ],\n",
              "       [0.3 , 0.75],\n",
              "       [0.  , 0.25],\n",
              "       [0.  , 0.25],\n",
              "       [0.1 , 0.25],\n",
              "       [0.  , 0.25],\n",
              "       [0.  , 0.  ],\n",
              "       [0.  , 0.25],\n",
              "       [0.  , 0.  ],\n",
              "       [0.  , 0.25],\n",
              "       [0.1 , 0.25],\n",
              "       [0.2 , 0.75],\n",
              "       [0.  , 0.25],\n",
              "       [0.  , 0.  ],\n",
              "       [0.1 , 0.  ],\n",
              "       [0.  , 0.25],\n",
              "       [0.1 , 0.25],\n",
              "       [0.  , 0.25],\n",
              "       [0.8 , 1.  ],\n",
              "       [0.6 , 1.  ],\n",
              "       [0.  , 0.25],\n",
              "       [0.  , 0.5 ],\n",
              "       [0.3 , 0.75],\n",
              "       [0.  , 0.25],\n",
              "       [0.  , 0.25],\n",
              "       [0.2 , 0.75],\n",
              "       [0.  , 0.  ],\n",
              "       [0.6 , 1.  ],\n",
              "       [1.  , 1.  ],\n",
              "       [0.1 , 0.5 ],\n",
              "       [0.1 , 0.25],\n",
              "       [0.  , 0.25],\n",
              "       [0.1 , 0.25],\n",
              "       [0.6 , 1.  ],\n",
              "       [0.1 , 0.25],\n",
              "       [0.  , 0.25],\n",
              "       [0.  , 0.25],\n",
              "       [0.1 , 0.25],\n",
              "       [0.1 , 0.25],\n",
              "       [0.3 , 0.75],\n",
              "       [0.1 , 0.75],\n",
              "       [0.1 , 0.25],\n",
              "       [0.1 , 0.75],\n",
              "       [0.3 , 0.75],\n",
              "       [0.1 , 0.  ],\n",
              "       [0.4 , 0.75],\n",
              "       [0.1 , 0.5 ],\n",
              "       [0.1 , 0.25],\n",
              "       [0.  , 0.  ],\n",
              "       [0.  , 0.  ],\n",
              "       [0.  , 0.5 ],\n",
              "       [0.  , 0.75],\n",
              "       [0.  , 0.25],\n",
              "       [0.  , 0.5 ],\n",
              "       [0.9 , 1.  ]])"
            ]
          },
          "metadata": {},
          "execution_count": 496
        }
      ]
    },
    {
      "cell_type": "markdown",
      "source": [
        "## Categorical"
      ],
      "metadata": {
        "id": "U41zTMk7iIdb"
      }
    },
    {
      "cell_type": "code",
      "source": [
        "cat_pipeline = Pipeline([\n",
        "        ('ordinal_enc', OrdinalEncoder(categories=[['Low', 'Medium', 'High', 'Very High'], ['Low', 'Medium', 'High', 'Very High'], ['None', 'Few', 'Many'], \n",
        "                                                   ['None', 'Team ass', 'Individual ass', 'Final exam revision', 'Final exam'],])) #odor & fat\n",
        "    ])\n",
        "\n",
        "cat_tr = cat_pipeline.fit_transform(X_train[['stress_level', 'pressure_level', 'dandruff', 'school_assesssment']])\n",
        "cat_tr"
      ],
      "metadata": {
        "colab": {
          "base_uri": "https://localhost:8080/"
        },
        "id": "LZQTlt7DkU3Q",
        "outputId": "eb71d563-d4ae-462f-9d73-cc8ba3aca49c"
      },
      "execution_count": null,
      "outputs": [
        {
          "output_type": "execute_result",
          "data": {
            "text/plain": [
              "array([[0., 0., 0., 0.],\n",
              "       [0., 1., 0., 0.],\n",
              "       [1., 1., 1., 2.],\n",
              "       ...,\n",
              "       [0., 0., 0., 0.],\n",
              "       [1., 1., 0., 0.],\n",
              "       [3., 3., 2., 4.]])"
            ]
          },
          "metadata": {},
          "execution_count": 497
        }
      ]
    },
    {
      "cell_type": "markdown",
      "source": [
        "and then i want to set a full pipeline, combining the numerical and the categorical"
      ],
      "metadata": {
        "id": "c0HS_9twl8xV"
      }
    },
    {
      "cell_type": "code",
      "source": [
        "full_pipeline = ColumnTransformer([\n",
        "        (\"num\", num_pipeline, ['coffee_consumed', 'hair_grease']),\n",
        "        (\"cat_ord\", cat_pipeline, ['stress_level', 'pressure_level', 'dandruff', 'school_assesssment'])\n",
        "    ])\n",
        "\n",
        "train_tr = full_pipeline.fit_transform(X_train)\n",
        "train_tr"
      ],
      "metadata": {
        "colab": {
          "base_uri": "https://localhost:8080/"
        },
        "id": "2mQpWcsYkZrE",
        "outputId": "fa3f6552-4a20-4b48-cc46-32f1424bc0d3"
      },
      "execution_count": null,
      "outputs": [
        {
          "output_type": "execute_result",
          "data": {
            "text/plain": [
              "array([[0.  , 0.  , 0.  , 0.  , 0.  , 0.  ],\n",
              "       [0.  , 0.5 , 0.  , 1.  , 0.  , 0.  ],\n",
              "       [0.1 , 0.75, 1.  , 1.  , 1.  , 2.  ],\n",
              "       ...,\n",
              "       [0.  , 0.25, 0.  , 0.  , 0.  , 0.  ],\n",
              "       [0.  , 0.5 , 1.  , 1.  , 0.  , 0.  ],\n",
              "       [0.9 , 1.  , 3.  , 3.  , 2.  , 4.  ]])"
            ]
          },
          "metadata": {},
          "execution_count": 498
        }
      ]
    },
    {
      "cell_type": "markdown",
      "source": [
        "# Pipeline Oversampling"
      ],
      "metadata": {
        "id": "kblqQmgmmsD8"
      }
    },
    {
      "cell_type": "markdown",
      "source": [
        "Now in here i will make a pipeline to do both data preprocessing and oversampling with SMOTENC, because of the imbalanced data that i mention before on the target analysis."
      ],
      "metadata": {
        "id": "Ut5w-frGmRg6"
      }
    },
    {
      "cell_type": "code",
      "source": [
        "# imbalance pipeline\n",
        "final = imbpipe([\n",
        "            ('preprocess', full_pipeline),\n",
        "            ('over_sampl', SMOTENC([3, 4, 5], sampling_strategy='minority', random_state=0))\n",
        "])\n",
        "\n",
        "final"
      ],
      "metadata": {
        "colab": {
          "base_uri": "https://localhost:8080/"
        },
        "id": "Br74pwXKmxM3",
        "outputId": "be9b3a85-70a5-4898-8f56-2dc7f676a127"
      },
      "execution_count": null,
      "outputs": [
        {
          "output_type": "execute_result",
          "data": {
            "text/plain": [
              "Pipeline(steps=[('preprocess',\n",
              "                 ColumnTransformer(transformers=[('num',\n",
              "                                                  Pipeline(steps=[('scaler',\n",
              "                                                                   MinMaxScaler())]),\n",
              "                                                  ['coffee_consumed',\n",
              "                                                   'hair_grease']),\n",
              "                                                 ('cat_ord',\n",
              "                                                  Pipeline(steps=[('ordinal_enc',\n",
              "                                                                   OrdinalEncoder(categories=[['Low',\n",
              "                                                                                               'Medium',\n",
              "                                                                                               'High',\n",
              "                                                                                               'Very '\n",
              "                                                                                               'High'],\n",
              "                                                                                              ['Low',\n",
              "                                                                                               'Medium',\n",
              "                                                                                               'High',\n",
              "                                                                                               'Very '\n",
              "                                                                                               'High'],\n",
              "                                                                                              ['None',\n",
              "                                                                                               'Few',\n",
              "                                                                                               'Many'],\n",
              "                                                                                              ['None',\n",
              "                                                                                               'Team '\n",
              "                                                                                               'ass',\n",
              "                                                                                               'Individual '\n",
              "                                                                                               'ass',\n",
              "                                                                                               'Final '\n",
              "                                                                                               'exam '\n",
              "                                                                                               'revision',\n",
              "                                                                                               'Final '\n",
              "                                                                                               'exam']]))]),\n",
              "                                                  ['stress_level',\n",
              "                                                   'pressure_level', 'dandruff',\n",
              "                                                   'school_assesssment'])])),\n",
              "                ('over_sampl',\n",
              "                 SMOTENC(categorical_features=[3, 4, 5], random_state=0,\n",
              "                         sampling_strategy='minority'))])"
            ]
          },
          "metadata": {},
          "execution_count": 499
        }
      ]
    },
    {
      "cell_type": "code",
      "source": [
        "X_resampled, y_resampled = final.fit_resample(X_train, y_train)\n",
        "resampled = pd.concat([pd.DataFrame(X_resampled, columns=X_train.columns.tolist()), pd.DataFrame(y_resampled)], axis=1)\n",
        "resampled"
      ],
      "metadata": {
        "colab": {
          "base_uri": "https://localhost:8080/",
          "height": 424
        },
        "id": "GTvLpQYzm-1Y",
        "outputId": "b8750aa9-a769-4fb8-dcc6-f175f408e8c6"
      },
      "execution_count": null,
      "outputs": [
        {
          "output_type": "execute_result",
          "data": {
            "text/plain": [
              "     coffee_consumed  hair_grease  stress_level  pressure_level  dandruff  \\\n",
              "0           0.000000         0.00           0.0             0.0       0.0   \n",
              "1           0.000000         0.50           0.0             1.0       0.0   \n",
              "2           0.100000         0.75           1.0             1.0       1.0   \n",
              "3           0.000000         0.25           0.0             0.0       0.0   \n",
              "4           0.200000         0.75           2.0             2.0       1.0   \n",
              "..               ...          ...           ...             ...       ...   \n",
              "399         0.949868         1.00           3.0             3.0       2.0   \n",
              "400         0.700000         1.00           3.0             3.0       2.0   \n",
              "401         0.200000         0.75           3.0             2.0       1.0   \n",
              "402         0.900000         1.00           3.0             3.0       2.0   \n",
              "403         0.400000         0.75           2.0             2.0       1.0   \n",
              "\n",
              "     school_assesssment  hair_loss  \n",
              "0                   0.0        0.0  \n",
              "1                   0.0        0.0  \n",
              "2                   2.0        1.0  \n",
              "3                   0.0        0.0  \n",
              "4                   3.0        1.0  \n",
              "..                  ...        ...  \n",
              "399                 4.0        2.0  \n",
              "400                 1.0        2.0  \n",
              "401                 3.0        2.0  \n",
              "402                 4.0        2.0  \n",
              "403                 1.0        2.0  \n",
              "\n",
              "[404 rows x 7 columns]"
            ],
            "text/html": [
              "\n",
              "  <div id=\"df-d7f4910a-85d0-4446-a9c7-7c9140dc0a52\">\n",
              "    <div class=\"colab-df-container\">\n",
              "      <div>\n",
              "<style scoped>\n",
              "    .dataframe tbody tr th:only-of-type {\n",
              "        vertical-align: middle;\n",
              "    }\n",
              "\n",
              "    .dataframe tbody tr th {\n",
              "        vertical-align: top;\n",
              "    }\n",
              "\n",
              "    .dataframe thead th {\n",
              "        text-align: right;\n",
              "    }\n",
              "</style>\n",
              "<table border=\"1\" class=\"dataframe\">\n",
              "  <thead>\n",
              "    <tr style=\"text-align: right;\">\n",
              "      <th></th>\n",
              "      <th>coffee_consumed</th>\n",
              "      <th>hair_grease</th>\n",
              "      <th>stress_level</th>\n",
              "      <th>pressure_level</th>\n",
              "      <th>dandruff</th>\n",
              "      <th>school_assesssment</th>\n",
              "      <th>hair_loss</th>\n",
              "    </tr>\n",
              "  </thead>\n",
              "  <tbody>\n",
              "    <tr>\n",
              "      <th>0</th>\n",
              "      <td>0.000000</td>\n",
              "      <td>0.00</td>\n",
              "      <td>0.0</td>\n",
              "      <td>0.0</td>\n",
              "      <td>0.0</td>\n",
              "      <td>0.0</td>\n",
              "      <td>0.0</td>\n",
              "    </tr>\n",
              "    <tr>\n",
              "      <th>1</th>\n",
              "      <td>0.000000</td>\n",
              "      <td>0.50</td>\n",
              "      <td>0.0</td>\n",
              "      <td>1.0</td>\n",
              "      <td>0.0</td>\n",
              "      <td>0.0</td>\n",
              "      <td>0.0</td>\n",
              "    </tr>\n",
              "    <tr>\n",
              "      <th>2</th>\n",
              "      <td>0.100000</td>\n",
              "      <td>0.75</td>\n",
              "      <td>1.0</td>\n",
              "      <td>1.0</td>\n",
              "      <td>1.0</td>\n",
              "      <td>2.0</td>\n",
              "      <td>1.0</td>\n",
              "    </tr>\n",
              "    <tr>\n",
              "      <th>3</th>\n",
              "      <td>0.000000</td>\n",
              "      <td>0.25</td>\n",
              "      <td>0.0</td>\n",
              "      <td>0.0</td>\n",
              "      <td>0.0</td>\n",
              "      <td>0.0</td>\n",
              "      <td>0.0</td>\n",
              "    </tr>\n",
              "    <tr>\n",
              "      <th>4</th>\n",
              "      <td>0.200000</td>\n",
              "      <td>0.75</td>\n",
              "      <td>2.0</td>\n",
              "      <td>2.0</td>\n",
              "      <td>1.0</td>\n",
              "      <td>3.0</td>\n",
              "      <td>1.0</td>\n",
              "    </tr>\n",
              "    <tr>\n",
              "      <th>...</th>\n",
              "      <td>...</td>\n",
              "      <td>...</td>\n",
              "      <td>...</td>\n",
              "      <td>...</td>\n",
              "      <td>...</td>\n",
              "      <td>...</td>\n",
              "      <td>...</td>\n",
              "    </tr>\n",
              "    <tr>\n",
              "      <th>399</th>\n",
              "      <td>0.949868</td>\n",
              "      <td>1.00</td>\n",
              "      <td>3.0</td>\n",
              "      <td>3.0</td>\n",
              "      <td>2.0</td>\n",
              "      <td>4.0</td>\n",
              "      <td>2.0</td>\n",
              "    </tr>\n",
              "    <tr>\n",
              "      <th>400</th>\n",
              "      <td>0.700000</td>\n",
              "      <td>1.00</td>\n",
              "      <td>3.0</td>\n",
              "      <td>3.0</td>\n",
              "      <td>2.0</td>\n",
              "      <td>1.0</td>\n",
              "      <td>2.0</td>\n",
              "    </tr>\n",
              "    <tr>\n",
              "      <th>401</th>\n",
              "      <td>0.200000</td>\n",
              "      <td>0.75</td>\n",
              "      <td>3.0</td>\n",
              "      <td>2.0</td>\n",
              "      <td>1.0</td>\n",
              "      <td>3.0</td>\n",
              "      <td>2.0</td>\n",
              "    </tr>\n",
              "    <tr>\n",
              "      <th>402</th>\n",
              "      <td>0.900000</td>\n",
              "      <td>1.00</td>\n",
              "      <td>3.0</td>\n",
              "      <td>3.0</td>\n",
              "      <td>2.0</td>\n",
              "      <td>4.0</td>\n",
              "      <td>2.0</td>\n",
              "    </tr>\n",
              "    <tr>\n",
              "      <th>403</th>\n",
              "      <td>0.400000</td>\n",
              "      <td>0.75</td>\n",
              "      <td>2.0</td>\n",
              "      <td>2.0</td>\n",
              "      <td>1.0</td>\n",
              "      <td>1.0</td>\n",
              "      <td>2.0</td>\n",
              "    </tr>\n",
              "  </tbody>\n",
              "</table>\n",
              "<p>404 rows × 7 columns</p>\n",
              "</div>\n",
              "      <button class=\"colab-df-convert\" onclick=\"convertToInteractive('df-d7f4910a-85d0-4446-a9c7-7c9140dc0a52')\"\n",
              "              title=\"Convert this dataframe to an interactive table.\"\n",
              "              style=\"display:none;\">\n",
              "        \n",
              "  <svg xmlns=\"http://www.w3.org/2000/svg\" height=\"24px\"viewBox=\"0 0 24 24\"\n",
              "       width=\"24px\">\n",
              "    <path d=\"M0 0h24v24H0V0z\" fill=\"none\"/>\n",
              "    <path d=\"M18.56 5.44l.94 2.06.94-2.06 2.06-.94-2.06-.94-.94-2.06-.94 2.06-2.06.94zm-11 1L8.5 8.5l.94-2.06 2.06-.94-2.06-.94L8.5 2.5l-.94 2.06-2.06.94zm10 10l.94 2.06.94-2.06 2.06-.94-2.06-.94-.94-2.06-.94 2.06-2.06.94z\"/><path d=\"M17.41 7.96l-1.37-1.37c-.4-.4-.92-.59-1.43-.59-.52 0-1.04.2-1.43.59L10.3 9.45l-7.72 7.72c-.78.78-.78 2.05 0 2.83L4 21.41c.39.39.9.59 1.41.59.51 0 1.02-.2 1.41-.59l7.78-7.78 2.81-2.81c.8-.78.8-2.07 0-2.86zM5.41 20L4 18.59l7.72-7.72 1.47 1.35L5.41 20z\"/>\n",
              "  </svg>\n",
              "      </button>\n",
              "      \n",
              "  <style>\n",
              "    .colab-df-container {\n",
              "      display:flex;\n",
              "      flex-wrap:wrap;\n",
              "      gap: 12px;\n",
              "    }\n",
              "\n",
              "    .colab-df-convert {\n",
              "      background-color: #E8F0FE;\n",
              "      border: none;\n",
              "      border-radius: 50%;\n",
              "      cursor: pointer;\n",
              "      display: none;\n",
              "      fill: #1967D2;\n",
              "      height: 32px;\n",
              "      padding: 0 0 0 0;\n",
              "      width: 32px;\n",
              "    }\n",
              "\n",
              "    .colab-df-convert:hover {\n",
              "      background-color: #E2EBFA;\n",
              "      box-shadow: 0px 1px 2px rgba(60, 64, 67, 0.3), 0px 1px 3px 1px rgba(60, 64, 67, 0.15);\n",
              "      fill: #174EA6;\n",
              "    }\n",
              "\n",
              "    [theme=dark] .colab-df-convert {\n",
              "      background-color: #3B4455;\n",
              "      fill: #D2E3FC;\n",
              "    }\n",
              "\n",
              "    [theme=dark] .colab-df-convert:hover {\n",
              "      background-color: #434B5C;\n",
              "      box-shadow: 0px 1px 3px 1px rgba(0, 0, 0, 0.15);\n",
              "      filter: drop-shadow(0px 1px 2px rgba(0, 0, 0, 0.3));\n",
              "      fill: #FFFFFF;\n",
              "    }\n",
              "  </style>\n",
              "\n",
              "      <script>\n",
              "        const buttonEl =\n",
              "          document.querySelector('#df-d7f4910a-85d0-4446-a9c7-7c9140dc0a52 button.colab-df-convert');\n",
              "        buttonEl.style.display =\n",
              "          google.colab.kernel.accessAllowed ? 'block' : 'none';\n",
              "\n",
              "        async function convertToInteractive(key) {\n",
              "          const element = document.querySelector('#df-d7f4910a-85d0-4446-a9c7-7c9140dc0a52');\n",
              "          const dataTable =\n",
              "            await google.colab.kernel.invokeFunction('convertToInteractive',\n",
              "                                                     [key], {});\n",
              "          if (!dataTable) return;\n",
              "\n",
              "          const docLinkHtml = 'Like what you see? Visit the ' +\n",
              "            '<a target=\"_blank\" href=https://colab.research.google.com/notebooks/data_table.ipynb>data table notebook</a>'\n",
              "            + ' to learn more about interactive tables.';\n",
              "          element.innerHTML = '';\n",
              "          dataTable['output_type'] = 'display_data';\n",
              "          await google.colab.output.renderOutput(dataTable, element);\n",
              "          const docLink = document.createElement('div');\n",
              "          docLink.innerHTML = docLinkHtml;\n",
              "          element.appendChild(docLink);\n",
              "        }\n",
              "      </script>\n",
              "    </div>\n",
              "  </div>\n",
              "  "
            ]
          },
          "metadata": {},
          "execution_count": 501
        }
      ]
    },
    {
      "cell_type": "code",
      "source": [
        "sns.countplot(x='hair_loss', data = resampled)"
      ],
      "metadata": {
        "colab": {
          "base_uri": "https://localhost:8080/",
          "height": 299
        },
        "id": "pAeYiw_Cpi5z",
        "outputId": "c4c8b390-b5d1-431d-e427-82614b440abd"
      },
      "execution_count": null,
      "outputs": [
        {
          "output_type": "execute_result",
          "data": {
            "text/plain": [
              "<matplotlib.axes._subplots.AxesSubplot at 0x7f8a1855e810>"
            ]
          },
          "metadata": {},
          "execution_count": 502
        },
        {
          "output_type": "display_data",
          "data": {
            "text/plain": [
              "<Figure size 432x288 with 1 Axes>"
            ],
            "image/png": "[encoded data removed]"
          },
          "metadata": {
            "needs_background": "light"
          }
        }
      ]
    },
    {
      "cell_type": "markdown",
      "source": [
        "and the pipeline works."
      ],
      "metadata": {
        "id": "qxR2fT50mw3z"
      }
    },
    {
      "cell_type": "markdown",
      "source": [
        "# Model Definition"
      ],
      "metadata": {
        "id": "rPGuIbhgskPS"
      }
    },
    {
      "cell_type": "markdown",
      "source": [
        "On here i want to set 4 model and after it we will evaluate all the model with cross validation then i will use the best one."
      ],
      "metadata": {
        "id": "lPo4yWMOnALn"
      }
    },
    {
      "cell_type": "code",
      "source": [
        "tree = DecisionTreeClassifier()\n",
        "rf = RandomForestClassifier()\n",
        "knn = KNeighborsClassifier()\n",
        "ada = AdaBoostClassifier()"
      ],
      "metadata": {
        "id": "8uV8LIxxslYb"
      },
      "execution_count": null,
      "outputs": []
    },
    {
      "cell_type": "markdown",
      "source": [
        "# Model Training"
      ],
      "metadata": {
        "id": "RzLVIpkztMKG"
      }
    },
    {
      "cell_type": "markdown",
      "source": [
        "Train all the data"
      ],
      "metadata": {
        "id": "_NHATXcqnCsn"
      }
    },
    {
      "cell_type": "code",
      "source": [
        "for model in [tree, rf, knn, ada]:\n",
        "    model.fit(X_resampled, y_resampled)"
      ],
      "metadata": {
        "id": "Bn2hWCZOtKju"
      },
      "execution_count": null,
      "outputs": []
    },
    {
      "cell_type": "markdown",
      "source": [
        "# Model Evaluation"
      ],
      "metadata": {
        "id": "7vdrUOXUtyey"
      }
    },
    {
      "cell_type": "code",
      "source": [
        "cv_dt_model = cross_val_score(tree,X_resampled, y_resampled, cv=3, scoring=\"accuracy\")\n",
        "cv_rf_model = cross_val_score(rf,X_resampled, y_resampled, cv=3, scoring=\"accuracy\")\n",
        "cv_knn_model = cross_val_score(knn,X_resampled, y_resampled, cv=3, scoring=\"accuracy\")\n",
        "cv_adaboost_model = cross_val_score(ada,X_resampled, y_resampled, cv=3, scoring=\"accuracy\")"
      ],
      "metadata": {
        "id": "tGHkuQdXtzZh"
      },
      "execution_count": null,
      "outputs": []
    },
    {
      "cell_type": "code",
      "source": [
        "cvh=0 # cross validation highest. At this point it's not determined and thus I use 0.\n",
        "\n",
        "for cv,name in zip([cv_dt_model,cv_rf_model,cv_knn_model,cv_adaboost_model],\n",
        "['Decision Tree','Random Forest','KNN','Adaboost']):\n",
        "    print(name)\n",
        "    print('Accuracy - All - Cross Validation  : ', cv)\n",
        "    print('Accuracy - Mean - Cross Validation : ', cv.mean())\n",
        "    print('Accuracy - Std - Cross Validation  : ', cv.std())\n",
        "    print('Accuracy - Range of Test-Set       : ', (cv.mean()-cv.std()) , '-', (cv.mean()+cv.std()))\n",
        "    print('-'*50)\n",
        "    if cv.mean()>cvh:\n",
        "        cvh= cv.mean()\n",
        "        nameh=name # nameh is the name of the model that has the highest cross validation score\n",
        "    else:\n",
        "        continue\n",
        "        \n",
        "print ('best model:', nameh)\n",
        "print('cross-val mean:', cvh)"
      ],
      "metadata": {
        "colab": {
          "base_uri": "https://localhost:8080/"
        },
        "id": "yF-THEqCuM2P",
        "outputId": "b19aa778-310e-463a-d2b7-a79fe8971532"
      },
      "execution_count": null,
      "outputs": [
        {
          "output_type": "stream",
          "name": "stdout",
          "text": [
            "Decision Tree\n",
            "Accuracy - All - Cross Validation  :  [0.88888889 0.8962963  0.92537313]\n",
            "Accuracy - Mean - Cross Validation :  0.9035194398378478\n",
            "Accuracy - Std - Cross Validation  :  0.015746013109953758\n",
            "Accuracy - Range of Test-Set       :  0.887773426727894 - 0.9192654529478015\n",
            "--------------------------------------------------\n",
            "Random Forest\n",
            "Accuracy - All - Cross Validation  :  [0.88888889 0.92592593 0.92537313]\n",
            "Accuracy - Mean - Cross Validation :  0.9133959830477244\n",
            "Accuracy - Std - Cross Validation  :  0.017330601888376655\n",
            "Accuracy - Range of Test-Set       :  0.8960653811593478 - 0.930726584936101\n",
            "--------------------------------------------------\n",
            "KNN\n",
            "Accuracy - All - Cross Validation  :  [0.88148148 0.88148148 0.91044776]\n",
            "Accuracy - Mean - Cross Validation :  0.8911369080523309\n",
            "Accuracy - Std - Cross Validation  :  0.013654835206992805\n",
            "Accuracy - Range of Test-Set       :  0.8774820728453381 - 0.9047917432593238\n",
            "--------------------------------------------------\n",
            "Adaboost\n",
            "Accuracy - All - Cross Validation  :  [0.63703704 0.86666667 0.40298507]\n",
            "Accuracy - Mean - Cross Validation :  0.6355629261101898\n",
            "Accuracy - Std - Cross Validation  :  0.1893000870776514\n",
            "Accuracy - Range of Test-Set       :  0.44626283903253844 - 0.8248630131878412\n",
            "--------------------------------------------------\n",
            "best model: Random Forest\n",
            "cross-val mean: 0.9133959830477244\n"
          ]
        }
      ]
    },
    {
      "cell_type": "markdown",
      "source": [
        "Since the best model is Random Forest, thus we will use it for the pipeline combining it with oversampling and preprocess"
      ],
      "metadata": {
        "id": "SeLg_fGjnulp"
      }
    },
    {
      "cell_type": "markdown",
      "source": [
        "# Pipeline Preprocess + Oversampling + Model"
      ],
      "metadata": {
        "id": "bhh_lRtAvWn1"
      }
    },
    {
      "cell_type": "code",
      "source": [
        "num_pipeline = Pipeline([\n",
        "        ('scaler', MinMaxScaler())\n",
        "    ])\n",
        "\n",
        "cat_pipeline = Pipeline([\n",
        "        ('ordinal_enc', OrdinalEncoder(categories=[['Low', 'Medium', 'High', 'Very High'], ['Low', 'Medium', 'High', 'Very High'], ['None', 'Few', 'Many'], \n",
        "                                                   ['None', 'Team ass', 'Individual ass', 'Final exam revision', 'Final exam'],])) #odor & fat\n",
        "    ])\n",
        "\n",
        "\n",
        "full_pipeline = ColumnTransformer([\n",
        "        (\"num\", num_pipeline, ['coffee_consumed', 'hair_grease']),\n",
        "        (\"cat_ord\", cat_pipeline, ['stress_level', 'pressure_level', 'dandruff', 'school_assesssment'])\n",
        "    ])\n",
        "\n",
        "\n",
        "# preprocess + model\n",
        "full_imbhandling = imbpipe([\n",
        "            ('preprocess', full_pipeline),\n",
        "            ('over_sampl', SMOTENC([3, 4, 5], sampling_strategy='minority', random_state=0)),\n",
        "            ('random_forest', RandomForestClassifier(random_state=0))\n",
        "])\n",
        "\n",
        "\n",
        "full_imbhandling"
      ],
      "metadata": {
        "colab": {
          "base_uri": "https://localhost:8080/"
        },
        "id": "30Mlll--vbAY",
        "outputId": "6768fbbb-e21f-4bc9-81e8-11eae9a2d144"
      },
      "execution_count": null,
      "outputs": [
        {
          "output_type": "execute_result",
          "data": {
            "text/plain": [
              "Pipeline(steps=[('preprocess',\n",
              "                 ColumnTransformer(transformers=[('num',\n",
              "                                                  Pipeline(steps=[('scaler',\n",
              "                                                                   MinMaxScaler())]),\n",
              "                                                  ['coffee_consumed',\n",
              "                                                   'hair_grease']),\n",
              "                                                 ('cat_ord',\n",
              "                                                  Pipeline(steps=[('ordinal_enc',\n",
              "                                                                   OrdinalEncoder(categories=[['Low',\n",
              "                                                                                               'Medium',\n",
              "                                                                                               'High',\n",
              "                                                                                               'Very '\n",
              "                                                                                               'High'],\n",
              "                                                                                              ['Low',\n",
              "                                                                                               'Medium',\n",
              "                                                                                               'High',\n",
              "                                                                                               'Very '\n",
              "                                                                                               'High'],\n",
              "                                                                                              ['None',\n",
              "                                                                                               'Few',\n",
              "                                                                                               'Many'],\n",
              "                                                                                              ['None',\n",
              "                                                                                               'Team '\n",
              "                                                                                               'ass',\n",
              "                                                                                               'Individual '\n",
              "                                                                                               'ass',\n",
              "                                                                                               'Final '\n",
              "                                                                                               'exam '\n",
              "                                                                                               'revision',\n",
              "                                                                                               'Final '\n",
              "                                                                                               'exam']]))]),\n",
              "                                                  ['stress_level',\n",
              "                                                   'pressure_level', 'dandruff',\n",
              "                                                   'school_assesssment'])])),\n",
              "                ('over_sampl',\n",
              "                 SMOTENC(categorical_features=[3, 4, 5], random_state=0,\n",
              "                         sampling_strategy='minority')),\n",
              "                ('random_forest', RandomForestClassifier(random_state=0))])"
            ]
          },
          "metadata": {},
          "execution_count": 520
        }
      ]
    },
    {
      "cell_type": "code",
      "source": [
        "full_imbhandling.fit(X_train, y_train)\n",
        "\n",
        "# evaluate on test\n",
        "handled_pred = full_imbhandling.predict(X_test)\n",
        "\n",
        "print(classification_report(y_test, handled_pred))"
      ],
      "metadata": {
        "colab": {
          "base_uri": "https://localhost:8080/"
        },
        "id": "n15_QdQN9kIZ",
        "outputId": "4ac2b96a-de6d-4581-ea51-b98dcca52ea4"
      },
      "execution_count": null,
      "outputs": [
        {
          "output_type": "stream",
          "name": "stdout",
          "text": [
            "              precision    recall  f1-score   support\n",
            "\n",
            "         0.0       0.78      0.91      0.84        34\n",
            "         1.0       0.81      0.64      0.71        33\n",
            "         2.0       0.79      0.85      0.81        13\n",
            "\n",
            "    accuracy                           0.79        80\n",
            "   macro avg       0.79      0.80      0.79        80\n",
            "weighted avg       0.79      0.79      0.78        80\n",
            "\n"
          ]
        }
      ]
    },
    {
      "cell_type": "code",
      "source": [
        "cm = confusion_matrix(y_test, handled_pred)\n",
        "disp = ConfusionMatrixDisplay(confusion_matrix=cm)\n",
        "\n",
        "disp.plot()\n",
        "plt.show()"
      ],
      "metadata": {
        "colab": {
          "base_uri": "https://localhost:8080/",
          "height": 279
        },
        "id": "9H0lQ5RI_esN",
        "outputId": "54fd3950-7b8f-498f-ddc6-3958502093fa"
      },
      "execution_count": null,
      "outputs": [
        {
          "output_type": "display_data",
          "data": {
            "text/plain": [
              "<Figure size 432x288 with 2 Axes>"
            ],
            "image/png": "[encoded data removed]"
          },
          "metadata": {
            "needs_background": "light"
          }
        }
      ]
    },
    {
      "cell_type": "markdown",
      "source": [
        "The next step after this i want to improve my model with randomsearch cv for finding the best parameter in my model"
      ],
      "metadata": {
        "id": "mYHKVUiVtd6V"
      }
    },
    {
      "cell_type": "markdown",
      "source": [
        "# Model Improvement"
      ],
      "metadata": {
        "id": "qp0ufPTGCiTy"
      }
    },
    {
      "cell_type": "code",
      "source": [
        "# Define Hyperparameters\n",
        "n_estimators = [int(x) for x in np.linspace(start=200, stop=2000, num = 10)]\n",
        "max_features = ['auto', 'sqrt', 'log2']\n",
        "max_depth = [int(x) for x in np.linspace(10, 1000, 10)]\n",
        "min_samples_split = [2, 5, 10, 14]\n",
        "min_samples_leaf = [1, 2, 4, 6, 8]\n",
        "random_grid = {'n_estimators': n_estimators,\n",
        "               'max_features':max_features,\n",
        "               'max_depth':max_depth,\n",
        "               'min_samples_split':min_samples_split,\n",
        "               'min_samples_leaf':min_samples_leaf,\n",
        "               'criterion':['entropy','gini']}\n",
        "random_grid"
      ],
      "metadata": {
        "colab": {
          "base_uri": "https://localhost:8080/"
        },
        "id": "c1df_0KPCP4U",
        "outputId": "9c08eeed-1aff-4683-a7e7-c194dfbfc838"
      },
      "execution_count": null,
      "outputs": [
        {
          "output_type": "execute_result",
          "data": {
            "text/plain": [
              "{'n_estimators': [200, 400, 600, 800, 1000, 1200, 1400, 1600, 1800, 2000],\n",
              " 'max_features': ['auto', 'sqrt', 'log2'],\n",
              " 'max_depth': [10, 120, 230, 340, 450, 560, 670, 780, 890, 1000],\n",
              " 'min_samples_split': [2, 5, 10, 14],\n",
              " 'min_samples_leaf': [1, 2, 4, 6, 8],\n",
              " 'criterion': ['entropy', 'gini']}"
            ]
          },
          "metadata": {},
          "execution_count": 531
        }
      ]
    },
    {
      "cell_type": "code",
      "source": [
        "# Train with Random Search\n",
        "\n",
        "rf_randomcv = RandomizedSearchCV(estimator=RandomForestClassifier(), \n",
        "                                 param_distributions=random_grid,\n",
        "                                 n_iter=50,\n",
        "                                 cv=5, \n",
        "                                 random_state=46, \n",
        "                                 n_jobs=-1, \n",
        "                                 scoring='accuracy')\n",
        "rf_randomcv.fit(X_resampled, y_resampled)"
      ],
      "metadata": {
        "colab": {
          "base_uri": "https://localhost:8080/"
        },
        "id": "IJID1ePgC13y",
        "outputId": "6a2fe8cf-11fb-43be-9d49-b0b5109ea861"
      },
      "execution_count": null,
      "outputs": [
        {
          "output_type": "execute_result",
          "data": {
            "text/plain": [
              "RandomizedSearchCV(cv=5, estimator=RandomForestClassifier(), n_iter=50,\n",
              "                   n_jobs=-1,\n",
              "                   param_distributions={'criterion': ['entropy', 'gini'],\n",
              "                                        'max_depth': [10, 120, 230, 340, 450,\n",
              "                                                      560, 670, 780, 890,\n",
              "                                                      1000],\n",
              "                                        'max_features': ['auto', 'sqrt',\n",
              "                                                         'log2'],\n",
              "                                        'min_samples_leaf': [1, 2, 4, 6, 8],\n",
              "                                        'min_samples_split': [2, 5, 10, 14],\n",
              "                                        'n_estimators': [200, 400, 600, 800,\n",
              "                                                         1000, 1200, 1400, 1600,\n",
              "                                                         1800, 2000]},\n",
              "                   random_state=46, scoring='accuracy')"
            ]
          },
          "metadata": {},
          "execution_count": 534
        }
      ]
    },
    {
      "cell_type": "markdown",
      "source": [
        "Here are my best parameter"
      ],
      "metadata": {
        "id": "e6zN2Sx1tlii"
      }
    },
    {
      "cell_type": "code",
      "source": [
        "rf_randomcv.best_params_"
      ],
      "metadata": {
        "colab": {
          "base_uri": "https://localhost:8080/"
        },
        "id": "82NMcyD3DkCD",
        "outputId": "dade53b5-8a43-401d-f321-36cfeebcb04c"
      },
      "execution_count": null,
      "outputs": [
        {
          "output_type": "execute_result",
          "data": {
            "text/plain": [
              "{'n_estimators': 1800,\n",
              " 'min_samples_split': 2,\n",
              " 'min_samples_leaf': 1,\n",
              " 'max_features': 'log2',\n",
              " 'max_depth': 340,\n",
              " 'criterion': 'gini'}"
            ]
          },
          "metadata": {},
          "execution_count": 535
        }
      ]
    },
    {
      "cell_type": "code",
      "source": [
        "# Get Best Estimator\n",
        "\n",
        "rf_randomcv_best = rf_randomcv.best_estimator_"
      ],
      "metadata": {
        "id": "REmPQc-xDkvH"
      },
      "execution_count": null,
      "outputs": []
    },
    {
      "cell_type": "markdown",
      "source": [
        "# Pipeline after Model Improvement"
      ],
      "metadata": {
        "id": "7vJpclAfFGjc"
      }
    },
    {
      "cell_type": "code",
      "source": [
        "full_imbhandling_improve = imbpipe([\n",
        "            ('preprocess', full_pipeline),\n",
        "            ('over_sampl', SMOTENC([3, 4, 5], sampling_strategy='minority', random_state=0)),\n",
        "            ('random_forest', rf_randomcv_best)\n",
        "])\n",
        "\n",
        "\n",
        "full_imbhandling_improve"
      ],
      "metadata": {
        "colab": {
          "base_uri": "https://localhost:8080/"
        },
        "id": "_YIPcjzhFI3g",
        "outputId": "d4de510d-c59e-4316-f117-d75193dad9d5"
      },
      "execution_count": null,
      "outputs": [
        {
          "output_type": "execute_result",
          "data": {
            "text/plain": [
              "Pipeline(steps=[('preprocess',\n",
              "                 ColumnTransformer(transformers=[('num',\n",
              "                                                  Pipeline(steps=[('scaler',\n",
              "                                                                   MinMaxScaler())]),\n",
              "                                                  ['coffee_consumed',\n",
              "                                                   'hair_grease']),\n",
              "                                                 ('cat_ord',\n",
              "                                                  Pipeline(steps=[('ordinal_enc',\n",
              "                                                                   OrdinalEncoder(categories=[['Low',\n",
              "                                                                                               'Medium',\n",
              "                                                                                               'High',\n",
              "                                                                                               'Very '\n",
              "                                                                                               'High'],\n",
              "                                                                                              ['Low',\n",
              "                                                                                               'Medium',\n",
              "                                                                                               'High',\n",
              "                                                                                               'Very '\n",
              "                                                                                               'High'],\n",
              "                                                                                              ['None',\n",
              "                                                                                               'Few',\n",
              "                                                                                               'Many'],\n",
              "                                                                                              ['None',\n",
              "                                                                                               'Team '\n",
              "                                                                                               'ass',\n",
              "                                                                                               'Individual '\n",
              "                                                                                               'ass',\n",
              "                                                                                               'Final '\n",
              "                                                                                               'exam '\n",
              "                                                                                               'revision',\n",
              "                                                                                               'Final '\n",
              "                                                                                               'exam']]))]),\n",
              "                                                  ['stress_level',\n",
              "                                                   'pressure_level', 'dandruff',\n",
              "                                                   'school_assesssment'])])),\n",
              "                ('over_sampl',\n",
              "                 SMOTENC(categorical_features=[3, 4, 5], random_state=0,\n",
              "                         sampling_strategy='minority')),\n",
              "                ('random_forest',\n",
              "                 RandomForestClassifier(max_depth=340, max_features='log2',\n",
              "                                        n_estimators=1800))])"
            ]
          },
          "metadata": {},
          "execution_count": 538
        }
      ]
    },
    {
      "cell_type": "markdown",
      "source": [
        "## Before"
      ],
      "metadata": {
        "id": "VNqdsFo_ueKE"
      }
    },
    {
      "cell_type": "code",
      "source": [
        "y_pred_test = full_imbhandling.predict(X_test)\n",
        "\n",
        "print('Accuracy Score - Test Set   : ', accuracy_score(y_test, y_pred_test), '\\n')\n",
        "print('Classification Report : \\n', classification_report(y_test, y_pred_test), '\\n')\n",
        "print('Confusion Matrix      : \\n', ConfusionMatrixDisplay.from_estimator(full_imbhandling, X_test, y_test))"
      ],
      "metadata": {
        "colab": {
          "base_uri": "https://localhost:8080/",
          "height": 557
        },
        "id": "my5FXZtXF8TA",
        "outputId": "db8c19e9-21c6-4ae2-e9be-841e459b9044"
      },
      "execution_count": null,
      "outputs": [
        {
          "output_type": "stream",
          "name": "stdout",
          "text": [
            "Accuracy Score - Test Set   :  0.7875 \n",
            "\n",
            "Classification Report : \n",
            "               precision    recall  f1-score   support\n",
            "\n",
            "         0.0       0.78      0.91      0.84        34\n",
            "         1.0       0.81      0.64      0.71        33\n",
            "         2.0       0.79      0.85      0.81        13\n",
            "\n",
            "    accuracy                           0.79        80\n",
            "   macro avg       0.79      0.80      0.79        80\n",
            "weighted avg       0.79      0.79      0.78        80\n",
            " \n",
            "\n",
            "Confusion Matrix      : \n",
            " <sklearn.metrics._plot.confusion_matrix.ConfusionMatrixDisplay object at 0x7f8a18386750>\n"
          ]
        },
        {
          "output_type": "display_data",
          "data": {
            "text/plain": [
              "<Figure size 432x288 with 2 Axes>"
            ],
            "image/png": "[encoded data removed]"
          },
          "metadata": {
            "needs_background": "light"
          }
        }
      ]
    },
    {
      "cell_type": "markdown",
      "source": [
        "## After"
      ],
      "metadata": {
        "id": "8jc8s6Kmuhxl"
      }
    },
    {
      "cell_type": "code",
      "source": [
        "y_pred_test = full_imbhandling_improve.predict(X_test)\n",
        "\n",
        "print('Accuracy Score - Test Set   : ', accuracy_score(y_test, y_pred_test), '\\n')\n",
        "print('Classification Report : \\n', classification_report(y_test, y_pred_test), '\\n')\n",
        "print('Confusion Matrix      : \\n', ConfusionMatrixDisplay.from_estimator(full_imbhandling_improve, X_test, y_test, cmap='Reds'))"
      ],
      "metadata": {
        "colab": {
          "base_uri": "https://localhost:8080/",
          "height": 557
        },
        "id": "4t_DcoZuFOKn",
        "outputId": "9e461f3d-5415-4e2d-ab3c-5b66842200ca"
      },
      "execution_count": null,
      "outputs": [
        {
          "output_type": "stream",
          "name": "stdout",
          "text": [
            "Accuracy Score - Test Set   :  0.7875 \n",
            "\n",
            "Classification Report : \n",
            "               precision    recall  f1-score   support\n",
            "\n",
            "         0.0       0.78      0.91      0.84        34\n",
            "         1.0       0.81      0.64      0.71        33\n",
            "         2.0       0.79      0.85      0.81        13\n",
            "\n",
            "    accuracy                           0.79        80\n",
            "   macro avg       0.79      0.80      0.79        80\n",
            "weighted avg       0.79      0.79      0.78        80\n",
            " \n",
            "\n",
            "Confusion Matrix      : \n",
            " <sklearn.metrics._plot.confusion_matrix.ConfusionMatrixDisplay object at 0x7f8a18063110>\n"
          ]
        },
        {
          "output_type": "display_data",
          "data": {
            "text/plain": [
              "<Figure size 432x288 with 2 Axes>"
            ],
            "image/png": "[encoded data removed]"
          },
          "metadata": {
            "needs_background": "light"
          }
        }
      ]
    },
    {
      "cell_type": "markdown",
      "source": [
        "Strangely, i dont understand after the model improvement there are no changes on the accuracy nor the recall or precision. so it dont really matter which model that i used since both have the same accuracy"
      ],
      "metadata": {
        "id": "3XlGbTZqu477"
      }
    },
    {
      "cell_type": "markdown",
      "source": [
        "# Model Inference"
      ],
      "metadata": {
        "id": "M5NoWJbTIEcp"
      }
    },
    {
      "cell_type": "code",
      "source": [
        "inf = NewData.sample(20, random_state=10)\n",
        "inf.reset_index(drop=True, inplace=True)\n",
        "inf"
      ],
      "metadata": {
        "colab": {
          "base_uri": "https://localhost:8080/",
          "height": 206
        },
        "id": "pFK97-B7IMqW",
        "outputId": "1fa13656-d268-4805-aecb-9a29365d9e05"
      },
      "execution_count": null,
      "outputs": [
        {
          "output_type": "execute_result",
          "data": {
            "text/plain": [
              "   coffee_consumed  hair_grease stress_level pressure_level dandruff  \\\n",
              "0                2          4.0    Very High           High      Few   \n",
              "1                0          4.0         High         Medium      Few   \n",
              "2                0          2.0          Low            Low     None   \n",
              "3                3          4.0         High           High      Few   \n",
              "4                1          3.0          Low            Low     None   \n",
              "\n",
              "    school_assesssment  hair_loss  \n",
              "0  Final exam revision        2.0  \n",
              "1                 None        2.0  \n",
              "2                 None        0.0  \n",
              "3             Team ass        1.0  \n",
              "4                 None        1.0  "
            ],
            "text/html": [
              "\n",
              "  <div id=\"df-b68c0bb9-46b0-4a5f-905f-73997a042b24\">\n",
              "    <div class=\"colab-df-container\">\n",
              "      <div>\n",
              "<style scoped>\n",
              "    .dataframe tbody tr th:only-of-type {\n",
              "        vertical-align: middle;\n",
              "    }\n",
              "\n",
              "    .dataframe tbody tr th {\n",
              "        vertical-align: top;\n",
              "    }\n",
              "\n",
              "    .dataframe thead th {\n",
              "        text-align: right;\n",
              "    }\n",
              "</style>\n",
              "<table border=\"1\" class=\"dataframe\">\n",
              "  <thead>\n",
              "    <tr style=\"text-align: right;\">\n",
              "      <th></th>\n",
              "      <th>coffee_consumed</th>\n",
              "      <th>hair_grease</th>\n",
              "      <th>stress_level</th>\n",
              "      <th>pressure_level</th>\n",
              "      <th>dandruff</th>\n",
              "      <th>school_assesssment</th>\n",
              "      <th>hair_loss</th>\n",
              "    </tr>\n",
              "  </thead>\n",
              "  <tbody>\n",
              "    <tr>\n",
              "      <th>0</th>\n",
              "      <td>2</td>\n",
              "      <td>4.0</td>\n",
              "      <td>Very High</td>\n",
              "      <td>High</td>\n",
              "      <td>Few</td>\n",
              "      <td>Final exam revision</td>\n",
              "      <td>2.0</td>\n",
              "    </tr>\n",
              "    <tr>\n",
              "      <th>1</th>\n",
              "      <td>0</td>\n",
              "      <td>4.0</td>\n",
              "      <td>High</td>\n",
              "      <td>Medium</td>\n",
              "      <td>Few</td>\n",
              "      <td>None</td>\n",
              "      <td>2.0</td>\n",
              "    </tr>\n",
              "    <tr>\n",
              "      <th>2</th>\n",
              "      <td>0</td>\n",
              "      <td>2.0</td>\n",
              "      <td>Low</td>\n",
              "      <td>Low</td>\n",
              "      <td>None</td>\n",
              "      <td>None</td>\n",
              "      <td>0.0</td>\n",
              "    </tr>\n",
              "    <tr>\n",
              "      <th>3</th>\n",
              "      <td>3</td>\n",
              "      <td>4.0</td>\n",
              "      <td>High</td>\n",
              "      <td>High</td>\n",
              "      <td>Few</td>\n",
              "      <td>Team ass</td>\n",
              "      <td>1.0</td>\n",
              "    </tr>\n",
              "    <tr>\n",
              "      <th>4</th>\n",
              "      <td>1</td>\n",
              "      <td>3.0</td>\n",
              "      <td>Low</td>\n",
              "      <td>Low</td>\n",
              "      <td>None</td>\n",
              "      <td>None</td>\n",
              "      <td>1.0</td>\n",
              "    </tr>\n",
              "  </tbody>\n",
              "</table>\n",
              "</div>\n",
              "      <button class=\"colab-df-convert\" onclick=\"convertToInteractive('df-b68c0bb9-46b0-4a5f-905f-73997a042b24')\"\n",
              "              title=\"Convert this dataframe to an interactive table.\"\n",
              "              style=\"display:none;\">\n",
              "        \n",
              "  <svg xmlns=\"http://www.w3.org/2000/svg\" height=\"24px\"viewBox=\"0 0 24 24\"\n",
              "       width=\"24px\">\n",
              "    <path d=\"M0 0h24v24H0V0z\" fill=\"none\"/>\n",
              "    <path d=\"M18.56 5.44l.94 2.06.94-2.06 2.06-.94-2.06-.94-.94-2.06-.94 2.06-2.06.94zm-11 1L8.5 8.5l.94-2.06 2.06-.94-2.06-.94L8.5 2.5l-.94 2.06-2.06.94zm10 10l.94 2.06.94-2.06 2.06-.94-2.06-.94-.94-2.06-.94 2.06-2.06.94z\"/><path d=\"M17.41 7.96l-1.37-1.37c-.4-.4-.92-.59-1.43-.59-.52 0-1.04.2-1.43.59L10.3 9.45l-7.72 7.72c-.78.78-.78 2.05 0 2.83L4 21.41c.39.39.9.59 1.41.59.51 0 1.02-.2 1.41-.59l7.78-7.78 2.81-2.81c.8-.78.8-2.07 0-2.86zM5.41 20L4 18.59l7.72-7.72 1.47 1.35L5.41 20z\"/>\n",
              "  </svg>\n",
              "      </button>\n",
              "      \n",
              "  <style>\n",
              "    .colab-df-container {\n",
              "      display:flex;\n",
              "      flex-wrap:wrap;\n",
              "      gap: 12px;\n",
              "    }\n",
              "\n",
              "    .colab-df-convert {\n",
              "      background-color: #E8F0FE;\n",
              "      border: none;\n",
              "      border-radius: 50%;\n",
              "      cursor: pointer;\n",
              "      display: none;\n",
              "      fill: #1967D2;\n",
              "      height: 32px;\n",
              "      padding: 0 0 0 0;\n",
              "      width: 32px;\n",
              "    }\n",
              "\n",
              "    .colab-df-convert:hover {\n",
              "      background-color: #E2EBFA;\n",
              "      box-shadow: 0px 1px 2px rgba(60, 64, 67, 0.3), 0px 1px 3px 1px rgba(60, 64, 67, 0.15);\n",
              "      fill: #174EA6;\n",
              "    }\n",
              "\n",
              "    [theme=dark] .colab-df-convert {\n",
              "      background-color: #3B4455;\n",
              "      fill: #D2E3FC;\n",
              "    }\n",
              "\n",
              "    [theme=dark] .colab-df-convert:hover {\n",
              "      background-color: #434B5C;\n",
              "      box-shadow: 0px 1px 3px 1px rgba(0, 0, 0, 0.15);\n",
              "      filter: drop-shadow(0px 1px 2px rgba(0, 0, 0, 0.3));\n",
              "      fill: #FFFFFF;\n",
              "    }\n",
              "  </style>\n",
              "\n",
              "      <script>\n",
              "        const buttonEl =\n",
              "          document.querySelector('#df-b68c0bb9-46b0-4a5f-905f-73997a042b24 button.colab-df-convert');\n",
              "        buttonEl.style.display =\n",
              "          google.colab.kernel.accessAllowed ? 'block' : 'none';\n",
              "\n",
              "        async function convertToInteractive(key) {\n",
              "          const element = document.querySelector('#df-b68c0bb9-46b0-4a5f-905f-73997a042b24');\n",
              "          const dataTable =\n",
              "            await google.colab.kernel.invokeFunction('convertToInteractive',\n",
              "                                                     [key], {});\n",
              "          if (!dataTable) return;\n",
              "\n",
              "          const docLinkHtml = 'Like what you see? Visit the ' +\n",
              "            '<a target=\"_blank\" href=https://colab.research.google.com/notebooks/data_table.ipynb>data table notebook</a>'\n",
              "            + ' to learn more about interactive tables.';\n",
              "          element.innerHTML = '';\n",
              "          dataTable['output_type'] = 'display_data';\n",
              "          await google.colab.output.renderOutput(dataTable, element);\n",
              "          const docLink = document.createElement('div');\n",
              "          docLink.innerHTML = docLinkHtml;\n",
              "          element.appendChild(docLink);\n",
              "        }\n",
              "      </script>\n",
              "    </div>\n",
              "  </div>\n",
              "  "
            ]
          },
          "metadata": {},
          "execution_count": 548
        }
      ]
    },
    {
      "cell_type": "code",
      "source": [
        "inf_final = inf.drop('hair_loss', axis=1)\n",
        "inf_final.head()"
      ],
      "metadata": {
        "colab": {
          "base_uri": "https://localhost:8080/",
          "height": 206
        },
        "id": "7wM-P1LHIeff",
        "outputId": "fe56aa7a-461e-49e3-e620-cb18b2e94679"
      },
      "execution_count": null,
      "outputs": [
        {
          "output_type": "execute_result",
          "data": {
            "text/plain": [
              "   coffee_consumed  hair_grease stress_level pressure_level dandruff  \\\n",
              "0                2          4.0    Very High           High      Few   \n",
              "1                0          4.0         High         Medium      Few   \n",
              "2                0          2.0          Low            Low     None   \n",
              "3                3          4.0         High           High      Few   \n",
              "4                1          3.0          Low            Low     None   \n",
              "\n",
              "    school_assesssment  \n",
              "0  Final exam revision  \n",
              "1                 None  \n",
              "2                 None  \n",
              "3             Team ass  \n",
              "4                 None  "
            ],
            "text/html": [
              "\n",
              "  <div id=\"df-290b6093-d81d-4f87-8220-5f469a311a85\">\n",
              "    <div class=\"colab-df-container\">\n",
              "      <div>\n",
              "<style scoped>\n",
              "    .dataframe tbody tr th:only-of-type {\n",
              "        vertical-align: middle;\n",
              "    }\n",
              "\n",
              "    .dataframe tbody tr th {\n",
              "        vertical-align: top;\n",
              "    }\n",
              "\n",
              "    .dataframe thead th {\n",
              "        text-align: right;\n",
              "    }\n",
              "</style>\n",
              "<table border=\"1\" class=\"dataframe\">\n",
              "  <thead>\n",
              "    <tr style=\"text-align: right;\">\n",
              "      <th></th>\n",
              "      <th>coffee_consumed</th>\n",
              "      <th>hair_grease</th>\n",
              "      <th>stress_level</th>\n",
              "      <th>pressure_level</th>\n",
              "      <th>dandruff</th>\n",
              "      <th>school_assesssment</th>\n",
              "    </tr>\n",
              "  </thead>\n",
              "  <tbody>\n",
              "    <tr>\n",
              "      <th>0</th>\n",
              "      <td>2</td>\n",
              "      <td>4.0</td>\n",
              "      <td>Very High</td>\n",
              "      <td>High</td>\n",
              "      <td>Few</td>\n",
              "      <td>Final exam revision</td>\n",
              "    </tr>\n",
              "    <tr>\n",
              "      <th>1</th>\n",
              "      <td>0</td>\n",
              "      <td>4.0</td>\n",
              "      <td>High</td>\n",
              "      <td>Medium</td>\n",
              "      <td>Few</td>\n",
              "      <td>None</td>\n",
              "    </tr>\n",
              "    <tr>\n",
              "      <th>2</th>\n",
              "      <td>0</td>\n",
              "      <td>2.0</td>\n",
              "      <td>Low</td>\n",
              "      <td>Low</td>\n",
              "      <td>None</td>\n",
              "      <td>None</td>\n",
              "    </tr>\n",
              "    <tr>\n",
              "      <th>3</th>\n",
              "      <td>3</td>\n",
              "      <td>4.0</td>\n",
              "      <td>High</td>\n",
              "      <td>High</td>\n",
              "      <td>Few</td>\n",
              "      <td>Team ass</td>\n",
              "    </tr>\n",
              "    <tr>\n",
              "      <th>4</th>\n",
              "      <td>1</td>\n",
              "      <td>3.0</td>\n",
              "      <td>Low</td>\n",
              "      <td>Low</td>\n",
              "      <td>None</td>\n",
              "      <td>None</td>\n",
              "    </tr>\n",
              "  </tbody>\n",
              "</table>\n",
              "</div>\n",
              "      <button class=\"colab-df-convert\" onclick=\"convertToInteractive('df-290b6093-d81d-4f87-8220-5f469a311a85')\"\n",
              "              title=\"Convert this dataframe to an interactive table.\"\n",
              "              style=\"display:none;\">\n",
              "        \n",
              "  <svg xmlns=\"http://www.w3.org/2000/svg\" height=\"24px\"viewBox=\"0 0 24 24\"\n",
              "       width=\"24px\">\n",
              "    <path d=\"M0 0h24v24H0V0z\" fill=\"none\"/>\n",
              "    <path d=\"M18.56 5.44l.94 2.06.94-2.06 2.06-.94-2.06-.94-.94-2.06-.94 2.06-2.06.94zm-11 1L8.5 8.5l.94-2.06 2.06-.94-2.06-.94L8.5 2.5l-.94 2.06-2.06.94zm10 10l.94 2.06.94-2.06 2.06-.94-2.06-.94-.94-2.06-.94 2.06-2.06.94z\"/><path d=\"M17.41 7.96l-1.37-1.37c-.4-.4-.92-.59-1.43-.59-.52 0-1.04.2-1.43.59L10.3 9.45l-7.72 7.72c-.78.78-.78 2.05 0 2.83L4 21.41c.39.39.9.59 1.41.59.51 0 1.02-.2 1.41-.59l7.78-7.78 2.81-2.81c.8-.78.8-2.07 0-2.86zM5.41 20L4 18.59l7.72-7.72 1.47 1.35L5.41 20z\"/>\n",
              "  </svg>\n",
              "      </button>\n",
              "      \n",
              "  <style>\n",
              "    .colab-df-container {\n",
              "      display:flex;\n",
              "      flex-wrap:wrap;\n",
              "      gap: 12px;\n",
              "    }\n",
              "\n",
              "    .colab-df-convert {\n",
              "      background-color: #E8F0FE;\n",
              "      border: none;\n",
              "      border-radius: 50%;\n",
              "      cursor: pointer;\n",
              "      display: none;\n",
              "      fill: #1967D2;\n",
              "      height: 32px;\n",
              "      padding: 0 0 0 0;\n",
              "      width: 32px;\n",
              "    }\n",
              "\n",
              "    .colab-df-convert:hover {\n",
              "      background-color: #E2EBFA;\n",
              "      box-shadow: 0px 1px 2px rgba(60, 64, 67, 0.3), 0px 1px 3px 1px rgba(60, 64, 67, 0.15);\n",
              "      fill: #174EA6;\n",
              "    }\n",
              "\n",
              "    [theme=dark] .colab-df-convert {\n",
              "      background-color: #3B4455;\n",
              "      fill: #D2E3FC;\n",
              "    }\n",
              "\n",
              "    [theme=dark] .colab-df-convert:hover {\n",
              "      background-color: #434B5C;\n",
              "      box-shadow: 0px 1px 3px 1px rgba(0, 0, 0, 0.15);\n",
              "      filter: drop-shadow(0px 1px 2px rgba(0, 0, 0, 0.3));\n",
              "      fill: #FFFFFF;\n",
              "    }\n",
              "  </style>\n",
              "\n",
              "      <script>\n",
              "        const buttonEl =\n",
              "          document.querySelector('#df-290b6093-d81d-4f87-8220-5f469a311a85 button.colab-df-convert');\n",
              "        buttonEl.style.display =\n",
              "          google.colab.kernel.accessAllowed ? 'block' : 'none';\n",
              "\n",
              "        async function convertToInteractive(key) {\n",
              "          const element = document.querySelector('#df-290b6093-d81d-4f87-8220-5f469a311a85');\n",
              "          const dataTable =\n",
              "            await google.colab.kernel.invokeFunction('convertToInteractive',\n",
              "                                                     [key], {});\n",
              "          if (!dataTable) return;\n",
              "\n",
              "          const docLinkHtml = 'Like what you see? Visit the ' +\n",
              "            '<a target=\"_blank\" href=https://colab.research.google.com/notebooks/data_table.ipynb>data table notebook</a>'\n",
              "            + ' to learn more about interactive tables.';\n",
              "          element.innerHTML = '';\n",
              "          dataTable['output_type'] = 'display_data';\n",
              "          await google.colab.output.renderOutput(dataTable, element);\n",
              "          const docLink = document.createElement('div');\n",
              "          docLink.innerHTML = docLinkHtml;\n",
              "          element.appendChild(docLink);\n",
              "        }\n",
              "      </script>\n",
              "    </div>\n",
              "  </div>\n",
              "  "
            ]
          },
          "metadata": {},
          "execution_count": 549
        }
      ]
    },
    {
      "cell_type": "markdown",
      "source": [
        "Apply Pipeline"
      ],
      "metadata": {
        "id": "GKmavvueIXOJ"
      }
    },
    {
      "cell_type": "code",
      "source": [
        "y_pred_inf = full_imbhandling_improve.predict(inf_final)\n",
        "y_pred_inf_df = pd.DataFrame(y_pred_inf, columns=['Predicted Class'])\n",
        "y_pred_inf_df.head()"
      ],
      "metadata": {
        "colab": {
          "base_uri": "https://localhost:8080/",
          "height": 206
        },
        "id": "X6LZCRa1InbT",
        "outputId": "252d5b18-28df-4ddf-d15b-6703e8bb1fb1"
      },
      "execution_count": null,
      "outputs": [
        {
          "output_type": "execute_result",
          "data": {
            "text/plain": [
              "   Predicted Class\n",
              "0              2.0\n",
              "1              2.0\n",
              "2              0.0\n",
              "3              2.0\n",
              "4              1.0"
            ],
            "text/html": [
              "\n",
              "  <div id=\"df-d9b60d2c-d886-4af9-a83f-48995a3a11da\">\n",
              "    <div class=\"colab-df-container\">\n",
              "      <div>\n",
              "<style scoped>\n",
              "    .dataframe tbody tr th:only-of-type {\n",
              "        vertical-align: middle;\n",
              "    }\n",
              "\n",
              "    .dataframe tbody tr th {\n",
              "        vertical-align: top;\n",
              "    }\n",
              "\n",
              "    .dataframe thead th {\n",
              "        text-align: right;\n",
              "    }\n",
              "</style>\n",
              "<table border=\"1\" class=\"dataframe\">\n",
              "  <thead>\n",
              "    <tr style=\"text-align: right;\">\n",
              "      <th></th>\n",
              "      <th>Predicted Class</th>\n",
              "    </tr>\n",
              "  </thead>\n",
              "  <tbody>\n",
              "    <tr>\n",
              "      <th>0</th>\n",
              "      <td>2.0</td>\n",
              "    </tr>\n",
              "    <tr>\n",
              "      <th>1</th>\n",
              "      <td>2.0</td>\n",
              "    </tr>\n",
              "    <tr>\n",
              "      <th>2</th>\n",
              "      <td>0.0</td>\n",
              "    </tr>\n",
              "    <tr>\n",
              "      <th>3</th>\n",
              "      <td>2.0</td>\n",
              "    </tr>\n",
              "    <tr>\n",
              "      <th>4</th>\n",
              "      <td>1.0</td>\n",
              "    </tr>\n",
              "  </tbody>\n",
              "</table>\n",
              "</div>\n",
              "      <button class=\"colab-df-convert\" onclick=\"convertToInteractive('df-d9b60d2c-d886-4af9-a83f-48995a3a11da')\"\n",
              "              title=\"Convert this dataframe to an interactive table.\"\n",
              "              style=\"display:none;\">\n",
              "        \n",
              "  <svg xmlns=\"http://www.w3.org/2000/svg\" height=\"24px\"viewBox=\"0 0 24 24\"\n",
              "       width=\"24px\">\n",
              "    <path d=\"M0 0h24v24H0V0z\" fill=\"none\"/>\n",
              "    <path d=\"M18.56 5.44l.94 2.06.94-2.06 2.06-.94-2.06-.94-.94-2.06-.94 2.06-2.06.94zm-11 1L8.5 8.5l.94-2.06 2.06-.94-2.06-.94L8.5 2.5l-.94 2.06-2.06.94zm10 10l.94 2.06.94-2.06 2.06-.94-2.06-.94-.94-2.06-.94 2.06-2.06.94z\"/><path d=\"M17.41 7.96l-1.37-1.37c-.4-.4-.92-.59-1.43-.59-.52 0-1.04.2-1.43.59L10.3 9.45l-7.72 7.72c-.78.78-.78 2.05 0 2.83L4 21.41c.39.39.9.59 1.41.59.51 0 1.02-.2 1.41-.59l7.78-7.78 2.81-2.81c.8-.78.8-2.07 0-2.86zM5.41 20L4 18.59l7.72-7.72 1.47 1.35L5.41 20z\"/>\n",
              "  </svg>\n",
              "      </button>\n",
              "      \n",
              "  <style>\n",
              "    .colab-df-container {\n",
              "      display:flex;\n",
              "      flex-wrap:wrap;\n",
              "      gap: 12px;\n",
              "    }\n",
              "\n",
              "    .colab-df-convert {\n",
              "      background-color: #E8F0FE;\n",
              "      border: none;\n",
              "      border-radius: 50%;\n",
              "      cursor: pointer;\n",
              "      display: none;\n",
              "      fill: #1967D2;\n",
              "      height: 32px;\n",
              "      padding: 0 0 0 0;\n",
              "      width: 32px;\n",
              "    }\n",
              "\n",
              "    .colab-df-convert:hover {\n",
              "      background-color: #E2EBFA;\n",
              "      box-shadow: 0px 1px 2px rgba(60, 64, 67, 0.3), 0px 1px 3px 1px rgba(60, 64, 67, 0.15);\n",
              "      fill: #174EA6;\n",
              "    }\n",
              "\n",
              "    [theme=dark] .colab-df-convert {\n",
              "      background-color: #3B4455;\n",
              "      fill: #D2E3FC;\n",
              "    }\n",
              "\n",
              "    [theme=dark] .colab-df-convert:hover {\n",
              "      background-color: #434B5C;\n",
              "      box-shadow: 0px 1px 3px 1px rgba(0, 0, 0, 0.15);\n",
              "      filter: drop-shadow(0px 1px 2px rgba(0, 0, 0, 0.3));\n",
              "      fill: #FFFFFF;\n",
              "    }\n",
              "  </style>\n",
              "\n",
              "      <script>\n",
              "        const buttonEl =\n",
              "          document.querySelector('#df-d9b60d2c-d886-4af9-a83f-48995a3a11da button.colab-df-convert');\n",
              "        buttonEl.style.display =\n",
              "          google.colab.kernel.accessAllowed ? 'block' : 'none';\n",
              "\n",
              "        async function convertToInteractive(key) {\n",
              "          const element = document.querySelector('#df-d9b60d2c-d886-4af9-a83f-48995a3a11da');\n",
              "          const dataTable =\n",
              "            await google.colab.kernel.invokeFunction('convertToInteractive',\n",
              "                                                     [key], {});\n",
              "          if (!dataTable) return;\n",
              "\n",
              "          const docLinkHtml = 'Like what you see? Visit the ' +\n",
              "            '<a target=\"_blank\" href=https://colab.research.google.com/notebooks/data_table.ipynb>data table notebook</a>'\n",
              "            + ' to learn more about interactive tables.';\n",
              "          element.innerHTML = '';\n",
              "          dataTable['output_type'] = 'display_data';\n",
              "          await google.colab.output.renderOutput(dataTable, element);\n",
              "          const docLink = document.createElement('div');\n",
              "          docLink.innerHTML = docLinkHtml;\n",
              "          element.appendChild(docLink);\n",
              "        }\n",
              "      </script>\n",
              "    </div>\n",
              "  </div>\n",
              "  "
            ]
          },
          "metadata": {},
          "execution_count": 550
        }
      ]
    },
    {
      "cell_type": "code",
      "source": [
        "y_pred_inf_df['Real Data'] = inf['hair_loss']\n",
        "y_pred_inf_df"
      ],
      "metadata": {
        "colab": {
          "base_uri": "https://localhost:8080/",
          "height": 676
        },
        "id": "0YbZc_2OIWw1",
        "outputId": "2f5bf8b0-c9e5-4e23-ffd5-86d37436f8cb"
      },
      "execution_count": null,
      "outputs": [
        {
          "output_type": "execute_result",
          "data": {
            "text/plain": [
              "    Predicted Class  Real Data\n",
              "0               2.0        2.0\n",
              "1               2.0        2.0\n",
              "2               0.0        0.0\n",
              "3               2.0        1.0\n",
              "4               1.0        1.0\n",
              "5               1.0        1.0\n",
              "6               1.0        1.0\n",
              "7               2.0        2.0\n",
              "8               1.0        0.0\n",
              "9               2.0        2.0\n",
              "10              1.0        1.0\n",
              "11              0.0        0.0\n",
              "12              0.0        0.0\n",
              "13              1.0        1.0\n",
              "14              0.0        0.0\n",
              "15              0.0        0.0\n",
              "16              0.0        0.0\n",
              "17              0.0        0.0\n",
              "18              0.0        0.0\n",
              "19              0.0        0.0"
            ],
            "text/html": [
              "\n",
              "  <div id=\"df-d3c65bc7-b475-4804-beff-69077c808a2b\">\n",
              "    <div class=\"colab-df-container\">\n",
              "      <div>\n",
              "<style scoped>\n",
              "    .dataframe tbody tr th:only-of-type {\n",
              "        vertical-align: middle;\n",
              "    }\n",
              "\n",
              "    .dataframe tbody tr th {\n",
              "        vertical-align: top;\n",
              "    }\n",
              "\n",
              "    .dataframe thead th {\n",
              "        text-align: right;\n",
              "    }\n",
              "</style>\n",
              "<table border=\"1\" class=\"dataframe\">\n",
              "  <thead>\n",
              "    <tr style=\"text-align: right;\">\n",
              "      <th></th>\n",
              "      <th>Predicted Class</th>\n",
              "      <th>Real Data</th>\n",
              "    </tr>\n",
              "  </thead>\n",
              "  <tbody>\n",
              "    <tr>\n",
              "      <th>0</th>\n",
              "      <td>2.0</td>\n",
              "      <td>2.0</td>\n",
              "    </tr>\n",
              "    <tr>\n",
              "      <th>1</th>\n",
              "      <td>2.0</td>\n",
              "      <td>2.0</td>\n",
              "    </tr>\n",
              "    <tr>\n",
              "      <th>2</th>\n",
              "      <td>0.0</td>\n",
              "      <td>0.0</td>\n",
              "    </tr>\n",
              "    <tr>\n",
              "      <th>3</th>\n",
              "      <td>2.0</td>\n",
              "      <td>1.0</td>\n",
              "    </tr>\n",
              "    <tr>\n",
              "      <th>4</th>\n",
              "      <td>1.0</td>\n",
              "      <td>1.0</td>\n",
              "    </tr>\n",
              "    <tr>\n",
              "      <th>5</th>\n",
              "      <td>1.0</td>\n",
              "      <td>1.0</td>\n",
              "    </tr>\n",
              "    <tr>\n",
              "      <th>6</th>\n",
              "      <td>1.0</td>\n",
              "      <td>1.0</td>\n",
              "    </tr>\n",
              "    <tr>\n",
              "      <th>7</th>\n",
              "      <td>2.0</td>\n",
              "      <td>2.0</td>\n",
              "    </tr>\n",
              "    <tr>\n",
              "      <th>8</th>\n",
              "      <td>1.0</td>\n",
              "      <td>0.0</td>\n",
              "    </tr>\n",
              "    <tr>\n",
              "      <th>9</th>\n",
              "      <td>2.0</td>\n",
              "      <td>2.0</td>\n",
              "    </tr>\n",
              "    <tr>\n",
              "      <th>10</th>\n",
              "      <td>1.0</td>\n",
              "      <td>1.0</td>\n",
              "    </tr>\n",
              "    <tr>\n",
              "      <th>11</th>\n",
              "      <td>0.0</td>\n",
              "      <td>0.0</td>\n",
              "    </tr>\n",
              "    <tr>\n",
              "      <th>12</th>\n",
              "      <td>0.0</td>\n",
              "      <td>0.0</td>\n",
              "    </tr>\n",
              "    <tr>\n",
              "      <th>13</th>\n",
              "      <td>1.0</td>\n",
              "      <td>1.0</td>\n",
              "    </tr>\n",
              "    <tr>\n",
              "      <th>14</th>\n",
              "      <td>0.0</td>\n",
              "      <td>0.0</td>\n",
              "    </tr>\n",
              "    <tr>\n",
              "      <th>15</th>\n",
              "      <td>0.0</td>\n",
              "      <td>0.0</td>\n",
              "    </tr>\n",
              "    <tr>\n",
              "      <th>16</th>\n",
              "      <td>0.0</td>\n",
              "      <td>0.0</td>\n",
              "    </tr>\n",
              "    <tr>\n",
              "      <th>17</th>\n",
              "      <td>0.0</td>\n",
              "      <td>0.0</td>\n",
              "    </tr>\n",
              "    <tr>\n",
              "      <th>18</th>\n",
              "      <td>0.0</td>\n",
              "      <td>0.0</td>\n",
              "    </tr>\n",
              "    <tr>\n",
              "      <th>19</th>\n",
              "      <td>0.0</td>\n",
              "      <td>0.0</td>\n",
              "    </tr>\n",
              "  </tbody>\n",
              "</table>\n",
              "</div>\n",
              "      <button class=\"colab-df-convert\" onclick=\"convertToInteractive('df-d3c65bc7-b475-4804-beff-69077c808a2b')\"\n",
              "              title=\"Convert this dataframe to an interactive table.\"\n",
              "              style=\"display:none;\">\n",
              "        \n",
              "  <svg xmlns=\"http://www.w3.org/2000/svg\" height=\"24px\"viewBox=\"0 0 24 24\"\n",
              "       width=\"24px\">\n",
              "    <path d=\"M0 0h24v24H0V0z\" fill=\"none\"/>\n",
              "    <path d=\"M18.56 5.44l.94 2.06.94-2.06 2.06-.94-2.06-.94-.94-2.06-.94 2.06-2.06.94zm-11 1L8.5 8.5l.94-2.06 2.06-.94-2.06-.94L8.5 2.5l-.94 2.06-2.06.94zm10 10l.94 2.06.94-2.06 2.06-.94-2.06-.94-.94-2.06-.94 2.06-2.06.94z\"/><path d=\"M17.41 7.96l-1.37-1.37c-.4-.4-.92-.59-1.43-.59-.52 0-1.04.2-1.43.59L10.3 9.45l-7.72 7.72c-.78.78-.78 2.05 0 2.83L4 21.41c.39.39.9.59 1.41.59.51 0 1.02-.2 1.41-.59l7.78-7.78 2.81-2.81c.8-.78.8-2.07 0-2.86zM5.41 20L4 18.59l7.72-7.72 1.47 1.35L5.41 20z\"/>\n",
              "  </svg>\n",
              "      </button>\n",
              "      \n",
              "  <style>\n",
              "    .colab-df-container {\n",
              "      display:flex;\n",
              "      flex-wrap:wrap;\n",
              "      gap: 12px;\n",
              "    }\n",
              "\n",
              "    .colab-df-convert {\n",
              "      background-color: #E8F0FE;\n",
              "      border: none;\n",
              "      border-radius: 50%;\n",
              "      cursor: pointer;\n",
              "      display: none;\n",
              "      fill: #1967D2;\n",
              "      height: 32px;\n",
              "      padding: 0 0 0 0;\n",
              "      width: 32px;\n",
              "    }\n",
              "\n",
              "    .colab-df-convert:hover {\n",
              "      background-color: #E2EBFA;\n",
              "      box-shadow: 0px 1px 2px rgba(60, 64, 67, 0.3), 0px 1px 3px 1px rgba(60, 64, 67, 0.15);\n",
              "      fill: #174EA6;\n",
              "    }\n",
              "\n",
              "    [theme=dark] .colab-df-convert {\n",
              "      background-color: #3B4455;\n",
              "      fill: #D2E3FC;\n",
              "    }\n",
              "\n",
              "    [theme=dark] .colab-df-convert:hover {\n",
              "      background-color: #434B5C;\n",
              "      box-shadow: 0px 1px 3px 1px rgba(0, 0, 0, 0.15);\n",
              "      filter: drop-shadow(0px 1px 2px rgba(0, 0, 0, 0.3));\n",
              "      fill: #FFFFFF;\n",
              "    }\n",
              "  </style>\n",
              "\n",
              "      <script>\n",
              "        const buttonEl =\n",
              "          document.querySelector('#df-d3c65bc7-b475-4804-beff-69077c808a2b button.colab-df-convert');\n",
              "        buttonEl.style.display =\n",
              "          google.colab.kernel.accessAllowed ? 'block' : 'none';\n",
              "\n",
              "        async function convertToInteractive(key) {\n",
              "          const element = document.querySelector('#df-d3c65bc7-b475-4804-beff-69077c808a2b');\n",
              "          const dataTable =\n",
              "            await google.colab.kernel.invokeFunction('convertToInteractive',\n",
              "                                                     [key], {});\n",
              "          if (!dataTable) return;\n",
              "\n",
              "          const docLinkHtml = 'Like what you see? Visit the ' +\n",
              "            '<a target=\"_blank\" href=https://colab.research.google.com/notebooks/data_table.ipynb>data table notebook</a>'\n",
              "            + ' to learn more about interactive tables.';\n",
              "          element.innerHTML = '';\n",
              "          dataTable['output_type'] = 'display_data';\n",
              "          await google.colab.output.renderOutput(dataTable, element);\n",
              "          const docLink = document.createElement('div');\n",
              "          docLink.innerHTML = docLinkHtml;\n",
              "          element.appendChild(docLink);\n",
              "        }\n",
              "      </script>\n",
              "    </div>\n",
              "  </div>\n",
              "  "
            ]
          },
          "metadata": {},
          "execution_count": 547
        }
      ]
    },
    {
      "cell_type": "markdown",
      "source": [
        "# Conclusion"
      ],
      "metadata": {
        "id": "80EYXQiAJIq-"
      }
    },
    {
      "cell_type": "markdown",
      "source": [
        "Based on this luke's hair lost dataset, i can conclude that what really effected somebody hair loss is how many coffee you consume a day, your hair dandruff and stress level, in luke's case school assessment.\n",
        "\n",
        "because on the modelling we got an accuracy of 0.78 "
      ],
      "metadata": {
        "id": "IToqqGEUy-J4"
      }
    },
    {
      "cell_type": "code",
      "source": [
        "y_pred_test = full_imbhandling_improve.predict(X_test)\n",
        "\n",
        "print('Accuracy Score - Test Set   : ', accuracy_score(y_test, y_pred_test), '\\n')\n",
        "print('Classification Report : \\n', classification_report(y_test, y_pred_test), '\\n')\n",
        "print('Confusion Matrix      : \\n', ConfusionMatrixDisplay.from_estimator(full_imbhandling_improve, X_test, y_test, cmap='Reds'))"
      ],
      "metadata": {
        "colab": {
          "base_uri": "https://localhost:8080/",
          "height": 557
        },
        "id": "9Duadi_gx8jT",
        "outputId": "99506079-2195-4637-b6f0-cf70c0406b75"
      },
      "execution_count": null,
      "outputs": [
        {
          "output_type": "stream",
          "name": "stdout",
          "text": [
            "Accuracy Score - Test Set   :  0.7875 \n",
            "\n",
            "Classification Report : \n",
            "               precision    recall  f1-score   support\n",
            "\n",
            "         0.0       0.78      0.91      0.84        34\n",
            "         1.0       0.81      0.64      0.71        33\n",
            "         2.0       0.79      0.85      0.81        13\n",
            "\n",
            "    accuracy                           0.79        80\n",
            "   macro avg       0.79      0.80      0.79        80\n",
            "weighted avg       0.79      0.79      0.78        80\n",
            " \n",
            "\n",
            "Confusion Matrix      : \n",
            " <sklearn.metrics._plot.confusion_matrix.ConfusionMatrixDisplay object at 0x7f8a18fdb650>\n"
          ]
        },
        {
          "output_type": "display_data",
          "data": {
            "text/plain": [
              "<Figure size 432x288 with 2 Axes>"
            ],
            "image/png": "[encoded data removed]"
          },
          "metadata": {
            "needs_background": "light"
          }
        }
      ]
    },
    {
      "cell_type": "markdown",
      "source": [
        "As we can see above is our model did not predict number 2 false, since number 2 is the 'Many' hair loss level. It means that i want to focus on the recall 2 because its the false negative one, and on this case we it have an 0.85 score that mean i can conclude my model works well."
      ],
      "metadata": {
        "id": "XxNMMkr1x8Q5"
      }
    },
    {
      "cell_type": "markdown",
      "source": [
        "For further usage we can use my model for predicting somebody hair loss by theyre habit as above (How many coffee you consume a day, your hair dandruff and stress level) "
      ],
      "metadata": {
        "id": "wwHRrBA92FVc"
      }
    },
    {
      "cell_type": "markdown",
      "source": [
        "# Model Deploy"
      ],
      "metadata": {
        "id": "YHOom9x24hPQ"
      }
    },
    {
      "cell_type": "code",
      "source": [
        "import pickle"
      ],
      "metadata": {
        "id": "iSii9I4i4iyZ"
      },
      "execution_count": 553,
      "outputs": []
    },
    {
      "cell_type": "code",
      "source": [
        "# save model\n",
        "pickle.dump(full_imbhandling_improve, open(\"hair_loss.pkl\", \"wb\"))"
      ],
      "metadata": {
        "id": "4dMMnyrh6sOF"
      },
      "execution_count": 554,
      "outputs": []
    },
    {
      "cell_type": "code",
      "source": [
        "model = pickle.load(open(\"hair_loss.pkl\", \"rb\"))"
      ],
      "metadata": {
        "id": "vURH9rP24kKH"
      },
      "execution_count": 555,
      "outputs": []
    },
    {
      "cell_type": "code",
      "source": [
        "clas = model.predict(inf_final).tolist()[0]\n",
        "clas"
      ],
      "metadata": {
        "colab": {
          "base_uri": "https://localhost:8080/"
        },
        "id": "XDrXebR37_N9",
        "outputId": "a4286f8a-159a-4a75-f8bc-e3a9512facb8"
      },
      "execution_count": 556,
      "outputs": [
        {
          "output_type": "execute_result",
          "data": {
            "text/plain": [
              "2.0"
            ]
          },
          "metadata": {},
          "execution_count": 556
        }
      ]
    }
  ]
}